{
 "cells": [
  {
   "cell_type": "markdown",
   "metadata": {},
   "source": [
    "# Data Analysis and Visualization\n",
    "## Importing Libraries and Setting up the Environment"
   ]
  },
  {
   "cell_type": "code",
   "execution_count": 1,
   "metadata": {},
   "outputs": [],
   "source": [
    "import pandas as pd\n",
    "import os\n",
    "from lib.GraphDB_test import GraphDB\n",
    "from lib.Visualizer_test import Visualizer\n",
    "\n",
    "resultdir = \"analysis/\""
   ]
  },
  {
   "cell_type": "markdown",
   "metadata": {},
   "source": [
    "## Setup Knowledge Graph"
   ]
  },
  {
   "cell_type": "code",
   "execution_count": 2,
   "metadata": {},
   "outputs": [],
   "source": [
    "URI = \"bolt://localhost:7687\"\n",
    "USER = \"neo4j\"\n",
    "PASSWORD = \"healthcare\"  # Change this to your Neo4j database password\n",
    "DBNAME = \"maingraph\"\n",
    "  \n",
    "graph_handler = GraphDB(uri=URI, user=USER, password=PASSWORD, database=DBNAME)"
   ]
  },
  {
   "cell_type": "markdown",
   "metadata": {},
   "source": [
    "## Data Analysis"
   ]
  },
  {
   "cell_type": "code",
   "execution_count": 3,
   "metadata": {},
   "outputs": [],
   "source": [
    "# Get all nodes and relations query: \"MATCH (n)-[r]->(m) RETURN n,r,m\"\n",
    "query = \"MATCH (n)-[r]->(m) RETURN n,r,m LIMIT 100\"\n",
    "result = graph_handler.fetch_data(query=query)"
   ]
  },
  {
   "cell_type": "code",
   "execution_count": 4,
   "metadata": {},
   "outputs": [
    {
     "name": "stdout",
     "output_type": "stream",
     "text": [
      "Result contains 16 records\n"
     ]
    }
   ],
   "source": [
    "print(f\"Result contains {len(result)} records\")"
   ]
  },
  {
   "cell_type": "markdown",
   "metadata": {},
   "source": [
    "## Data Visualization"
   ]
  },
  {
   "cell_type": "code",
   "execution_count": 5,
   "metadata": {},
   "outputs": [
    {
     "data": {
      "text/html": [
       "<div>\n",
       "<style scoped>\n",
       "    .dataframe tbody tr th:only-of-type {\n",
       "        vertical-align: middle;\n",
       "    }\n",
       "\n",
       "    .dataframe tbody tr th {\n",
       "        vertical-align: top;\n",
       "    }\n",
       "\n",
       "    .dataframe thead th {\n",
       "        text-align: right;\n",
       "    }\n",
       "</style>\n",
       "<table border=\"1\" class=\"dataframe\">\n",
       "  <thead>\n",
       "    <tr style=\"text-align: right;\">\n",
       "      <th></th>\n",
       "      <th>hospital</th>\n",
       "      <th>sa2</th>\n",
       "      <th>distance_time</th>\n",
       "      <th>accessible</th>\n",
       "      <th>further_than_2h</th>\n",
       "    </tr>\n",
       "  </thead>\n",
       "  <tbody>\n",
       "    <tr>\n",
       "      <th>0</th>\n",
       "      <td>Queanbeyan Hospital</td>\n",
       "      <td>Karabar</td>\n",
       "      <td>374.55953792185795</td>\n",
       "      <td>True</td>\n",
       "      <td>False</td>\n",
       "    </tr>\n",
       "    <tr>\n",
       "      <th>1</th>\n",
       "      <td>Queanbeyan Hospital</td>\n",
       "      <td>Queanbeyan</td>\n",
       "      <td>202.83563991523084</td>\n",
       "      <td>True</td>\n",
       "      <td>False</td>\n",
       "    </tr>\n",
       "    <tr>\n",
       "      <th>2</th>\n",
       "      <td>Queanbeyan Hospital</td>\n",
       "      <td>Queanbeyan - East</td>\n",
       "      <td>272.3847457627118</td>\n",
       "      <td>True</td>\n",
       "      <td>False</td>\n",
       "    </tr>\n",
       "    <tr>\n",
       "      <th>3</th>\n",
       "      <td>Queanbeyan Hospital</td>\n",
       "      <td>Googong</td>\n",
       "      <td>1759.8287599881621</td>\n",
       "      <td>True</td>\n",
       "      <td>False</td>\n",
       "    </tr>\n",
       "    <tr>\n",
       "      <th>4</th>\n",
       "      <td>Queanbeyan Hospital</td>\n",
       "      <td>Queanbeyan Surrounds</td>\n",
       "      <td>1759.8287599881621</td>\n",
       "      <td>True</td>\n",
       "      <td>False</td>\n",
       "    </tr>\n",
       "  </tbody>\n",
       "</table>\n",
       "</div>"
      ],
      "text/plain": [
       "              hospital                   sa2       distance_time  accessible  \\\n",
       "0  Queanbeyan Hospital               Karabar  374.55953792185795        True   \n",
       "1  Queanbeyan Hospital            Queanbeyan  202.83563991523084        True   \n",
       "2  Queanbeyan Hospital     Queanbeyan - East   272.3847457627118        True   \n",
       "3  Queanbeyan Hospital               Googong  1759.8287599881621        True   \n",
       "4  Queanbeyan Hospital  Queanbeyan Surrounds  1759.8287599881621        True   \n",
       "\n",
       "   further_than_2h  \n",
       "0            False  \n",
       "1            False  \n",
       "2            False  \n",
       "3            False  \n",
       "4            False  "
      ]
     },
     "execution_count": 5,
     "metadata": {},
     "output_type": "execute_result"
    }
   ],
   "source": [
    "visualizer = Visualizer(seed=42)\n",
    "network_df = visualizer.make_network_df(graph_dict=result)\n",
    "network_df.head()"
   ]
  },
  {
   "cell_type": "code",
   "execution_count": 6,
   "metadata": {},
   "outputs": [
    {
     "name": "stdout",
     "output_type": "stream",
     "text": [
      "Creating nodes...\n",
      "Creating edges...\n"
     ]
    },
    {
     "name": "stderr",
     "output_type": "stream",
     "text": [
      "100it [00:00, 165325.34it/s]\n"
     ]
    },
    {
     "name": "stdout",
     "output_type": "stream",
     "text": [
      "Creating layout...\n",
      "Creating edge traces...\n"
     ]
    },
    {
     "name": "stderr",
     "output_type": "stream",
     "text": [
      "100%|██████████| 100/100 [00:00<?, ?it/s]\n"
     ]
    },
    {
     "name": "stdout",
     "output_type": "stream",
     "text": [
      "Creating node traces...\n"
     ]
    },
    {
     "name": "stderr",
     "output_type": "stream",
     "text": [
      "100%|██████████| 36/36 [00:00<?, ?it/s]\n"
     ]
    },
    {
     "name": "stdout",
     "output_type": "stream",
     "text": [
      "Annotating nodes...\n"
     ]
    },
    {
     "name": "stderr",
     "output_type": "stream",
     "text": [
      "36it [00:00, ?it/s]\n"
     ]
    },
    {
     "name": "stdout",
     "output_type": "stream",
     "text": [
      "Annotating edges...\n"
     ]
    },
    {
     "name": "stderr",
     "output_type": "stream",
     "text": [
      "100%|██████████| 100/100 [00:00<00:00, 99085.85it/s]"
     ]
    },
    {
     "name": "stdout",
     "output_type": "stream",
     "text": [
      "['\\n                Hospital: Queanbeyan Hospital\\n                SA2: Karabar\\n                ', '\\n                Hospital: Queanbeyan Hospital\\n                SA2: Queanbeyan\\n                ', '\\n                Hospital: Queanbeyan Hospital\\n                SA2: Queanbeyan - East\\n                ', '\\n                Hospital: Queanbeyan Hospital\\n                SA2: Googong\\n                ', '\\n                Hospital: Queanbeyan Hospital\\n                SA2: Queanbeyan Surrounds\\n                ']\n",
      "Finalizing plot...\n"
     ]
    },
    {
     "name": "stderr",
     "output_type": "stream",
     "text": [
      "\n"
     ]
    },
    {
     "data": {
      "application/vnd.plotly.v1+json": {
       "config": {
        "plotlyServerURL": "https://plot.ly"
       },
       "data": [
        {
         "hoverinfo": "text",
         "line": {
          "color": "#888",
          "width": 1
         },
         "mode": "lines",
         "showlegend": false,
         "text": [
          "\n                Hospital: Queanbeyan Hospital\n                SA2: Karabar\n                ",
          "\n                Hospital: Queanbeyan Hospital\n                SA2: Queanbeyan\n                ",
          "\n                Hospital: Queanbeyan Hospital\n                SA2: Queanbeyan - East\n                ",
          "\n                Hospital: Queanbeyan Hospital\n                SA2: Googong\n                ",
          "\n                Hospital: Queanbeyan Hospital\n                SA2: Queanbeyan Surrounds\n                ",
          "\n                Hospital: Queanbeyan Hospital\n                SA2: Queanbeyan West - Jerrabomberra\n                ",
          "\n                Hospital: Brindabella Endoscopy and Day Surgery Centre\n                SA2: Karabar\n                ",
          "\n                Hospital: Brindabella Endoscopy and Day Surgery Centre\n                SA2: Queanbeyan\n                ",
          "\n                Hospital: Brindabella Endoscopy and Day Surgery Centre\n                SA2: Queanbeyan - East\n                ",
          "\n                Hospital: Brindabella Endoscopy and Day Surgery Centre\n                SA2: Googong\n                ",
          "\n                Hospital: Brindabella Endoscopy and Day Surgery Centre\n                SA2: Queanbeyan Surrounds\n                ",
          "\n                Hospital: Brindabella Endoscopy and Day Surgery Centre\n                SA2: Queanbeyan West - Jerrabomberra\n                ",
          "\n                Hospital: Brindabella Endoscopy and Day Surgery Centre\n                SA2: Cooma\n                ",
          "\n                Hospital: Brindabella Endoscopy and Day Surgery Centre\n                SA2: Cooma Surrounds\n                ",
          "\n                Hospital: Brindabella Endoscopy and Day Surgery Centre\n                SA2: Jindabyne - Berridale\n                ",
          "\n                Hospital: National Capital Private Hospital\n                SA2: Karabar\n                ",
          "\n                Hospital: National Capital Private Hospital\n                SA2: Queanbeyan\n                ",
          "\n                Hospital: National Capital Private Hospital\n                SA2: Queanbeyan - East\n                ",
          "\n                Hospital: National Capital Private Hospital\n                SA2: Googong\n                ",
          "\n                Hospital: National Capital Private Hospital\n                SA2: Queanbeyan Surrounds\n                ",
          "\n                Hospital: National Capital Private Hospital\n                SA2: Queanbeyan West - Jerrabomberra\n                ",
          "\n                Hospital: National Capital Private Hospital\n                SA2: Cooma\n                ",
          "\n                Hospital: National Capital Private Hospital\n                SA2: Cooma Surrounds\n                ",
          "\n                Hospital: National Capital Private Hospital\n                SA2: Jindabyne - Berridale\n                ",
          "\n                Hospital: The Canberra Hospital\n                SA2: Karabar\n                ",
          "\n                Hospital: The Canberra Hospital\n                SA2: Queanbeyan\n                ",
          "\n                Hospital: The Canberra Hospital\n                SA2: Queanbeyan - East\n                ",
          "\n                Hospital: The Canberra Hospital\n                SA2: Googong\n                ",
          "\n                Hospital: The Canberra Hospital\n                SA2: Queanbeyan Surrounds\n                ",
          "\n                Hospital: The Canberra Hospital\n                SA2: Queanbeyan West - Jerrabomberra\n                ",
          "\n                Hospital: The Canberra Hospital\n                SA2: Cooma\n                ",
          "\n                Hospital: The Canberra Hospital\n                SA2: Cooma Surrounds\n                ",
          "\n                Hospital: The Canberra Hospital\n                SA2: Jindabyne - Berridale\n                ",
          "\n                Hospital: Canberra Imaging Group Angiography/Interventional Suite\n                SA2: Karabar\n                ",
          "\n                Hospital: Canberra Imaging Group Angiography/Interventional Suite\n                SA2: Queanbeyan\n                ",
          "\n                Hospital: Canberra Imaging Group Angiography/Interventional Suite\n                SA2: Queanbeyan - East\n                ",
          "\n                Hospital: Canberra Imaging Group Angiography/Interventional Suite\n                SA2: Googong\n                ",
          "\n                Hospital: Canberra Imaging Group Angiography/Interventional Suite\n                SA2: Queanbeyan Surrounds\n                ",
          "\n                Hospital: Canberra Imaging Group Angiography/Interventional Suite\n                SA2: Queanbeyan West - Jerrabomberra\n                ",
          "\n                Hospital: Bombala Multi Purpose Service\n                SA2: Bombala\n                ",
          "\n                Hospital: Bombala Multi Purpose Service\n                SA2: Cooma\n                ",
          "\n                Hospital: Bombala Multi Purpose Service\n                SA2: Cooma Surrounds\n                ",
          "\n                Hospital: Bombala Multi Purpose Service\n                SA2: Jindabyne - Berridale\n                ",
          "\n                Hospital: Bombala Multi Purpose Service\n                SA2: Bega - Tathra\n                ",
          "\n                Hospital: Bombala Multi Purpose Service\n                SA2: Bega-Eden Hinterland\n                ",
          "\n                Hospital: Bombala Multi Purpose Service\n                SA2: Eden\n                ",
          "\n                Hospital: Bombala Multi Purpose Service\n                SA2: Merimbula - Tura Beach\n                ",
          "\n                Hospital: Delegate Multi Purpose Service\n                SA2: Bombala\n                ",
          "\n                Hospital: Delegate Multi Purpose Service\n                SA2: Eden\n                ",
          "\n                Hospital: Delegate Multi Purpose Service\n                SA2: Merimbula - Tura Beach\n                ",
          "\n                Hospital: Pambula Hospital\n                SA2: Bombala\n                ",
          "\n                Hospital: Pambula Hospital\n                SA2: Bega - Tathra\n                ",
          "\n                Hospital: Pambula Hospital\n                SA2: Bega-Eden Hinterland\n                ",
          "\n                Hospital: Pambula Hospital\n                SA2: Eden\n                ",
          "\n                Hospital: Pambula Hospital\n                SA2: Merimbula - Tura Beach\n                ",
          "\n                Hospital: Cooma Hospital\n                SA2: Bombala\n                ",
          "\n                Hospital: Cooma Hospital\n                SA2: Cooma\n                ",
          "\n                Hospital: Cooma Hospital\n                SA2: Cooma Surrounds\n                ",
          "\n                Hospital: Cooma Hospital\n                SA2: Jindabyne - Berridale\n                ",
          "\n                Hospital: Cooma Hospital\n                SA2: Bega-Eden Hinterland\n                ",
          "\n                Hospital: Bega Valley Private Hospital\n                SA2: Bombala\n                ",
          "\n                Hospital: Bega Valley Private Hospital\n                SA2: Bega - Tathra\n                ",
          "\n                Hospital: Bega Valley Private Hospital\n                SA2: Bega-Eden Hinterland\n                ",
          "\n                Hospital: Bega Valley Private Hospital\n                SA2: Deua - Wadbilliga\n                ",
          "\n                Hospital: Bega Valley Private Hospital\n                SA2: Eden\n                ",
          "\n                Hospital: Bega Valley Private Hospital\n                SA2: Merimbula - Tura Beach\n                ",
          "\n                Hospital: Batemans Bay Hospital\n                SA2: Batemans Bay\n                ",
          "\n                Hospital: Batemans Bay Hospital\n                SA2: Batemans Bay - South\n                ",
          "\n                Hospital: Batemans Bay Hospital\n                SA2: Broulee - Tomakin\n                ",
          "\n                Hospital: Batemans Bay Hospital\n                SA2: Deua - Wadbilliga\n                ",
          "\n                Hospital: Batemans Bay Hospital\n                SA2: Eurobodalla Hinterland\n                ",
          "\n                Hospital: Batemans Bay Hospital\n                SA2: Moruya - Tuross Head\n                ",
          "\n                Hospital: Mogo Day Surgery\n                SA2: Batemans Bay\n                ",
          "\n                Hospital: Mogo Day Surgery\n                SA2: Batemans Bay - South\n                ",
          "\n                Hospital: Mogo Day Surgery\n                SA2: Broulee - Tomakin\n                ",
          "\n                Hospital: Mogo Day Surgery\n                SA2: Deua - Wadbilliga\n                ",
          "\n                Hospital: Mogo Day Surgery\n                SA2: Eurobodalla Hinterland\n                ",
          "\n                Hospital: Mogo Day Surgery\n                SA2: Moruya - Tuross Head\n                ",
          "\n                Hospital: Moruya Hospital\n                SA2: Batemans Bay\n                ",
          "\n                Hospital: Moruya Hospital\n                SA2: Batemans Bay - South\n                ",
          "\n                Hospital: Moruya Hospital\n                SA2: Bega - Tathra\n                ",
          "\n                Hospital: Moruya Hospital\n                SA2: Broulee - Tomakin\n                ",
          "\n                Hospital: Moruya Hospital\n                SA2: Deua - Wadbilliga\n                ",
          "\n                Hospital: Moruya Hospital\n                SA2: Eurobodalla Hinterland\n                ",
          "\n                Hospital: Moruya Hospital\n                SA2: Moruya - Tuross Head\n                ",
          "\n                Hospital: Ulladulla Endoscopy and Medical Centre\n                SA2: Batemans Bay\n                ",
          "\n                Hospital: Ulladulla Endoscopy and Medical Centre\n                SA2: Batemans Bay - South\n                ",
          "\n                Hospital: Ulladulla Endoscopy and Medical Centre\n                SA2: Broulee - Tomakin\n                ",
          "\n                Hospital: Ulladulla Endoscopy and Medical Centre\n                SA2: Eurobodalla Hinterland\n                ",
          "\n                Hospital: Ulladulla Endoscopy and Medical Centre\n                SA2: Moruya - Tuross Head\n                ",
          "\n                Hospital: Milton Ulladulla Hospital\n                SA2: Batemans Bay\n                ",
          "\n                Hospital: Milton Ulladulla Hospital\n                SA2: Batemans Bay - South\n                ",
          "\n                Hospital: Milton Ulladulla Hospital\n                SA2: Broulee - Tomakin\n                ",
          "\n                Hospital: Milton Ulladulla Hospital\n                SA2: Eurobodalla Hinterland\n                ",
          "\n                Hospital: Milton Ulladulla Hospital\n                SA2: Moruya - Tuross Head\n                ",
          "\n                Hospital: South East Regional Hospital\n                SA2: Bega - Tathra\n                ",
          "\n                Hospital: South East Regional Hospital\n                SA2: Bega-Eden Hinterland\n                ",
          "\n                Hospital: South East Regional Hospital\n                SA2: Deua - Wadbilliga\n                ",
          "\n                Hospital: South East Regional Hospital\n                SA2: Eden\n                ",
          "\n                Hospital: South East Regional Hospital\n                SA2: Merimbula - Tura Beach\n                "
         ],
         "type": "scatter",
         "x": [
          -0.5171672302255039,
          -0.5014010050292314,
          null,
          -0.5171672302255039,
          -0.3565690115880619,
          null,
          -0.5171672302255039,
          -0.4849591611414755,
          null,
          -0.5171672302255039,
          -0.4134902515286454,
          null,
          -0.5171672302255039,
          -0.5429698551778963,
          null,
          -0.5171672302255039,
          -0.4303194711445909,
          null,
          -0.34357116449851804,
          -0.5014010050292314,
          null,
          -0.34357116449851804,
          -0.3565690115880619,
          null,
          -0.34357116449851804,
          -0.4849591611414755,
          null,
          -0.34357116449851804,
          -0.4134902515286454,
          null,
          -0.34357116449851804,
          -0.5429698551778963,
          null,
          -0.34357116449851804,
          -0.4303194711445909,
          null,
          -0.34357116449851804,
          -0.224836654966337,
          null,
          -0.34357116449851804,
          -0.18582247664866394,
          null,
          -0.34357116449851804,
          -0.1493452365500107,
          null,
          -0.3152418764583599,
          -0.5014010050292314,
          null,
          -0.3152418764583599,
          -0.3565690115880619,
          null,
          -0.3152418764583599,
          -0.4849591611414755,
          null,
          -0.3152418764583599,
          -0.4134902515286454,
          null,
          -0.3152418764583599,
          -0.5429698551778963,
          null,
          -0.3152418764583599,
          -0.4303194711445909,
          null,
          -0.3152418764583599,
          -0.224836654966337,
          null,
          -0.3152418764583599,
          -0.18582247664866394,
          null,
          -0.3152418764583599,
          -0.1493452365500107,
          null,
          -0.3744066552027007,
          -0.5014010050292314,
          null,
          -0.3744066552027007,
          -0.3565690115880619,
          null,
          -0.3744066552027007,
          -0.4849591611414755,
          null,
          -0.3744066552027007,
          -0.4134902515286454,
          null,
          -0.3744066552027007,
          -0.5429698551778963,
          null,
          -0.3744066552027007,
          -0.4303194711445909,
          null,
          -0.3744066552027007,
          -0.224836654966337,
          null,
          -0.3744066552027007,
          -0.18582247664866394,
          null,
          -0.3744066552027007,
          -0.1493452365500107,
          null,
          -0.5700670801402847,
          -0.5014010050292314,
          null,
          -0.5700670801402847,
          -0.3565690115880619,
          null,
          -0.5700670801402847,
          -0.4849591611414755,
          null,
          -0.5700670801402847,
          -0.4134902515286454,
          null,
          -0.5700670801402847,
          -0.5429698551778963,
          null,
          -0.5700670801402847,
          -0.4303194711445909,
          null,
          0.021625636421028212,
          0.18871839527341835,
          null,
          0.021625636421028212,
          -0.224836654966337,
          null,
          0.021625636421028212,
          -0.18582247664866394,
          null,
          0.021625636421028212,
          -0.1493452365500107,
          null,
          0.021625636421028212,
          0.15945889492163634,
          null,
          0.021625636421028212,
          0.09203214478433709,
          null,
          0.021625636421028212,
          0.2235542934082726,
          null,
          0.021625636421028212,
          0.29057405024064276,
          null,
          0.3794509493430356,
          0.18871839527341835,
          null,
          0.3794509493430356,
          0.2235542934082726,
          null,
          0.3794509493430356,
          0.29057405024064276,
          null,
          0.22872548818809066,
          0.18871839527341835,
          null,
          0.22872548818809066,
          0.15945889492163634,
          null,
          0.22872548818809066,
          0.09203214478433709,
          null,
          0.22872548818809066,
          0.2235542934082726,
          null,
          0.22872548818809066,
          0.29057405024064276,
          null,
          -0.03079420213440921,
          0.18871839527341835,
          null,
          -0.03079420213440921,
          -0.224836654966337,
          null,
          -0.03079420213440921,
          -0.18582247664866394,
          null,
          -0.03079420213440921,
          -0.1493452365500107,
          null,
          -0.03079420213440921,
          0.09203214478433709,
          null,
          0.25713308995074124,
          0.18871839527341835,
          null,
          0.25713308995074124,
          0.15945889492163634,
          null,
          0.25713308995074124,
          0.09203214478433709,
          null,
          0.25713308995074124,
          0.2782601601775505,
          null,
          0.25713308995074124,
          0.2235542934082726,
          null,
          0.25713308995074124,
          0.29057405024064276,
          null,
          0.34370832459738143,
          0.41773904994749234,
          null,
          0.34370832459738143,
          0.3119851556513795,
          null,
          0.34370832459738143,
          0.25197932468106365,
          null,
          0.34370832459738143,
          0.2782601601775505,
          null,
          0.34370832459738143,
          0.20756343667134552,
          null,
          0.34370832459738143,
          0.3756127811980506,
          null,
          0.2707126726129159,
          0.41773904994749234,
          null,
          0.2707126726129159,
          0.3119851556513795,
          null,
          0.2707126726129159,
          0.25197932468106365,
          null,
          0.2707126726129159,
          0.2782601601775505,
          null,
          0.2707126726129159,
          0.20756343667134552,
          null,
          0.2707126726129159,
          0.3756127811980506,
          null,
          0.2672766378307358,
          0.41773904994749234,
          null,
          0.2672766378307358,
          0.3119851556513795,
          null,
          0.2672766378307358,
          0.15945889492163634,
          null,
          0.2672766378307358,
          0.25197932468106365,
          null,
          0.2672766378307358,
          0.2782601601775505,
          null,
          0.2672766378307358,
          0.20756343667134552,
          null,
          0.2672766378307358,
          0.3756127811980506,
          null,
          0.3712066128307197,
          0.41773904994749234,
          null,
          0.3712066128307197,
          0.3119851556513795,
          null,
          0.3712066128307197,
          0.25197932468106365,
          null,
          0.3712066128307197,
          0.20756343667134552,
          null,
          0.3712066128307197,
          0.3756127811980506,
          null,
          0.29052094885451923,
          0.41773904994749234,
          null,
          0.29052094885451923,
          0.3119851556513795,
          null,
          0.29052094885451923,
          0.25197932468106365,
          null,
          0.29052094885451923,
          0.20756343667134552,
          null,
          0.29052094885451923,
          0.3756127811980506,
          null,
          0.21312328485033394,
          0.15945889492163634,
          null,
          0.21312328485033394,
          0.09203214478433709,
          null,
          0.21312328485033394,
          0.2782601601775505,
          null,
          0.21312328485033394,
          0.2235542934082726,
          null,
          0.21312328485033394,
          0.29057405024064276,
          null
         ],
         "y": [
          0.8035399448950662,
          0.6853852491695522,
          null,
          0.8035399448950662,
          0.7545427367687962,
          null,
          0.8035399448950662,
          0.62185418040448,
          null,
          0.8035399448950662,
          0.7670109795328737,
          null,
          0.8035399448950662,
          0.6087209564177651,
          null,
          0.8035399448950662,
          0.7043955331699074,
          null,
          0.5775935865444637,
          0.6853852491695522,
          null,
          0.5775935865444637,
          0.7545427367687962,
          null,
          0.5775935865444637,
          0.62185418040448,
          null,
          0.5775935865444637,
          0.7670109795328737,
          null,
          0.5775935865444637,
          0.6087209564177651,
          null,
          0.5775935865444637,
          0.7043955331699074,
          null,
          0.5775935865444637,
          0.37264202440490146,
          null,
          0.5775935865444637,
          0.40958346019733105,
          null,
          0.5775935865444637,
          0.4506610449125589,
          null,
          0.6069954392722406,
          0.6853852491695522,
          null,
          0.6069954392722406,
          0.7545427367687962,
          null,
          0.6069954392722406,
          0.62185418040448,
          null,
          0.6069954392722406,
          0.7670109795328737,
          null,
          0.6069954392722406,
          0.6087209564177651,
          null,
          0.6069954392722406,
          0.7043955331699074,
          null,
          0.6069954392722406,
          0.37264202440490146,
          null,
          0.6069954392722406,
          0.40958346019733105,
          null,
          0.6069954392722406,
          0.4506610449125589,
          null,
          0.5480668289809651,
          0.6853852491695522,
          null,
          0.5480668289809651,
          0.7545427367687962,
          null,
          0.5480668289809651,
          0.62185418040448,
          null,
          0.5480668289809651,
          0.7670109795328737,
          null,
          0.5480668289809651,
          0.6087209564177651,
          null,
          0.5480668289809651,
          0.7043955331699074,
          null,
          0.5480668289809651,
          0.37264202440490146,
          null,
          0.5480668289809651,
          0.40958346019733105,
          null,
          0.5480668289809651,
          0.4506610449125589,
          null,
          0.7558627836908736,
          0.6853852491695522,
          null,
          0.7558627836908736,
          0.7545427367687962,
          null,
          0.7558627836908736,
          0.62185418040448,
          null,
          0.7558627836908736,
          0.7670109795328737,
          null,
          0.7558627836908736,
          0.6087209564177651,
          null,
          0.7558627836908736,
          0.7043955331699074,
          null,
          0.15617672244415104,
          0.13585905899101478,
          null,
          0.15617672244415104,
          0.37264202440490146,
          null,
          0.15617672244415104,
          0.40958346019733105,
          null,
          0.15617672244415104,
          0.4506610449125589,
          null,
          0.15617672244415104,
          -0.23690796205573758,
          null,
          0.15617672244415104,
          0.01596402055297011,
          null,
          0.15617672244415104,
          0.03806774050518431,
          null,
          0.15617672244415104,
          0.035376778047809566,
          null,
          0.15850520640088897,
          0.13585905899101478,
          null,
          0.15850520640088897,
          0.03806774050518431,
          null,
          0.15850520640088897,
          0.035376778047809566,
          null,
          -0.04136987428556561,
          0.13585905899101478,
          null,
          -0.04136987428556561,
          -0.23690796205573758,
          null,
          -0.04136987428556561,
          0.01596402055297011,
          null,
          -0.04136987428556561,
          0.03806774050518431,
          null,
          -0.04136987428556561,
          0.035376778047809566,
          null,
          0.2691546973624478,
          0.13585905899101478,
          null,
          0.2691546973624478,
          0.37264202440490146,
          null,
          0.2691546973624478,
          0.40958346019733105,
          null,
          0.2691546973624478,
          0.4506610449125589,
          null,
          0.2691546973624478,
          0.01596402055297011,
          null,
          -0.12368082859780291,
          0.13585905899101478,
          null,
          -0.12368082859780291,
          -0.23690796205573758,
          null,
          -0.12368082859780291,
          0.01596402055297011,
          null,
          -0.12368082859780291,
          -0.4609615145779024,
          null,
          -0.12368082859780291,
          0.03806774050518431,
          null,
          -0.12368082859780291,
          0.035376778047809566,
          null,
          -0.735756186041592,
          -0.8339415578708231,
          null,
          -0.735756186041592,
          -0.8604062500852201,
          null,
          -0.735756186041592,
          -0.892980723262323,
          null,
          -0.735756186041592,
          -0.4609615145779024,
          null,
          -0.735756186041592,
          -0.8554087157072657,
          null,
          -0.735756186041592,
          -0.8755597722239036,
          null,
          -0.7461394413670914,
          -0.8339415578708231,
          null,
          -0.7461394413670914,
          -0.8604062500852201,
          null,
          -0.7461394413670914,
          -0.892980723262323,
          null,
          -0.7461394413670914,
          -0.4609615145779024,
          null,
          -0.7461394413670914,
          -0.8554087157072657,
          null,
          -0.7461394413670914,
          -0.8755597722239036,
          null,
          -0.6511463421829216,
          -0.8339415578708231,
          null,
          -0.6511463421829216,
          -0.8604062500852201,
          null,
          -0.6511463421829216,
          -0.23690796205573758,
          null,
          -0.6511463421829216,
          -0.892980723262323,
          null,
          -0.6511463421829216,
          -0.4609615145779024,
          null,
          -0.6511463421829216,
          -0.8554087157072657,
          null,
          -0.6511463421829216,
          -0.8755597722239036,
          null,
          -0.9910260942016014,
          -0.8339415578708231,
          null,
          -0.9910260942016014,
          -0.8604062500852201,
          null,
          -0.9910260942016014,
          -0.892980723262323,
          null,
          -0.9910260942016014,
          -0.8554087157072657,
          null,
          -0.9910260942016014,
          -0.8755597722239036,
          null,
          -1,
          -0.8339415578708231,
          null,
          -1,
          -0.8604062500852201,
          null,
          -1,
          -0.892980723262323,
          null,
          -1,
          -0.8554087157072657,
          null,
          -1,
          -0.8755597722239036,
          null,
          -0.17067371020648714,
          -0.23690796205573758,
          null,
          -0.17067371020648714,
          0.01596402055297011,
          null,
          -0.17067371020648714,
          -0.4609615145779024,
          null,
          -0.17067371020648714,
          0.03806774050518431,
          null,
          -0.17067371020648714,
          0.035376778047809566,
          null
         ]
        },
        {
         "hoverinfo": "text",
         "marker": {
          "color": "red",
          "line": {
           "width": 1
          },
          "size": 10,
          "symbol": "square"
         },
         "mode": "markers",
         "name": "Hospitals",
         "text": [
          "\n                    Hospital: Queanbeyan Hospital\n                    ",
          "\n                    Hospital: Brindabella Endoscopy and Day Surgery Centre\n                    ",
          "\n                    Hospital: National Capital Private Hospital\n                    ",
          "\n                    Hospital: The Canberra Hospital\n                    ",
          "\n                    Hospital: Canberra Imaging Group Angiography/Interventional Suite\n                    ",
          "\n                    Hospital: Bombala Multi Purpose Service\n                    ",
          "\n                    Hospital: Delegate Multi Purpose Service\n                    ",
          "\n                    Hospital: Pambula Hospital\n                    ",
          "\n                    Hospital: Cooma Hospital\n                    ",
          "\n                    Hospital: Bega Valley Private Hospital\n                    ",
          "\n                    Hospital: Batemans Bay Hospital\n                    ",
          "\n                    Hospital: Mogo Day Surgery\n                    ",
          "\n                    Hospital: Moruya Hospital\n                    ",
          "\n                    Hospital: Ulladulla Endoscopy and Medical Centre\n                    ",
          "\n                    Hospital: Milton Ulladulla Hospital\n                    ",
          "\n                    Hospital: South East Regional Hospital\n                    "
         ],
         "type": "scatter",
         "x": [
          -0.5171672302255039,
          -0.34357116449851804,
          -0.3152418764583599,
          -0.3744066552027007,
          -0.5700670801402847,
          0.021625636421028212,
          0.3794509493430356,
          0.22872548818809066,
          -0.03079420213440921,
          0.25713308995074124,
          0.34370832459738143,
          0.2707126726129159,
          0.2672766378307358,
          0.3712066128307197,
          0.29052094885451923,
          0.21312328485033394
         ],
         "y": [
          0.8035399448950662,
          0.5775935865444637,
          0.6069954392722406,
          0.5480668289809651,
          0.7558627836908736,
          0.15617672244415104,
          0.15850520640088897,
          -0.04136987428556561,
          0.2691546973624478,
          -0.12368082859780291,
          -0.735756186041592,
          -0.7461394413670914,
          -0.6511463421829216,
          -0.9910260942016014,
          -1,
          -0.17067371020648714
         ]
        },
        {
         "hoverinfo": "text",
         "marker": {
          "color": "blue",
          "line": {
           "width": 1
          },
          "size": 10
         },
         "mode": "markers",
         "name": "SA2 Regions",
         "text": [
          "\n                    SA2: Karabar\n                    ",
          "\n                    SA2: Queanbeyan\n                    ",
          "\n                    SA2: Queanbeyan - East\n                    ",
          "\n                    SA2: Googong\n                    ",
          "\n                    SA2: Queanbeyan Surrounds\n                    ",
          "\n                    SA2: Queanbeyan West - Jerrabomberra\n                    ",
          "\n                    SA2: Cooma\n                    ",
          "\n                    SA2: Cooma Surrounds\n                    ",
          "\n                    SA2: Jindabyne - Berridale\n                    ",
          "\n                    SA2: Bombala\n                    ",
          "\n                    SA2: Bega - Tathra\n                    ",
          "\n                    SA2: Bega-Eden Hinterland\n                    ",
          "\n                    SA2: Eden\n                    ",
          "\n                    SA2: Merimbula - Tura Beach\n                    ",
          "\n                    SA2: Deua - Wadbilliga\n                    ",
          "\n                    SA2: Batemans Bay\n                    ",
          "\n                    SA2: Batemans Bay - South\n                    ",
          "\n                    SA2: Broulee - Tomakin\n                    ",
          "\n                    SA2: Eurobodalla Hinterland\n                    ",
          "\n                    SA2: Moruya - Tuross Head\n                    "
         ],
         "type": "scatter",
         "x": [
          -0.5014010050292314,
          -0.3565690115880619,
          -0.4849591611414755,
          -0.4134902515286454,
          -0.5429698551778963,
          -0.4303194711445909,
          -0.224836654966337,
          -0.18582247664866394,
          -0.1493452365500107,
          0.18871839527341835,
          0.15945889492163634,
          0.09203214478433709,
          0.2235542934082726,
          0.29057405024064276,
          0.2782601601775505,
          0.41773904994749234,
          0.3119851556513795,
          0.25197932468106365,
          0.20756343667134552,
          0.3756127811980506
         ],
         "y": [
          0.6853852491695522,
          0.7545427367687962,
          0.62185418040448,
          0.7670109795328737,
          0.6087209564177651,
          0.7043955331699074,
          0.37264202440490146,
          0.40958346019733105,
          0.4506610449125589,
          0.13585905899101478,
          -0.23690796205573758,
          0.01596402055297011,
          0.03806774050518431,
          0.035376778047809566,
          -0.4609615145779024,
          -0.8339415578708231,
          -0.8604062500852201,
          -0.892980723262323,
          -0.8554087157072657,
          -0.8755597722239036
         ]
        }
       ],
       "layout": {
        "hovermode": "closest",
        "margin": {
         "b": 60,
         "l": 60,
         "r": 60,
         "t": 60
        },
        "showlegend": true,
        "template": {
         "data": {
          "bar": [
           {
            "error_x": {
             "color": "#2a3f5f"
            },
            "error_y": {
             "color": "#2a3f5f"
            },
            "marker": {
             "line": {
              "color": "#E5ECF6",
              "width": 0.5
             },
             "pattern": {
              "fillmode": "overlay",
              "size": 10,
              "solidity": 0.2
             }
            },
            "type": "bar"
           }
          ],
          "barpolar": [
           {
            "marker": {
             "line": {
              "color": "#E5ECF6",
              "width": 0.5
             },
             "pattern": {
              "fillmode": "overlay",
              "size": 10,
              "solidity": 0.2
             }
            },
            "type": "barpolar"
           }
          ],
          "carpet": [
           {
            "aaxis": {
             "endlinecolor": "#2a3f5f",
             "gridcolor": "white",
             "linecolor": "white",
             "minorgridcolor": "white",
             "startlinecolor": "#2a3f5f"
            },
            "baxis": {
             "endlinecolor": "#2a3f5f",
             "gridcolor": "white",
             "linecolor": "white",
             "minorgridcolor": "white",
             "startlinecolor": "#2a3f5f"
            },
            "type": "carpet"
           }
          ],
          "choropleth": [
           {
            "colorbar": {
             "outlinewidth": 0,
             "ticks": ""
            },
            "type": "choropleth"
           }
          ],
          "contour": [
           {
            "colorbar": {
             "outlinewidth": 0,
             "ticks": ""
            },
            "colorscale": [
             [
              0,
              "#0d0887"
             ],
             [
              0.1111111111111111,
              "#46039f"
             ],
             [
              0.2222222222222222,
              "#7201a8"
             ],
             [
              0.3333333333333333,
              "#9c179e"
             ],
             [
              0.4444444444444444,
              "#bd3786"
             ],
             [
              0.5555555555555556,
              "#d8576b"
             ],
             [
              0.6666666666666666,
              "#ed7953"
             ],
             [
              0.7777777777777778,
              "#fb9f3a"
             ],
             [
              0.8888888888888888,
              "#fdca26"
             ],
             [
              1,
              "#f0f921"
             ]
            ],
            "type": "contour"
           }
          ],
          "contourcarpet": [
           {
            "colorbar": {
             "outlinewidth": 0,
             "ticks": ""
            },
            "type": "contourcarpet"
           }
          ],
          "heatmap": [
           {
            "colorbar": {
             "outlinewidth": 0,
             "ticks": ""
            },
            "colorscale": [
             [
              0,
              "#0d0887"
             ],
             [
              0.1111111111111111,
              "#46039f"
             ],
             [
              0.2222222222222222,
              "#7201a8"
             ],
             [
              0.3333333333333333,
              "#9c179e"
             ],
             [
              0.4444444444444444,
              "#bd3786"
             ],
             [
              0.5555555555555556,
              "#d8576b"
             ],
             [
              0.6666666666666666,
              "#ed7953"
             ],
             [
              0.7777777777777778,
              "#fb9f3a"
             ],
             [
              0.8888888888888888,
              "#fdca26"
             ],
             [
              1,
              "#f0f921"
             ]
            ],
            "type": "heatmap"
           }
          ],
          "heatmapgl": [
           {
            "colorbar": {
             "outlinewidth": 0,
             "ticks": ""
            },
            "colorscale": [
             [
              0,
              "#0d0887"
             ],
             [
              0.1111111111111111,
              "#46039f"
             ],
             [
              0.2222222222222222,
              "#7201a8"
             ],
             [
              0.3333333333333333,
              "#9c179e"
             ],
             [
              0.4444444444444444,
              "#bd3786"
             ],
             [
              0.5555555555555556,
              "#d8576b"
             ],
             [
              0.6666666666666666,
              "#ed7953"
             ],
             [
              0.7777777777777778,
              "#fb9f3a"
             ],
             [
              0.8888888888888888,
              "#fdca26"
             ],
             [
              1,
              "#f0f921"
             ]
            ],
            "type": "heatmapgl"
           }
          ],
          "histogram": [
           {
            "marker": {
             "pattern": {
              "fillmode": "overlay",
              "size": 10,
              "solidity": 0.2
             }
            },
            "type": "histogram"
           }
          ],
          "histogram2d": [
           {
            "colorbar": {
             "outlinewidth": 0,
             "ticks": ""
            },
            "colorscale": [
             [
              0,
              "#0d0887"
             ],
             [
              0.1111111111111111,
              "#46039f"
             ],
             [
              0.2222222222222222,
              "#7201a8"
             ],
             [
              0.3333333333333333,
              "#9c179e"
             ],
             [
              0.4444444444444444,
              "#bd3786"
             ],
             [
              0.5555555555555556,
              "#d8576b"
             ],
             [
              0.6666666666666666,
              "#ed7953"
             ],
             [
              0.7777777777777778,
              "#fb9f3a"
             ],
             [
              0.8888888888888888,
              "#fdca26"
             ],
             [
              1,
              "#f0f921"
             ]
            ],
            "type": "histogram2d"
           }
          ],
          "histogram2dcontour": [
           {
            "colorbar": {
             "outlinewidth": 0,
             "ticks": ""
            },
            "colorscale": [
             [
              0,
              "#0d0887"
             ],
             [
              0.1111111111111111,
              "#46039f"
             ],
             [
              0.2222222222222222,
              "#7201a8"
             ],
             [
              0.3333333333333333,
              "#9c179e"
             ],
             [
              0.4444444444444444,
              "#bd3786"
             ],
             [
              0.5555555555555556,
              "#d8576b"
             ],
             [
              0.6666666666666666,
              "#ed7953"
             ],
             [
              0.7777777777777778,
              "#fb9f3a"
             ],
             [
              0.8888888888888888,
              "#fdca26"
             ],
             [
              1,
              "#f0f921"
             ]
            ],
            "type": "histogram2dcontour"
           }
          ],
          "mesh3d": [
           {
            "colorbar": {
             "outlinewidth": 0,
             "ticks": ""
            },
            "type": "mesh3d"
           }
          ],
          "parcoords": [
           {
            "line": {
             "colorbar": {
              "outlinewidth": 0,
              "ticks": ""
             }
            },
            "type": "parcoords"
           }
          ],
          "pie": [
           {
            "automargin": true,
            "type": "pie"
           }
          ],
          "scatter": [
           {
            "fillpattern": {
             "fillmode": "overlay",
             "size": 10,
             "solidity": 0.2
            },
            "type": "scatter"
           }
          ],
          "scatter3d": [
           {
            "line": {
             "colorbar": {
              "outlinewidth": 0,
              "ticks": ""
             }
            },
            "marker": {
             "colorbar": {
              "outlinewidth": 0,
              "ticks": ""
             }
            },
            "type": "scatter3d"
           }
          ],
          "scattercarpet": [
           {
            "marker": {
             "colorbar": {
              "outlinewidth": 0,
              "ticks": ""
             }
            },
            "type": "scattercarpet"
           }
          ],
          "scattergeo": [
           {
            "marker": {
             "colorbar": {
              "outlinewidth": 0,
              "ticks": ""
             }
            },
            "type": "scattergeo"
           }
          ],
          "scattergl": [
           {
            "marker": {
             "colorbar": {
              "outlinewidth": 0,
              "ticks": ""
             }
            },
            "type": "scattergl"
           }
          ],
          "scattermapbox": [
           {
            "marker": {
             "colorbar": {
              "outlinewidth": 0,
              "ticks": ""
             }
            },
            "type": "scattermapbox"
           }
          ],
          "scatterpolar": [
           {
            "marker": {
             "colorbar": {
              "outlinewidth": 0,
              "ticks": ""
             }
            },
            "type": "scatterpolar"
           }
          ],
          "scatterpolargl": [
           {
            "marker": {
             "colorbar": {
              "outlinewidth": 0,
              "ticks": ""
             }
            },
            "type": "scatterpolargl"
           }
          ],
          "scatterternary": [
           {
            "marker": {
             "colorbar": {
              "outlinewidth": 0,
              "ticks": ""
             }
            },
            "type": "scatterternary"
           }
          ],
          "surface": [
           {
            "colorbar": {
             "outlinewidth": 0,
             "ticks": ""
            },
            "colorscale": [
             [
              0,
              "#0d0887"
             ],
             [
              0.1111111111111111,
              "#46039f"
             ],
             [
              0.2222222222222222,
              "#7201a8"
             ],
             [
              0.3333333333333333,
              "#9c179e"
             ],
             [
              0.4444444444444444,
              "#bd3786"
             ],
             [
              0.5555555555555556,
              "#d8576b"
             ],
             [
              0.6666666666666666,
              "#ed7953"
             ],
             [
              0.7777777777777778,
              "#fb9f3a"
             ],
             [
              0.8888888888888888,
              "#fdca26"
             ],
             [
              1,
              "#f0f921"
             ]
            ],
            "type": "surface"
           }
          ],
          "table": [
           {
            "cells": {
             "fill": {
              "color": "#EBF0F8"
             },
             "line": {
              "color": "white"
             }
            },
            "header": {
             "fill": {
              "color": "#C8D4E3"
             },
             "line": {
              "color": "white"
             }
            },
            "type": "table"
           }
          ]
         },
         "layout": {
          "annotationdefaults": {
           "arrowcolor": "#2a3f5f",
           "arrowhead": 0,
           "arrowwidth": 1
          },
          "autotypenumbers": "strict",
          "coloraxis": {
           "colorbar": {
            "outlinewidth": 0,
            "ticks": ""
           }
          },
          "colorscale": {
           "diverging": [
            [
             0,
             "#8e0152"
            ],
            [
             0.1,
             "#c51b7d"
            ],
            [
             0.2,
             "#de77ae"
            ],
            [
             0.3,
             "#f1b6da"
            ],
            [
             0.4,
             "#fde0ef"
            ],
            [
             0.5,
             "#f7f7f7"
            ],
            [
             0.6,
             "#e6f5d0"
            ],
            [
             0.7,
             "#b8e186"
            ],
            [
             0.8,
             "#7fbc41"
            ],
            [
             0.9,
             "#4d9221"
            ],
            [
             1,
             "#276419"
            ]
           ],
           "sequential": [
            [
             0,
             "#0d0887"
            ],
            [
             0.1111111111111111,
             "#46039f"
            ],
            [
             0.2222222222222222,
             "#7201a8"
            ],
            [
             0.3333333333333333,
             "#9c179e"
            ],
            [
             0.4444444444444444,
             "#bd3786"
            ],
            [
             0.5555555555555556,
             "#d8576b"
            ],
            [
             0.6666666666666666,
             "#ed7953"
            ],
            [
             0.7777777777777778,
             "#fb9f3a"
            ],
            [
             0.8888888888888888,
             "#fdca26"
            ],
            [
             1,
             "#f0f921"
            ]
           ],
           "sequentialminus": [
            [
             0,
             "#0d0887"
            ],
            [
             0.1111111111111111,
             "#46039f"
            ],
            [
             0.2222222222222222,
             "#7201a8"
            ],
            [
             0.3333333333333333,
             "#9c179e"
            ],
            [
             0.4444444444444444,
             "#bd3786"
            ],
            [
             0.5555555555555556,
             "#d8576b"
            ],
            [
             0.6666666666666666,
             "#ed7953"
            ],
            [
             0.7777777777777778,
             "#fb9f3a"
            ],
            [
             0.8888888888888888,
             "#fdca26"
            ],
            [
             1,
             "#f0f921"
            ]
           ]
          },
          "colorway": [
           "#636efa",
           "#EF553B",
           "#00cc96",
           "#ab63fa",
           "#FFA15A",
           "#19d3f3",
           "#FF6692",
           "#B6E880",
           "#FF97FF",
           "#FECB52"
          ],
          "font": {
           "color": "#2a3f5f"
          },
          "geo": {
           "bgcolor": "white",
           "lakecolor": "white",
           "landcolor": "#E5ECF6",
           "showlakes": true,
           "showland": true,
           "subunitcolor": "white"
          },
          "hoverlabel": {
           "align": "left"
          },
          "hovermode": "closest",
          "mapbox": {
           "style": "light"
          },
          "paper_bgcolor": "white",
          "plot_bgcolor": "#E5ECF6",
          "polar": {
           "angularaxis": {
            "gridcolor": "white",
            "linecolor": "white",
            "ticks": ""
           },
           "bgcolor": "#E5ECF6",
           "radialaxis": {
            "gridcolor": "white",
            "linecolor": "white",
            "ticks": ""
           }
          },
          "scene": {
           "xaxis": {
            "backgroundcolor": "#E5ECF6",
            "gridcolor": "white",
            "gridwidth": 2,
            "linecolor": "white",
            "showbackground": true,
            "ticks": "",
            "zerolinecolor": "white"
           },
           "yaxis": {
            "backgroundcolor": "#E5ECF6",
            "gridcolor": "white",
            "gridwidth": 2,
            "linecolor": "white",
            "showbackground": true,
            "ticks": "",
            "zerolinecolor": "white"
           },
           "zaxis": {
            "backgroundcolor": "#E5ECF6",
            "gridcolor": "white",
            "gridwidth": 2,
            "linecolor": "white",
            "showbackground": true,
            "ticks": "",
            "zerolinecolor": "white"
           }
          },
          "shapedefaults": {
           "line": {
            "color": "#2a3f5f"
           }
          },
          "ternary": {
           "aaxis": {
            "gridcolor": "white",
            "linecolor": "white",
            "ticks": ""
           },
           "baxis": {
            "gridcolor": "white",
            "linecolor": "white",
            "ticks": ""
           },
           "bgcolor": "#E5ECF6",
           "caxis": {
            "gridcolor": "white",
            "linecolor": "white",
            "ticks": ""
           }
          },
          "title": {
           "x": 0.05
          },
          "xaxis": {
           "automargin": true,
           "gridcolor": "white",
           "linecolor": "white",
           "ticks": "",
           "title": {
            "standoff": 15
           },
           "zerolinecolor": "white",
           "zerolinewidth": 2
          },
          "yaxis": {
           "automargin": true,
           "gridcolor": "white",
           "linecolor": "white",
           "ticks": "",
           "title": {
            "standoff": 15
           },
           "zerolinecolor": "white",
           "zerolinewidth": 2
          }
         }
        },
        "title": {
         "font": {
          "size": 20
         },
         "text": "<br>Network graph for Hospital and SA2 Graph"
        },
        "xaxis": {
         "showgrid": false,
         "showticklabels": false,
         "zeroline": false
        },
        "yaxis": {
         "showgrid": false,
         "showticklabels": false,
         "zeroline": false
        }
       }
      }
     },
     "metadata": {},
     "output_type": "display_data"
    },
    {
     "name": "stdout",
     "output_type": "stream",
     "text": [
      "Saving plot...\n",
      "Plot saved!\n"
     ]
    }
   ],
   "source": [
    "visualizer.plot_graph(network_df=network_df, save_path=os.path.join(resultdir, \"graph.html\"))"
   ]
  },
  {
   "cell_type": "markdown",
   "metadata": {},
   "source": [
    "## Cleaning Up"
   ]
  },
  {
   "cell_type": "code",
   "execution_count": 7,
   "metadata": {},
   "outputs": [],
   "source": [
    "graph_handler.close()"
   ]
  }
 ],
 "metadata": {
  "kernelspec": {
   "display_name": ".ke_venv",
   "language": "python",
   "name": "python3"
  },
  "language_info": {
   "codemirror_mode": {
    "name": "ipython",
    "version": 3
   },
   "file_extension": ".py",
   "mimetype": "text/x-python",
   "name": "python",
   "nbconvert_exporter": "python",
   "pygments_lexer": "ipython3",
   "version": "3.12.2"
  }
 },
 "nbformat": 4,
 "nbformat_minor": 2
}
