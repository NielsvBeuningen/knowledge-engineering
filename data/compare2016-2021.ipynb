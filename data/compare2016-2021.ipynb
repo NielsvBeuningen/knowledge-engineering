{
 "cells": [
  {
   "cell_type": "code",
   "execution_count": 216,
   "metadata": {},
   "outputs": [],
   "source": [
    "import pandas as pd\n",
    "import numpy as np\n",
    "import plotly.express as px"
   ]
  },
  {
   "cell_type": "code",
   "execution_count": 140,
   "metadata": {},
   "outputs": [
    {
     "name": "stdout",
     "output_type": "stream",
     "text": [
      "2288\n"
     ]
    },
    {
     "data": {
      "text/html": [
       "<div>\n",
       "<style scoped>\n",
       "    .dataframe tbody tr th:only-of-type {\n",
       "        vertical-align: middle;\n",
       "    }\n",
       "\n",
       "    .dataframe tbody tr th {\n",
       "        vertical-align: top;\n",
       "    }\n",
       "\n",
       "    .dataframe thead th {\n",
       "        text-align: right;\n",
       "    }\n",
       "</style>\n",
       "<table border=\"1\" class=\"dataframe\">\n",
       "  <thead>\n",
       "    <tr style=\"text-align: right;\">\n",
       "      <th></th>\n",
       "      <th>SA2_CODE_2016</th>\n",
       "      <th>SA2_NAME_2016</th>\n",
       "      <th>SA2_5DIG16</th>\n",
       "      <th>AREA_SQKM</th>\n",
       "      <th>NR_OF_PEOPLE_2016</th>\n",
       "      <th>NR_OF_PEOPLE_2016_%</th>\n",
       "      <th>POPULATION_DENSITY_2016</th>\n",
       "    </tr>\n",
       "  </thead>\n",
       "  <tbody>\n",
       "    <tr>\n",
       "      <th>0</th>\n",
       "      <td>101021007</td>\n",
       "      <td>Braidwood</td>\n",
       "      <td>11007</td>\n",
       "      <td>3418.4</td>\n",
       "      <td>3945</td>\n",
       "      <td>0.02</td>\n",
       "      <td>1.154049</td>\n",
       "    </tr>\n",
       "    <tr>\n",
       "      <th>1</th>\n",
       "      <td>101021008</td>\n",
       "      <td>Karabar</td>\n",
       "      <td>11008</td>\n",
       "      <td>7.0</td>\n",
       "      <td>8615</td>\n",
       "      <td>0.04</td>\n",
       "      <td>1230.714286</td>\n",
       "    </tr>\n",
       "    <tr>\n",
       "      <th>2</th>\n",
       "      <td>101021009</td>\n",
       "      <td>Queanbeyan</td>\n",
       "      <td>11009</td>\n",
       "      <td>4.8</td>\n",
       "      <td>11235</td>\n",
       "      <td>0.05</td>\n",
       "      <td>2340.625000</td>\n",
       "    </tr>\n",
       "    <tr>\n",
       "      <th>3</th>\n",
       "      <td>101021010</td>\n",
       "      <td>Queanbeyan - East</td>\n",
       "      <td>11010</td>\n",
       "      <td>13.0</td>\n",
       "      <td>5049</td>\n",
       "      <td>0.02</td>\n",
       "      <td>388.384615</td>\n",
       "    </tr>\n",
       "    <tr>\n",
       "      <th>4</th>\n",
       "      <td>101021011</td>\n",
       "      <td>Queanbeyan Region</td>\n",
       "      <td>11011</td>\n",
       "      <td>3054.4</td>\n",
       "      <td>17435</td>\n",
       "      <td>0.07</td>\n",
       "      <td>5.708159</td>\n",
       "    </tr>\n",
       "  </tbody>\n",
       "</table>\n",
       "</div>"
      ],
      "text/plain": [
       "  SA2_CODE_2016      SA2_NAME_2016 SA2_5DIG16  AREA_SQKM  NR_OF_PEOPLE_2016  \\\n",
       "0     101021007          Braidwood      11007     3418.4               3945   \n",
       "1     101021008            Karabar      11008        7.0               8615   \n",
       "2     101021009         Queanbeyan      11009        4.8              11235   \n",
       "3     101021010  Queanbeyan - East      11010       13.0               5049   \n",
       "4     101021011  Queanbeyan Region      11011     3054.4              17435   \n",
       "\n",
       "   NR_OF_PEOPLE_2016_%  POPULATION_DENSITY_2016  \n",
       "0                 0.02                 1.154049  \n",
       "1                 0.04              1230.714286  \n",
       "2                 0.05              2340.625000  \n",
       "3                 0.02               388.384615  \n",
       "4                 0.07                 5.708159  "
      ]
     },
     "execution_count": 140,
     "metadata": {},
     "output_type": "execute_result"
    }
   ],
   "source": [
    "df_2016 = pd.read_csv(\"processed/SA2PopulationData2016.csv\")\n",
    "df_2016[\"SA2_5DIG16\"]=[str(i) for i in df_2016[\"SA2_5DIG16\"]]\n",
    "df_2016[\"SA2_CODE_2016\"]=[str(i) for i in df_2016[\"SA2_CODE_2016\"]]\n",
    "print(len(df_2016))\n",
    "df_2016.head()"
   ]
  },
  {
   "cell_type": "code",
   "execution_count": 168,
   "metadata": {},
   "outputs": [
    {
     "name": "stdout",
     "output_type": "stream",
     "text": [
      "2176\n"
     ]
    },
    {
     "data": {
      "text/html": [
       "<div>\n",
       "<style scoped>\n",
       "    .dataframe tbody tr th:only-of-type {\n",
       "        vertical-align: middle;\n",
       "    }\n",
       "\n",
       "    .dataframe tbody tr th {\n",
       "        vertical-align: top;\n",
       "    }\n",
       "\n",
       "    .dataframe thead th {\n",
       "        text-align: right;\n",
       "    }\n",
       "</style>\n",
       "<table border=\"1\" class=\"dataframe\">\n",
       "  <thead>\n",
       "    <tr style=\"text-align: right;\">\n",
       "      <th></th>\n",
       "      <th>SA2_CODE_2021</th>\n",
       "      <th>SA2_5DIG21</th>\n",
       "      <th>SA2_CODE_2016</th>\n",
       "      <th>SA2_5DIG16</th>\n",
       "      <th>SA2_NAME_2021</th>\n",
       "      <th>SA2_AREA</th>\n",
       "      <th>ERP_P_202021</th>\n",
       "      <th>ERP_P_202021 (%)</th>\n",
       "      <th>ERP_212021</th>\n",
       "    </tr>\n",
       "  </thead>\n",
       "  <tbody>\n",
       "    <tr>\n",
       "      <th>0</th>\n",
       "      <td>101021007</td>\n",
       "      <td>11007</td>\n",
       "      <td>101021007</td>\n",
       "      <td>11007</td>\n",
       "      <td>Braidwood</td>\n",
       "      <td>3418.3525</td>\n",
       "      <td>4330.0</td>\n",
       "      <td>0.016856</td>\n",
       "      <td>1.3</td>\n",
       "    </tr>\n",
       "    <tr>\n",
       "      <th>1</th>\n",
       "      <td>101021008</td>\n",
       "      <td>11008</td>\n",
       "      <td>101021008</td>\n",
       "      <td>11008</td>\n",
       "      <td>Karabar</td>\n",
       "      <td>6.9825</td>\n",
       "      <td>8546.0</td>\n",
       "      <td>0.033268</td>\n",
       "      <td>1223.9</td>\n",
       "    </tr>\n",
       "    <tr>\n",
       "      <th>2</th>\n",
       "      <td>101021009</td>\n",
       "      <td>11009</td>\n",
       "      <td>101021009</td>\n",
       "      <td>11009</td>\n",
       "      <td>Queanbeyan</td>\n",
       "      <td>4.7620</td>\n",
       "      <td>11370.0</td>\n",
       "      <td>0.044262</td>\n",
       "      <td>2387.7</td>\n",
       "    </tr>\n",
       "    <tr>\n",
       "      <th>3</th>\n",
       "      <td>101021010</td>\n",
       "      <td>11010</td>\n",
       "      <td>101021010</td>\n",
       "      <td>11010</td>\n",
       "      <td>Queanbeyan - East</td>\n",
       "      <td>13.0032</td>\n",
       "      <td>5093.0</td>\n",
       "      <td>0.019826</td>\n",
       "      <td>391.7</td>\n",
       "    </tr>\n",
       "    <tr>\n",
       "      <th>4</th>\n",
       "      <td>101021012</td>\n",
       "      <td>11012</td>\n",
       "      <td>101021012</td>\n",
       "      <td>11012</td>\n",
       "      <td>Queanbeyan West - Jerrabomberra</td>\n",
       "      <td>13.6748</td>\n",
       "      <td>12743.0</td>\n",
       "      <td>0.049607</td>\n",
       "      <td>931.9</td>\n",
       "    </tr>\n",
       "  </tbody>\n",
       "</table>\n",
       "</div>"
      ],
      "text/plain": [
       "  SA2_CODE_2021 SA2_5DIG21 SA2_CODE_2016 SA2_5DIG16  \\\n",
       "0     101021007      11007     101021007      11007   \n",
       "1     101021008      11008     101021008      11008   \n",
       "2     101021009      11009     101021009      11009   \n",
       "3     101021010      11010     101021010      11010   \n",
       "4     101021012      11012     101021012      11012   \n",
       "\n",
       "                     SA2_NAME_2021   SA2_AREA  ERP_P_202021  ERP_P_202021 (%)  \\\n",
       "0                        Braidwood  3418.3525        4330.0          0.016856   \n",
       "1                          Karabar     6.9825        8546.0          0.033268   \n",
       "2                       Queanbeyan     4.7620       11370.0          0.044262   \n",
       "3                Queanbeyan - East    13.0032        5093.0          0.019826   \n",
       "4  Queanbeyan West - Jerrabomberra    13.6748       12743.0          0.049607   \n",
       "\n",
       "   ERP_212021  \n",
       "0         1.3  \n",
       "1      1223.9  \n",
       "2      2387.7  \n",
       "3       391.7  \n",
       "4       931.9  "
      ]
     },
     "execution_count": 168,
     "metadata": {},
     "output_type": "execute_result"
    }
   ],
   "source": [
    "df_2021 = pd.read_csv(\"processed/SA2PopulationData.csv\")\n",
    "\n",
    "cols=[\n",
    "    'SA2_CODE_2021', 'SA2_5DIG21', 'SA2_CODE_2016', 'SA2_5DIG16', 'SA2_NAME_2021',\n",
    "    'SA2_AREA', 'ERP_P_202021', 'ERP_P_202021 (%)', 'ERP_212021'\n",
    "]\n",
    "\n",
    "df_2021 = df_2021[cols]\n",
    "\n",
    "# df_2021.rename({col:col + \"_21\" if col!=\"SA2_5DIG16\" else \"SA2_5DIG16\" for col in cols},axis=1,inplace=True)\n",
    "print(len(df_2021))\n",
    "df_2021.head()"
   ]
  },
  {
   "cell_type": "markdown",
   "metadata": {},
   "source": [
    "##### Compare Codes in both data sets\n",
    "\n",
    "In previous preprocessing of the 2021 data, all SA2s that were changed from the 2016 SA2 codes (split) were removed from the 2021 data. Therefore, we can expect that there will be several codes in the 2016 data that will be missing in the 2021 data. We also expect that all SA2s in the 2021 data are contained in the 2016 data."
   ]
  },
  {
   "cell_type": "markdown",
   "metadata": {},
   "source": [
    "We first exclude all SA2s from the 2016 data that were also excluded from the 2021 data."
   ]
  },
  {
   "cell_type": "code",
   "execution_count": 142,
   "metadata": {},
   "outputs": [
    {
     "name": "stdout",
     "output_type": "stream",
     "text": [
      "In total, there were 134 SA2s that had a change in 2021.\n",
      "The 2016 has 2154 rows left (out of the 2288 rows) after excluding the SA2s that were also removed from the 2021 data.\n"
     ]
    }
   ],
   "source": [
    "changed16_codes = ['212011291', '127011506', '206041126', '309071258', '115041302', '106021115', '309071257', '210051444', '316021420', '127031600', '125031482', '123021440', '116011308', '115011559', '101021011', '103011058', '106021117', '108041163', '116021310', '116021312', '117011322', '117021326', '117031332', '117031334', '117031335', '117031337', '117031338', '118011343', '118021348', '118021350', '119011357', '119011359', '119021363', '119021364', '119031368', '119031369', '119041375', '119041376', '120011384', '120021388', '120031390', '120031391', '120031575', '121011398', '121011400', '121011402', '121041415', '122021423', '122031426', '122031428', '122031431', '123011434', '123011435', '123021442', '124031458', '125011473', '125021476', '125031485', '125041492', '126011495', '126021497', '126021591', '127031598', '201011003', '201011004', '203021038', '203021041', '203031050', '204031074', '205041097', '206011105', '206011108', '206021111', '206031114', '206041122', '206041123', '206051133', '206061137', '206071144', '207011151', '207011153', '209021207', '209021208', '209041219', '209041430', '209041434', '210011229', '210031239', '210031438', '210041241', '210051249', '212021294', '212031301', '212031302', '212031305', '212041311', '212041314', '212051320', '213011330', '213041355', '213041356', '213041357', '213051365', '213051366', '213051369', '213051465', '214021380', '216031417', '301021527', '309071255', '309081261', '309101270', '310011273', '310041296', '311041320', '311041321', '313021365', '313051542', '314021388', '314021390', '318021473', '402031037', '403041087', '501011002', '503021041', '504031059', '505021086', '505031103', '505031108', '506011113', '506021122', '507051185', '801011112', '801101138']\n",
    "print(f\"In total, there were {len(changed16_codes)} SA2s that had a change in 2021.\")\n",
    "len_df_2016 = len(df_2016)\n",
    "df_2016 = df_2016[~df_2016[\"SA2_CODE_2016\"].isin(changed16_codes)].reset_index(drop=True)\n",
    "print(f\"The 2016 has {len(df_2016)} rows left (out of the {len_df_2016} rows) after excluding the SA2s that were also removed from the 2021 data.\")"
   ]
  },
  {
   "cell_type": "markdown",
   "metadata": {},
   "source": [
    "We then check whether our assumptions hold."
   ]
  },
  {
   "cell_type": "code",
   "execution_count": 151,
   "metadata": {},
   "outputs": [
    {
     "name": "stdout",
     "output_type": "stream",
     "text": [
      "519 Migratory - Offshore - Shipping (NSW) nan\n",
      "520 No usual address (NSW) nan\n",
      "934 Migratory - Offshore - Shipping (Vic.) nan\n",
      "935 No usual address (Vic.) nan\n",
      "1448 Migratory - Offshore - Shipping (Qld) nan\n",
      "1449 No usual address (Qld) nan\n",
      "1620 Migratory - Offshore - Shipping (SA) nan\n",
      "1621 No usual address (SA) nan\n",
      "1865 Migratory - Offshore - Shipping (WA) nan\n",
      "1866 No usual address (WA) nan\n",
      "1966 Migratory - Offshore - Shipping (Tas.) nan\n",
      "1967 No usual address (Tas.) nan\n",
      "2036 Migratory - Offshore - Shipping (NT) nan\n",
      "2037 No usual address (NT) nan\n",
      "2167 Migratory - Offshore - Shipping (ACT) nan\n",
      "2168 No usual address (ACT) nan\n",
      "2169 Christmas Island 1716.0\n",
      "2170 Cocos (Keeling) Islands 602.0\n",
      "2171 Jervis Bay 310.0\n",
      "2172 Norfolk Island 2220.0\n",
      "2173 Migratory - Offshore - Shipping (OT) nan\n",
      "2174 No usual address (OT) nan\n",
      "2175 Outside Australia nan\n"
     ]
    }
   ],
   "source": [
    "for i,row in df_2021.iterrows():\n",
    "    if row[\"SA2_CODE_2016\"] not in list(df_2016[\"SA2_CODE_2016\"]):\n",
    "        print(i,row[\"SA2_NAME_2021\"],row[\"ERP_P_202021\"])"
   ]
  },
  {
   "cell_type": "code",
   "execution_count": 172,
   "metadata": {},
   "outputs": [
    {
     "name": "stdout",
     "output_type": "stream",
     "text": [
      "798 Pakenham - South 29485\n"
     ]
    }
   ],
   "source": [
    "for i,row in df_2016.iterrows():\n",
    "    if row[\"SA2_CODE_2016\"] not in list(df_2021[\"SA2_CODE_2016\"]):\n",
    "        print(i,row[\"SA2_NAME_2016\"],row[\"NR_OF_PEOPLE_2016\"])"
   ]
  },
  {
   "cell_type": "markdown",
   "metadata": {},
   "source": [
    "We find that there actually are several SA2s not included in the 2016 data. We can immediately see several things:\n",
    "- most of them have a 'NaN' value for the number of inhabitants (ERP_P_202021)\n",
    "- most of them are two rows in the dataframe after each other.\n",
    "\n",
    "The rows that actually contain inhabitant data turn out to be places that are Australian external territory, meaning that they are away from the main land of Australia. However, this is not the case for Jervis Bay. Since there seems to not be any exception, we could add <a href=\"https://www.abs.gov.au/census/find-census-data/quickstats/2016/901031003\">Jervis Bay</a> to the 2016 data.\n",
    "<br>\n",
    "<br>\n",
    "We also find that there is one SA2 in the 2016 that is not present in the 2021 data..."
   ]
  },
  {
   "cell_type": "markdown",
   "metadata": {},
   "source": [
    "Furthermore, we often see the words 'Migratory' and 'No usual address'. The Australian Government <a href=\"https://www.abs.gov.au/ausstats/abs@.nsf/Lookup/by%20Subject/1270.0.55.001~July%202016~Main%20Features~Special%20purpose%20codes~10004\">defines</a> these as:\n",
    "- Migratory is used to code people who are in transit on long distance trains, buses, aircraft and long haul road transport vehicles on Census night.\n",
    "- No Usual Address is used to code people with no fixed place of abode.\n",
    "\n",
    "As the 2016 data disregards these, we will disregard this."
   ]
  },
  {
   "cell_type": "markdown",
   "metadata": {},
   "source": [
    "### include exceptions (not done)"
   ]
  },
  {
   "cell_type": "code",
   "execution_count": 163,
   "metadata": {},
   "outputs": [
    {
     "data": {
      "text/plain": [
       "3418.4"
      ]
     },
     "execution_count": 163,
     "metadata": {},
     "output_type": "execute_result"
    }
   ],
   "source": [
    "df_2016[\"AREA_SQKM\"][0]"
   ]
  },
  {
   "cell_type": "code",
   "execution_count": 159,
   "metadata": {},
   "outputs": [
    {
     "data": {
      "text/html": [
       "<div>\n",
       "<style scoped>\n",
       "    .dataframe tbody tr th:only-of-type {\n",
       "        vertical-align: middle;\n",
       "    }\n",
       "\n",
       "    .dataframe tbody tr th {\n",
       "        vertical-align: top;\n",
       "    }\n",
       "\n",
       "    .dataframe thead th {\n",
       "        text-align: right;\n",
       "    }\n",
       "</style>\n",
       "<table border=\"1\" class=\"dataframe\">\n",
       "  <thead>\n",
       "    <tr style=\"text-align: right;\">\n",
       "      <th></th>\n",
       "      <th>SA2_CODE_2016</th>\n",
       "      <th>SA2_NAME_2016</th>\n",
       "      <th>SA2_5DIG16</th>\n",
       "      <th>AREA_SQKM</th>\n",
       "      <th>NR_OF_PEOPLE_2016</th>\n",
       "      <th>NR_OF_PEOPLE_2016_%</th>\n",
       "      <th>POPULATION_DENSITY_2016</th>\n",
       "    </tr>\n",
       "  </thead>\n",
       "  <tbody>\n",
       "    <tr>\n",
       "      <th>0</th>\n",
       "      <td>101021007</td>\n",
       "      <td>Braidwood</td>\n",
       "      <td>11007</td>\n",
       "      <td>3418.4</td>\n",
       "      <td>3945</td>\n",
       "      <td>0.02</td>\n",
       "      <td>1.154049</td>\n",
       "    </tr>\n",
       "    <tr>\n",
       "      <th>1</th>\n",
       "      <td>101021008</td>\n",
       "      <td>Karabar</td>\n",
       "      <td>11008</td>\n",
       "      <td>7.0</td>\n",
       "      <td>8615</td>\n",
       "      <td>0.04</td>\n",
       "      <td>1230.714286</td>\n",
       "    </tr>\n",
       "    <tr>\n",
       "      <th>2</th>\n",
       "      <td>101021009</td>\n",
       "      <td>Queanbeyan</td>\n",
       "      <td>11009</td>\n",
       "      <td>4.8</td>\n",
       "      <td>11235</td>\n",
       "      <td>0.05</td>\n",
       "      <td>2340.625000</td>\n",
       "    </tr>\n",
       "    <tr>\n",
       "      <th>3</th>\n",
       "      <td>101021010</td>\n",
       "      <td>Queanbeyan - East</td>\n",
       "      <td>11010</td>\n",
       "      <td>13.0</td>\n",
       "      <td>5049</td>\n",
       "      <td>0.02</td>\n",
       "      <td>388.384615</td>\n",
       "    </tr>\n",
       "    <tr>\n",
       "      <th>4</th>\n",
       "      <td>101021012</td>\n",
       "      <td>Queanbeyan West - Jerrabomberra</td>\n",
       "      <td>11012</td>\n",
       "      <td>13.7</td>\n",
       "      <td>13193</td>\n",
       "      <td>0.05</td>\n",
       "      <td>962.992701</td>\n",
       "    </tr>\n",
       "    <tr>\n",
       "      <th>...</th>\n",
       "      <td>...</td>\n",
       "      <td>...</td>\n",
       "      <td>...</td>\n",
       "      <td>...</td>\n",
       "      <td>...</td>\n",
       "      <td>...</td>\n",
       "      <td>...</td>\n",
       "    </tr>\n",
       "    <tr>\n",
       "      <th>2149</th>\n",
       "      <td>801101136</td>\n",
       "      <td>Denman Prospect</td>\n",
       "      <td>81136</td>\n",
       "      <td>4.7</td>\n",
       "      <td>0</td>\n",
       "      <td>0.00</td>\n",
       "      <td>0.000000</td>\n",
       "    </tr>\n",
       "    <tr>\n",
       "      <th>2150</th>\n",
       "      <td>801101137</td>\n",
       "      <td>Molonglo</td>\n",
       "      <td>81137</td>\n",
       "      <td>2.2</td>\n",
       "      <td>0</td>\n",
       "      <td>0.00</td>\n",
       "      <td>0.000000</td>\n",
       "    </tr>\n",
       "    <tr>\n",
       "      <th>2151</th>\n",
       "      <td>801101139</td>\n",
       "      <td>Wright</td>\n",
       "      <td>81139</td>\n",
       "      <td>1.3</td>\n",
       "      <td>2865</td>\n",
       "      <td>0.01</td>\n",
       "      <td>2203.846154</td>\n",
       "    </tr>\n",
       "    <tr>\n",
       "      <th>2152</th>\n",
       "      <td>801111140</td>\n",
       "      <td>ACT - South West</td>\n",
       "      <td>81140</td>\n",
       "      <td>416.6</td>\n",
       "      <td>578</td>\n",
       "      <td>0.00</td>\n",
       "      <td>1.387422</td>\n",
       "    </tr>\n",
       "    <tr>\n",
       "      <th>2153</th>\n",
       "      <td>801111141</td>\n",
       "      <td>Namadgi</td>\n",
       "      <td>81141</td>\n",
       "      <td>1202.9</td>\n",
       "      <td>39</td>\n",
       "      <td>0.00</td>\n",
       "      <td>0.032422</td>\n",
       "    </tr>\n",
       "  </tbody>\n",
       "</table>\n",
       "<p>2154 rows × 7 columns</p>\n",
       "</div>"
      ],
      "text/plain": [
       "     SA2_CODE_2016                    SA2_NAME_2016 SA2_5DIG16  AREA_SQKM  \\\n",
       "0        101021007                        Braidwood      11007     3418.4   \n",
       "1        101021008                          Karabar      11008        7.0   \n",
       "2        101021009                       Queanbeyan      11009        4.8   \n",
       "3        101021010                Queanbeyan - East      11010       13.0   \n",
       "4        101021012  Queanbeyan West - Jerrabomberra      11012       13.7   \n",
       "...            ...                              ...        ...        ...   \n",
       "2149     801101136                  Denman Prospect      81136        4.7   \n",
       "2150     801101137                         Molonglo      81137        2.2   \n",
       "2151     801101139                           Wright      81139        1.3   \n",
       "2152     801111140                 ACT - South West      81140      416.6   \n",
       "2153     801111141                          Namadgi      81141     1202.9   \n",
       "\n",
       "      NR_OF_PEOPLE_2016  NR_OF_PEOPLE_2016_%  POPULATION_DENSITY_2016  \n",
       "0                  3945                 0.02                 1.154049  \n",
       "1                  8615                 0.04              1230.714286  \n",
       "2                 11235                 0.05              2340.625000  \n",
       "3                  5049                 0.02               388.384615  \n",
       "4                 13193                 0.05               962.992701  \n",
       "...                 ...                  ...                      ...  \n",
       "2149                  0                 0.00                 0.000000  \n",
       "2150                  0                 0.00                 0.000000  \n",
       "2151               2865                 0.01              2203.846154  \n",
       "2152                578                 0.00                 1.387422  \n",
       "2153                 39                 0.00                 0.032422  \n",
       "\n",
       "[2154 rows x 7 columns]"
      ]
     },
     "execution_count": 159,
     "metadata": {},
     "output_type": "execute_result"
    }
   ],
   "source": [
    "jervis_bay = {'SA2_CODE_2016':'901031003',\n",
    "              'SA2_NAME_2016':'Jervis Bay', \n",
    "              'SA2_5DIG16':'91003', \n",
    "              'AREA_SQKM':67.8, # https://en.wikipedia.org/wiki/Jervis_Bay_Territory#References\n",
    "              'NR_OF_PEOPLE_2016':391,\n",
    "              'NR_OF_PEOPLE_2016_%':np.nan,\n",
    "              'POPULATION_DENSITY_2016':np.nan\n",
    "}"
   ]
  },
  {
   "cell_type": "markdown",
   "metadata": {},
   "source": [
    "### Merge datasets"
   ]
  },
  {
   "cell_type": "markdown",
   "metadata": {},
   "source": [
    "Take the intersection of codes in both DataFrames and make sure the 2016 and 2021 DataFrames only contain these codes."
   ]
  },
  {
   "cell_type": "code",
   "execution_count": 183,
   "metadata": {},
   "outputs": [],
   "source": [
    "lst_2016 = list(df_2016[\"SA2_CODE_2016\"])\n",
    "lst_2021 = list(df_2021[\"SA2_CODE_2016\"])\n",
    "SA2_codes = [code for code in lst_2016 if code in lst_2021]\n",
    "\n",
    "df_2016 = df_2016[df_2016[\"SA2_CODE_2016\"].isin(SA2_codes)].reset_index(drop=True)\n",
    "df_2021 = df_2021[df_2021[\"SA2_CODE_2016\"].isin(SA2_codes)].reset_index(drop=True)"
   ]
  },
  {
   "cell_type": "markdown",
   "metadata": {},
   "source": [
    "Append 2021 data to 2016 data."
   ]
  },
  {
   "cell_type": "code",
   "execution_count": 194,
   "metadata": {},
   "outputs": [
    {
     "data": {
      "text/html": [
       "<div>\n",
       "<style scoped>\n",
       "    .dataframe tbody tr th:only-of-type {\n",
       "        vertical-align: middle;\n",
       "    }\n",
       "\n",
       "    .dataframe tbody tr th {\n",
       "        vertical-align: top;\n",
       "    }\n",
       "\n",
       "    .dataframe thead th {\n",
       "        text-align: right;\n",
       "    }\n",
       "</style>\n",
       "<table border=\"1\" class=\"dataframe\">\n",
       "  <thead>\n",
       "    <tr style=\"text-align: right;\">\n",
       "      <th></th>\n",
       "      <th>SA2_CODE_2016</th>\n",
       "      <th>SA2_NAME_2016</th>\n",
       "      <th>SA2_5DIG16</th>\n",
       "      <th>AREA_SQKM</th>\n",
       "      <th>NR_OF_PEOPLE_2016</th>\n",
       "      <th>NR_OF_PEOPLE_2016_%</th>\n",
       "      <th>POPULATION_DENSITY_2016</th>\n",
       "      <th>SA2_CODE_2021</th>\n",
       "      <th>SA2_5DIG21</th>\n",
       "      <th>SA2_NAME_2021</th>\n",
       "      <th>SA2_AREA</th>\n",
       "      <th>ERP_P_202021</th>\n",
       "      <th>ERP_P_202021 (%)</th>\n",
       "      <th>ERP_212021</th>\n",
       "    </tr>\n",
       "  </thead>\n",
       "  <tbody>\n",
       "    <tr>\n",
       "      <th>0</th>\n",
       "      <td>101021007</td>\n",
       "      <td>Braidwood</td>\n",
       "      <td>11007</td>\n",
       "      <td>3418.4</td>\n",
       "      <td>3945</td>\n",
       "      <td>0.02</td>\n",
       "      <td>1.154049</td>\n",
       "      <td>101021007</td>\n",
       "      <td>11007</td>\n",
       "      <td>Braidwood</td>\n",
       "      <td>3418.3525</td>\n",
       "      <td>4330.0</td>\n",
       "      <td>0.016856</td>\n",
       "      <td>1.3</td>\n",
       "    </tr>\n",
       "    <tr>\n",
       "      <th>1</th>\n",
       "      <td>101021008</td>\n",
       "      <td>Karabar</td>\n",
       "      <td>11008</td>\n",
       "      <td>7.0</td>\n",
       "      <td>8615</td>\n",
       "      <td>0.04</td>\n",
       "      <td>1230.714286</td>\n",
       "      <td>101021008</td>\n",
       "      <td>11008</td>\n",
       "      <td>Karabar</td>\n",
       "      <td>6.9825</td>\n",
       "      <td>8546.0</td>\n",
       "      <td>0.033268</td>\n",
       "      <td>1223.9</td>\n",
       "    </tr>\n",
       "    <tr>\n",
       "      <th>2</th>\n",
       "      <td>101021009</td>\n",
       "      <td>Queanbeyan</td>\n",
       "      <td>11009</td>\n",
       "      <td>4.8</td>\n",
       "      <td>11235</td>\n",
       "      <td>0.05</td>\n",
       "      <td>2340.625000</td>\n",
       "      <td>101021009</td>\n",
       "      <td>11009</td>\n",
       "      <td>Queanbeyan</td>\n",
       "      <td>4.7620</td>\n",
       "      <td>11370.0</td>\n",
       "      <td>0.044262</td>\n",
       "      <td>2387.7</td>\n",
       "    </tr>\n",
       "    <tr>\n",
       "      <th>3</th>\n",
       "      <td>101021010</td>\n",
       "      <td>Queanbeyan - East</td>\n",
       "      <td>11010</td>\n",
       "      <td>13.0</td>\n",
       "      <td>5049</td>\n",
       "      <td>0.02</td>\n",
       "      <td>388.384615</td>\n",
       "      <td>101021010</td>\n",
       "      <td>11010</td>\n",
       "      <td>Queanbeyan - East</td>\n",
       "      <td>13.0032</td>\n",
       "      <td>5093.0</td>\n",
       "      <td>0.019826</td>\n",
       "      <td>391.7</td>\n",
       "    </tr>\n",
       "    <tr>\n",
       "      <th>4</th>\n",
       "      <td>101021012</td>\n",
       "      <td>Queanbeyan West - Jerrabomberra</td>\n",
       "      <td>11012</td>\n",
       "      <td>13.7</td>\n",
       "      <td>13193</td>\n",
       "      <td>0.05</td>\n",
       "      <td>962.992701</td>\n",
       "      <td>101021012</td>\n",
       "      <td>11012</td>\n",
       "      <td>Queanbeyan West - Jerrabomberra</td>\n",
       "      <td>13.6748</td>\n",
       "      <td>12743.0</td>\n",
       "      <td>0.049607</td>\n",
       "      <td>931.9</td>\n",
       "    </tr>\n",
       "  </tbody>\n",
       "</table>\n",
       "</div>"
      ],
      "text/plain": [
       "  SA2_CODE_2016                    SA2_NAME_2016 SA2_5DIG16  AREA_SQKM  \\\n",
       "0     101021007                        Braidwood      11007     3418.4   \n",
       "1     101021008                          Karabar      11008        7.0   \n",
       "2     101021009                       Queanbeyan      11009        4.8   \n",
       "3     101021010                Queanbeyan - East      11010       13.0   \n",
       "4     101021012  Queanbeyan West - Jerrabomberra      11012       13.7   \n",
       "\n",
       "   NR_OF_PEOPLE_2016  NR_OF_PEOPLE_2016_%  POPULATION_DENSITY_2016  \\\n",
       "0               3945                 0.02                 1.154049   \n",
       "1               8615                 0.04              1230.714286   \n",
       "2              11235                 0.05              2340.625000   \n",
       "3               5049                 0.02               388.384615   \n",
       "4              13193                 0.05               962.992701   \n",
       "\n",
       "  SA2_CODE_2021 SA2_5DIG21                    SA2_NAME_2021   SA2_AREA  \\\n",
       "0     101021007      11007                        Braidwood  3418.3525   \n",
       "1     101021008      11008                          Karabar     6.9825   \n",
       "2     101021009      11009                       Queanbeyan     4.7620   \n",
       "3     101021010      11010                Queanbeyan - East    13.0032   \n",
       "4     101021012      11012  Queanbeyan West - Jerrabomberra    13.6748   \n",
       "\n",
       "   ERP_P_202021  ERP_P_202021 (%)  ERP_212021  \n",
       "0        4330.0          0.016856         1.3  \n",
       "1        8546.0          0.033268      1223.9  \n",
       "2       11370.0          0.044262      2387.7  \n",
       "3        5093.0          0.019826       391.7  \n",
       "4       12743.0          0.049607       931.9  "
      ]
     },
     "execution_count": 194,
     "metadata": {},
     "output_type": "execute_result"
    }
   ],
   "source": [
    "df_merged = pd.merge(df_2016, df_2021, on=['SA2_CODE_2016','SA2_5DIG16'], how='left')\n",
    "df_merged.head()"
   ]
  },
  {
   "cell_type": "markdown",
   "metadata": {},
   "source": [
    "##### *NR_OF_PEOPLE_2016* vs *ERP_P_202021*\n",
    "The total population of Australia increased from 24.19 million in 2016 to 25.69 million in 2021 and therefore, we expect the population per SA2 to increase with it (on average)."
   ]
  },
  {
   "cell_type": "code",
   "execution_count": 229,
   "metadata": {},
   "outputs": [
    {
     "data": {
      "text/html": [
       "<div>\n",
       "<style scoped>\n",
       "    .dataframe tbody tr th:only-of-type {\n",
       "        vertical-align: middle;\n",
       "    }\n",
       "\n",
       "    .dataframe tbody tr th {\n",
       "        vertical-align: top;\n",
       "    }\n",
       "\n",
       "    .dataframe thead th {\n",
       "        text-align: right;\n",
       "    }\n",
       "</style>\n",
       "<table border=\"1\" class=\"dataframe\">\n",
       "  <thead>\n",
       "    <tr style=\"text-align: right;\">\n",
       "      <th></th>\n",
       "      <th>Difference in People</th>\n",
       "    </tr>\n",
       "  </thead>\n",
       "  <tbody>\n",
       "    <tr>\n",
       "      <th>count</th>\n",
       "      <td>2111.000000</td>\n",
       "    </tr>\n",
       "    <tr>\n",
       "      <th>mean</th>\n",
       "      <td>483.562293</td>\n",
       "    </tr>\n",
       "    <tr>\n",
       "      <th>std</th>\n",
       "      <td>1252.383262</td>\n",
       "    </tr>\n",
       "    <tr>\n",
       "      <th>min</th>\n",
       "      <td>-5477.000000</td>\n",
       "    </tr>\n",
       "    <tr>\n",
       "      <th>25%</th>\n",
       "      <td>-29.000000</td>\n",
       "    </tr>\n",
       "    <tr>\n",
       "      <th>50%</th>\n",
       "      <td>208.000000</td>\n",
       "    </tr>\n",
       "    <tr>\n",
       "      <th>75%</th>\n",
       "      <td>664.500000</td>\n",
       "    </tr>\n",
       "    <tr>\n",
       "      <th>max</th>\n",
       "      <td>20177.000000</td>\n",
       "    </tr>\n",
       "  </tbody>\n",
       "</table>\n",
       "</div>"
      ],
      "text/plain": [
       "       Difference in People\n",
       "count           2111.000000\n",
       "mean             483.562293\n",
       "std             1252.383262\n",
       "min            -5477.000000\n",
       "25%              -29.000000\n",
       "50%              208.000000\n",
       "75%              664.500000\n",
       "max            20177.000000"
      ]
     },
     "execution_count": 229,
     "metadata": {},
     "output_type": "execute_result"
    }
   ],
   "source": [
    "diff_lst_people = []\n",
    "nr_people = [round(i,1) for i in df_merged[\"NR_OF_PEOPLE_2016\"]]\n",
    "for i,nr in enumerate(list(df_merged[\"ERP_P_202021\"])):\n",
    "    if nr!=nr_people[i]:\n",
    "        diff_lst_people.append(nr-nr_people[i])\n",
    "        \n",
    "pd.DataFrame(diff_lst_people,columns=[\"Difference in People\"]).describe()"
   ]
  },
  {
   "cell_type": "code",
   "execution_count": 230,
   "metadata": {},
   "outputs": [
    {
     "data": {
      "application/vnd.plotly.v1+json": {
       "config": {
        "plotlyServerURL": "https://plot.ly"
       },
       "data": [
        {
         "alignmentgroup": "True",
         "bingroup": "x",
         "hovertemplate": "variable=0<br>value=%{x}<br>count=%{y}<extra></extra>",
         "legendgroup": "0",
         "marker": {
          "color": "#636efa",
          "pattern": {
           "shape": ""
          }
         },
         "name": "0",
         "offsetgroup": "0",
         "orientation": "v",
         "showlegend": true,
         "type": "histogram",
         "x": [
          385,
          -69,
          135,
          44,
          -450,
          24,
          -130,
          126,
          953,
          745,
          335,
          239,
          566,
          454,
          14,
          128,
          156,
          590,
          460,
          657,
          1363,
          926,
          103,
          757,
          187,
          203,
          -16,
          96,
          -63,
          563,
          2062,
          -41,
          199,
          362,
          35,
          246,
          37,
          981,
          816,
          545,
          221,
          -200,
          574,
          84,
          218,
          358,
          96,
          -46,
          23,
          -53,
          674,
          697,
          2,
          -209,
          4637,
          172,
          882,
          -117,
          74,
          -372,
          18,
          152,
          -307,
          -105,
          -273,
          -152,
          -489,
          -684,
          15,
          567,
          -110,
          520,
          null,
          98,
          -353,
          2749,
          1,
          256,
          1470,
          1041,
          211,
          230,
          748,
          86,
          -21,
          1202,
          164,
          125,
          1699,
          -605,
          -603,
          -239,
          -468,
          -794,
          -366,
          -239,
          -129,
          35,
          2443,
          1411,
          246,
          -28,
          -144,
          -137,
          2377,
          1306,
          1089,
          411,
          2767,
          614,
          317,
          1840,
          922,
          5707,
          493,
          8,
          463,
          577,
          177,
          571,
          1034,
          -24,
          19,
          88,
          -245,
          233,
          3185,
          -4,
          -779,
          -150,
          -379,
          -205,
          4443,
          -140,
          836,
          78,
          1874,
          252,
          -497,
          -470,
          68,
          851,
          81,
          98,
          508,
          1382,
          -976,
          435,
          70,
          726,
          55,
          751,
          288,
          293,
          276,
          288,
          356,
          32,
          1475,
          3591,
          -113,
          1453,
          194,
          1698,
          398,
          394,
          -58,
          2434,
          479,
          -49,
          676,
          897,
          -107,
          458,
          -1,
          60,
          379,
          -500,
          -33,
          919,
          -63,
          57,
          -31,
          -221,
          -137,
          -20,
          208,
          -68,
          -337,
          131,
          -481,
          -215,
          -407,
          -315,
          411,
          173,
          -265,
          819,
          1197,
          363,
          293,
          -425,
          -89,
          668,
          672,
          418,
          158,
          719,
          29,
          881,
          1408,
          752,
          1904,
          2767,
          153,
          372,
          634,
          418,
          77,
          490,
          337,
          2478,
          274,
          183,
          1562,
          11,
          724,
          1242,
          750,
          477,
          869,
          1143,
          1161,
          1041,
          648,
          942,
          347,
          1246,
          669,
          -108,
          303,
          192,
          177,
          -327,
          386,
          1286,
          341,
          425,
          536,
          711,
          291,
          -9,
          112,
          922,
          -335,
          46,
          -230,
          -15,
          292,
          -29,
          15,
          77,
          -29,
          -271,
          -69,
          1082,
          819,
          -559,
          2721,
          484,
          -56,
          43,
          10,
          532,
          -70,
          2300,
          1040,
          260,
          231,
          1280,
          625,
          259,
          207,
          1640,
          551,
          228,
          482,
          1188,
          904,
          -58,
          -526,
          -223,
          -107,
          -100,
          559,
          -173,
          -339,
          881,
          67,
          109,
          -124,
          671,
          -418,
          2238,
          177,
          -46,
          -61,
          519,
          -782,
          -224,
          1277,
          -232,
          -187,
          328,
          545,
          -207,
          -24,
          1325,
          486,
          1763,
          2898,
          2,
          -179,
          -1247,
          -1,
          -1426,
          2028,
          -321,
          -4547,
          -1791,
          -800,
          -1518,
          -58,
          null,
          -342,
          -1484,
          -658,
          -680,
          -3773,
          -2696,
          -528,
          -169,
          -922,
          -1587,
          -1109,
          1196,
          565,
          951,
          202,
          910,
          1075,
          -7,
          1735,
          421,
          -4,
          377,
          -828,
          -640,
          -520,
          -629,
          1690,
          -86,
          151,
          -308,
          1216,
          -504,
          -819,
          -1192,
          -183,
          498,
          -870,
          -498,
          -1021,
          -1064,
          1067,
          -403,
          413,
          -576,
          3937,
          -44,
          -640,
          921,
          3239,
          -252,
          58,
          -314,
          -431,
          1910,
          295,
          656,
          206,
          261,
          461,
          -407,
          -1292,
          -1089,
          -1711,
          1099,
          -472,
          -941,
          -31,
          -32,
          -228,
          121,
          291,
          -167,
          -321,
          15,
          21,
          58,
          715,
          3658,
          -600,
          3,
          -129,
          1132,
          -214,
          107,
          1157,
          1920,
          614,
          102,
          -332,
          -4,
          -240,
          28,
          -51,
          188,
          3,
          178,
          -616,
          -631,
          -279,
          4725,
          2174,
          4509,
          754,
          1167,
          -356,
          -23,
          -73,
          -317,
          1167,
          931,
          2,
          1593,
          -1263,
          6,
          -665,
          398,
          -132,
          2789,
          109,
          1865,
          -178,
          1539,
          708,
          1604,
          -22,
          -10,
          4,
          242,
          -799,
          402,
          80,
          577,
          5432,
          635,
          416,
          -952,
          1253,
          2888,
          -132,
          -162,
          337,
          3386,
          -39,
          -368,
          -78,
          238,
          1299,
          1504,
          559,
          91,
          -1639,
          485,
          819,
          49,
          -78,
          1514,
          252,
          -289,
          940,
          -83,
          -7,
          396,
          1574,
          -208,
          615,
          -173,
          197,
          1912,
          -131,
          636,
          533,
          -50,
          107,
          884,
          6,
          -267,
          -683,
          177,
          17,
          1870,
          -55,
          -81,
          -198,
          4936,
          -237,
          -59,
          3452,
          237,
          456,
          532,
          155,
          728,
          615,
          169,
          185,
          359,
          193,
          194,
          265,
          802,
          262,
          16,
          1104,
          359,
          1927,
          2577,
          1050,
          554,
          620,
          501,
          803,
          807,
          531,
          133,
          1217,
          1137,
          744,
          739,
          461,
          1456,
          1365,
          2298,
          209,
          645,
          -135,
          630,
          3222,
          896,
          1923,
          1242,
          5551,
          348,
          583,
          1546,
          1590,
          452,
          112,
          164,
          57,
          547,
          348,
          131,
          145,
          986,
          195,
          313,
          597,
          64,
          56,
          212,
          286,
          693,
          3422,
          467,
          581,
          4095,
          null,
          761,
          433,
          null,
          1056,
          215,
          565,
          626,
          24,
          601,
          202,
          3059,
          2,
          4271,
          318,
          529,
          385,
          125,
          -1,
          538,
          662,
          103,
          476,
          209,
          1197,
          -130,
          59,
          -343,
          -370,
          -316,
          -1472,
          1322,
          -3377,
          3998,
          -394,
          -25,
          -652,
          -452,
          -65,
          null,
          -517,
          -1468,
          -997,
          1915,
          -497,
          -1540,
          -222,
          -1931,
          -974,
          420,
          -725,
          204,
          -855,
          -256,
          275,
          -192,
          -368,
          71,
          -1055,
          -180,
          -391,
          -268,
          -1129,
          -277,
          3308,
          -515,
          -97,
          431,
          868,
          -120,
          -252,
          2259,
          -55,
          -394,
          -29,
          -164,
          -48,
          -1244,
          -6,
          1102,
          -326,
          122,
          1332,
          -301,
          532,
          -224,
          -29,
          -358,
          -300,
          -791,
          1208,
          246,
          -560,
          -58,
          -29,
          504,
          -89,
          1003,
          356,
          -405,
          -39,
          26,
          556,
          -783,
          -322,
          -430,
          -395,
          624,
          198,
          521,
          -315,
          -107,
          -199,
          -214,
          -1374,
          -191,
          -42,
          -240,
          -51,
          245,
          -299,
          -419,
          -26,
          209,
          -425,
          -365,
          -1128,
          -1139,
          -1340,
          6233,
          2359,
          -607,
          -494,
          723,
          117,
          31,
          15111,
          319,
          14,
          -291,
          304,
          213,
          987,
          -1,
          309,
          1164,
          418,
          -365,
          85,
          402,
          514,
          -35,
          -756,
          -238,
          5094,
          -908,
          -83,
          -153,
          -561,
          367,
          4954,
          20177,
          98,
          991,
          -249,
          -429,
          -394,
          -609,
          -96,
          -508,
          895,
          -133,
          299,
          -54,
          -373,
          -464,
          -271,
          -528,
          1003,
          209,
          -230,
          454,
          410,
          44,
          -235,
          68,
          58,
          151,
          -189,
          -357,
          1597,
          9,
          482,
          363,
          -7,
          -99,
          487,
          -433,
          -185,
          -102,
          42,
          308,
          10325,
          1043,
          111,
          2388,
          -683,
          145,
          220,
          228,
          -334,
          -597,
          -471,
          244,
          721,
          8437,
          6088,
          2104,
          44,
          -490,
          -716,
          -625,
          127,
          -889,
          -223,
          -392,
          -416,
          -547,
          -283,
          106,
          480,
          -128,
          1079,
          66,
          219,
          -448,
          717,
          -63,
          -556,
          -181,
          -584,
          -831,
          -688,
          -420,
          -686,
          -680,
          -168,
          -878,
          -816,
          -1460,
          375,
          -1476,
          362,
          501,
          -437,
          -203,
          -23,
          -116,
          -260,
          -345,
          -267,
          54,
          4053,
          3236,
          14653,
          -467,
          874,
          22,
          -328,
          -1371,
          -1363,
          2214,
          5141,
          6688,
          4086,
          -1503,
          10329,
          727,
          457,
          -282,
          -87,
          456,
          221,
          -194,
          1986,
          364,
          1434,
          125,
          703,
          2264,
          1640,
          -3,
          106,
          -3,
          549,
          8,
          -1,
          81,
          228,
          -18,
          -234,
          723,
          170,
          -18,
          202,
          -314,
          1642,
          -97,
          12,
          40,
          326,
          127,
          20,
          899,
          52,
          16,
          29,
          125,
          57,
          249,
          156,
          583,
          293,
          1020,
          122,
          21,
          133,
          244,
          232,
          137,
          -23,
          285,
          241,
          -77,
          -44,
          407,
          280,
          402,
          1022,
          114,
          -4,
          -68,
          -28,
          388,
          53,
          16,
          783,
          490,
          2011,
          216,
          4359,
          -94,
          1,
          264,
          271,
          522,
          -12,
          296,
          1047,
          677,
          444,
          2158,
          576,
          1090,
          146,
          403,
          1851,
          164,
          122,
          395,
          237,
          171,
          286,
          218,
          -81,
          1234,
          338,
          996,
          691,
          300,
          -44,
          36,
          -93,
          1634,
          187,
          704,
          968,
          564,
          151,
          388,
          99,
          1330,
          7,
          1044,
          358,
          -128,
          2901,
          331,
          -460,
          -107,
          -45,
          687,
          4548,
          1340,
          346,
          39,
          139,
          -460,
          209,
          -45,
          422,
          911,
          5517,
          273,
          -56,
          425,
          -814,
          -172,
          -674,
          -136,
          -149,
          3,
          -48,
          -57,
          151,
          110,
          20,
          150,
          411,
          110,
          246,
          307,
          917,
          644,
          -909,
          239,
          718,
          7,
          159,
          353,
          null,
          210,
          1547,
          2743,
          2133,
          -227,
          1127,
          -887,
          6825,
          576,
          5080,
          127,
          431,
          175,
          -117,
          1304,
          345,
          1401,
          415,
          482,
          -38,
          269,
          295,
          173,
          -277,
          -80,
          7027,
          -64,
          503,
          1067,
          40,
          -149,
          253,
          852,
          -117,
          1178,
          8,
          719,
          22,
          737,
          2647,
          -102,
          214,
          747,
          -110,
          530,
          1053,
          -136,
          6,
          35,
          -346,
          266,
          62,
          98,
          -27,
          233,
          295,
          -229,
          58,
          210,
          -105,
          281,
          197,
          791,
          -169,
          184,
          554,
          664,
          -101,
          574,
          -229,
          -192,
          77,
          -128,
          160,
          -390,
          597,
          60,
          -116,
          8,
          -118,
          193,
          118,
          287,
          -177,
          440,
          381,
          -206,
          -591,
          374,
          95,
          79,
          234,
          -133,
          224,
          564,
          -47,
          -21,
          435,
          162,
          463,
          -78,
          73,
          49,
          299,
          36,
          6,
          -313,
          2014,
          185,
          -129,
          723,
          -17,
          13,
          539,
          61,
          -400,
          -111,
          null,
          137,
          71,
          73,
          134,
          -141,
          1581,
          689,
          444,
          307,
          761,
          398,
          138,
          1449,
          633,
          1167,
          -225,
          -100,
          318,
          -61,
          83,
          1243,
          312,
          1002,
          689,
          713,
          -126,
          558,
          -243,
          401,
          6806,
          1800,
          3168,
          894,
          1955,
          179,
          37,
          1111,
          296,
          -141,
          -104,
          2876,
          1375,
          900,
          229,
          -110,
          -470,
          130,
          1704,
          513,
          327,
          706,
          -130,
          null,
          1292,
          46,
          2381,
          1112,
          308,
          -54,
          111,
          -87,
          -186,
          1056,
          -186,
          512,
          -79,
          -168,
          8255,
          -105,
          -165,
          3,
          3104,
          -266,
          3,
          4911,
          384,
          7963,
          671,
          60,
          123,
          1997,
          -184,
          2804,
          6925,
          648,
          3744,
          9,
          null,
          505,
          1442,
          -296,
          -165,
          1525,
          1062,
          386,
          210,
          1177,
          142,
          426,
          90,
          -232,
          157,
          -326,
          -234,
          360,
          215,
          232,
          725,
          153,
          123,
          440,
          587,
          863,
          140,
          962,
          -7,
          340,
          93,
          669,
          184,
          876,
          593,
          178,
          31,
          250,
          76,
          129,
          30,
          73,
          1376,
          null,
          493,
          1536,
          2355,
          2679,
          3185,
          300,
          2546,
          254,
          300,
          1140,
          2373,
          141,
          966,
          2124,
          182,
          28,
          10,
          170,
          80,
          317,
          554,
          587,
          -341,
          551,
          442,
          5417,
          -156,
          977,
          -109,
          1237,
          -192,
          128,
          -126,
          -29,
          -66,
          169,
          -256,
          -485,
          153,
          25,
          -192,
          674,
          -51,
          -50,
          -381,
          22,
          -127,
          -34,
          1088,
          903,
          435,
          1086,
          -203,
          318,
          97,
          968,
          109,
          707,
          2672,
          1011,
          790,
          3960,
          433,
          443,
          347,
          56,
          123,
          285,
          3195,
          940,
          310,
          680,
          5476,
          466,
          899,
          2311,
          596,
          1658,
          2391,
          1853,
          788,
          651,
          503,
          441,
          588,
          1316,
          545,
          342,
          339,
          625,
          245,
          529,
          591,
          2723,
          717,
          -186,
          -279,
          -144,
          -7,
          4,
          -2,
          -422,
          -79,
          -139,
          -143,
          1228,
          171,
          -130,
          -55,
          -431,
          -247,
          -166,
          208,
          -40,
          -38,
          -207,
          -711,
          73,
          787,
          -101,
          116,
          353,
          30,
          457,
          -165,
          -70,
          392,
          2360,
          617,
          59,
          266,
          144,
          361,
          906,
          -79,
          157,
          208,
          -281,
          269,
          112,
          -141,
          233,
          -198,
          290,
          5,
          275,
          663,
          723,
          1768,
          104,
          1131,
          735,
          1880,
          -32,
          750,
          2096,
          951,
          -160,
          316,
          1128,
          356,
          2502,
          -347,
          219,
          557,
          265,
          377,
          4752,
          559,
          245,
          560,
          72,
          346,
          562,
          318,
          1847,
          2053,
          456,
          638,
          313,
          355,
          1047,
          253,
          -259,
          425,
          319,
          2042,
          882,
          1784,
          693,
          505,
          1140,
          4123,
          -94,
          259,
          1441,
          2355,
          2143,
          null,
          777,
          297,
          -87,
          1433,
          936,
          976,
          869,
          1132,
          256,
          213,
          -69,
          -18,
          417,
          959,
          227,
          88,
          619,
          1083,
          250,
          899,
          21,
          196,
          1225,
          1759,
          -8,
          1081,
          219,
          69,
          805,
          53,
          321,
          304,
          230,
          512,
          112,
          806,
          32,
          113,
          121,
          544,
          260,
          72,
          null,
          -1,
          1361,
          242,
          603,
          130,
          193,
          103,
          1047,
          1590,
          457,
          1262,
          608,
          960,
          697,
          1594,
          null,
          196,
          494,
          700,
          908,
          2,
          null,
          215,
          380,
          2086,
          353,
          55,
          334,
          851,
          341,
          173,
          566,
          39,
          57,
          85,
          -89,
          50,
          40,
          -38,
          -63,
          11,
          143,
          344,
          404,
          341,
          211,
          149,
          300,
          -57,
          -161,
          586,
          74,
          64,
          -556,
          null,
          54,
          -218,
          25,
          -641,
          47,
          78,
          1335,
          147,
          727,
          569,
          1345,
          769,
          348,
          92,
          -26,
          170,
          107,
          -46,
          201,
          194,
          308,
          511,
          -102,
          57,
          -99,
          185,
          42,
          435,
          744,
          109,
          31,
          225,
          44,
          58,
          1237,
          1532,
          1371,
          2045,
          295,
          370,
          187,
          157,
          -1,
          721,
          557,
          235,
          119,
          915,
          74,
          803,
          -12,
          880,
          382,
          -4,
          211,
          1473,
          927,
          137,
          1547,
          1239,
          837,
          3690,
          1287,
          757,
          46,
          1019,
          169,
          631,
          221,
          95,
          754,
          30,
          1122,
          282,
          835,
          881,
          981,
          942,
          1537,
          435,
          919,
          -55,
          -3,
          184,
          540,
          535,
          932,
          -1,
          -342,
          3477,
          385,
          70,
          1296,
          1974,
          14,
          null,
          234,
          530,
          188,
          2644,
          null,
          716,
          -99,
          564,
          368,
          228,
          191,
          775,
          271,
          153,
          110,
          134,
          392,
          436,
          200,
          697,
          921,
          null,
          1815,
          2219,
          1972,
          205,
          1749,
          829,
          267,
          835,
          946,
          1354,
          -395,
          330,
          2165,
          1014,
          189,
          -224,
          2040,
          -3,
          237,
          6122,
          -3,
          882,
          2230,
          4664,
          -11,
          299,
          75,
          324,
          126,
          1268,
          820,
          561,
          null,
          -12,
          1141,
          517,
          88,
          5,
          2662,
          215,
          949,
          -22,
          1189,
          1558,
          1375,
          1201,
          3013,
          1434,
          672,
          1094,
          -11,
          251,
          120,
          4579,
          928,
          212,
          338,
          62,
          478,
          4382,
          13,
          null,
          964,
          418,
          877,
          -7,
          1396,
          188,
          994,
          2688,
          105,
          1847,
          -200,
          300,
          1605,
          759,
          -9,
          4066,
          -150,
          5,
          475,
          2957,
          453,
          49,
          994,
          879,
          199,
          17,
          1132,
          137,
          578,
          -21,
          -29,
          -211,
          993,
          -7,
          547,
          2844,
          190,
          -20,
          672,
          323,
          406,
          503,
          29,
          83,
          -75,
          98,
          1209,
          392,
          null,
          565,
          -245,
          -119,
          665,
          -94,
          -192,
          -111,
          550,
          213,
          -65,
          -180,
          39,
          -153,
          -298,
          -10,
          1146,
          52,
          477,
          557,
          93,
          -546,
          -270,
          -68,
          1920,
          -5477,
          1558,
          -309,
          152,
          118,
          -228,
          451,
          182,
          -470,
          37,
          null,
          -104,
          249,
          null,
          417,
          28,
          1024,
          521,
          160,
          212,
          -61,
          -144,
          962,
          1077,
          656,
          609,
          971,
          252,
          1405,
          564,
          546,
          448,
          1915,
          416,
          386,
          296,
          767,
          578,
          1498,
          354,
          473,
          786,
          494,
          2404,
          872,
          794,
          null,
          31,
          1154,
          663,
          398,
          631,
          302,
          668,
          490,
          1127,
          1598,
          438,
          781,
          195,
          672,
          353,
          812,
          209,
          167,
          373,
          210,
          827,
          222,
          332,
          252,
          412,
          50,
          305,
          305,
          447,
          435,
          387,
          373,
          455,
          394,
          432,
          99,
          433,
          749,
          12,
          246,
          415,
          237,
          695,
          -14,
          489,
          528,
          409,
          1194,
          247,
          598,
          132,
          214,
          213,
          481,
          355,
          152,
          163,
          268,
          339,
          348,
          910,
          386,
          873,
          138,
          894,
          238,
          482,
          392,
          37,
          123,
          41,
          245,
          137,
          null,
          5,
          549,
          null,
          205,
          162,
          -49,
          13,
          -150,
          1,
          -120,
          -23,
          462,
          -201,
          null,
          3,
          -152,
          12,
          57,
          -93,
          30,
          1264,
          -174,
          -20,
          -57,
          -38,
          -4,
          -106,
          -207,
          -75,
          82,
          -1786,
          -219,
          -10,
          -163,
          -146,
          33,
          -145,
          239,
          -176,
          118,
          287,
          3611,
          -70,
          -50,
          67,
          473,
          296,
          233,
          347,
          -545,
          362,
          -124,
          141,
          -275,
          -363,
          142,
          -290,
          55,
          -410,
          -67,
          517,
          73,
          -515,
          160,
          7,
          44,
          92,
          155,
          158,
          1660,
          309,
          40,
          60,
          5,
          113,
          -85,
          271,
          72,
          9,
          -3,
          11,
          186,
          949,
          192,
          78,
          2601,
          132,
          328,
          -115,
          158,
          -14,
          76,
          -63,
          200,
          4,
          -41,
          -21,
          277,
          27,
          121,
          401,
          457,
          632,
          269,
          -23,
          945,
          2297,
          23,
          457,
          4,
          435,
          -215,
          -89,
          null,
          null,
          39,
          9,
          5214,
          2193,
          2387,
          735,
          98,
          758,
          549,
          1124,
          580,
          168,
          441,
          296,
          355,
          774,
          null,
          1360,
          149,
          null,
          -114,
          null,
          177,
          191,
          647,
          null,
          457,
          -1,
          -122,
          159,
          458,
          4,
          1958,
          67,
          14,
          -85,
          64,
          3,
          3,
          -77,
          174,
          52,
          2213,
          -112,
          694,
          -54,
          98,
          null,
          6,
          10,
          -85,
          18,
          278,
          -1,
          154,
          177,
          144,
          186,
          136,
          22,
          148,
          386,
          null,
          192,
          219,
          504,
          90,
          177,
          146,
          133,
          -104,
          48,
          2190,
          206,
          2,
          2953,
          2719,
          null,
          941,
          -24,
          28
         ],
         "xaxis": "x",
         "yaxis": "y"
        }
       ],
       "layout": {
        "barmode": "relative",
        "legend": {
         "title": {
          "text": "variable"
         },
         "tracegroupgap": 0
        },
        "margin": {
         "t": 60
        },
        "template": {
         "data": {
          "bar": [
           {
            "error_x": {
             "color": "#2a3f5f"
            },
            "error_y": {
             "color": "#2a3f5f"
            },
            "marker": {
             "line": {
              "color": "#E5ECF6",
              "width": 0.5
             },
             "pattern": {
              "fillmode": "overlay",
              "size": 10,
              "solidity": 0.2
             }
            },
            "type": "bar"
           }
          ],
          "barpolar": [
           {
            "marker": {
             "line": {
              "color": "#E5ECF6",
              "width": 0.5
             },
             "pattern": {
              "fillmode": "overlay",
              "size": 10,
              "solidity": 0.2
             }
            },
            "type": "barpolar"
           }
          ],
          "carpet": [
           {
            "aaxis": {
             "endlinecolor": "#2a3f5f",
             "gridcolor": "white",
             "linecolor": "white",
             "minorgridcolor": "white",
             "startlinecolor": "#2a3f5f"
            },
            "baxis": {
             "endlinecolor": "#2a3f5f",
             "gridcolor": "white",
             "linecolor": "white",
             "minorgridcolor": "white",
             "startlinecolor": "#2a3f5f"
            },
            "type": "carpet"
           }
          ],
          "choropleth": [
           {
            "colorbar": {
             "outlinewidth": 0,
             "ticks": ""
            },
            "type": "choropleth"
           }
          ],
          "contour": [
           {
            "colorbar": {
             "outlinewidth": 0,
             "ticks": ""
            },
            "colorscale": [
             [
              0,
              "#0d0887"
             ],
             [
              0.1111111111111111,
              "#46039f"
             ],
             [
              0.2222222222222222,
              "#7201a8"
             ],
             [
              0.3333333333333333,
              "#9c179e"
             ],
             [
              0.4444444444444444,
              "#bd3786"
             ],
             [
              0.5555555555555556,
              "#d8576b"
             ],
             [
              0.6666666666666666,
              "#ed7953"
             ],
             [
              0.7777777777777778,
              "#fb9f3a"
             ],
             [
              0.8888888888888888,
              "#fdca26"
             ],
             [
              1,
              "#f0f921"
             ]
            ],
            "type": "contour"
           }
          ],
          "contourcarpet": [
           {
            "colorbar": {
             "outlinewidth": 0,
             "ticks": ""
            },
            "type": "contourcarpet"
           }
          ],
          "heatmap": [
           {
            "colorbar": {
             "outlinewidth": 0,
             "ticks": ""
            },
            "colorscale": [
             [
              0,
              "#0d0887"
             ],
             [
              0.1111111111111111,
              "#46039f"
             ],
             [
              0.2222222222222222,
              "#7201a8"
             ],
             [
              0.3333333333333333,
              "#9c179e"
             ],
             [
              0.4444444444444444,
              "#bd3786"
             ],
             [
              0.5555555555555556,
              "#d8576b"
             ],
             [
              0.6666666666666666,
              "#ed7953"
             ],
             [
              0.7777777777777778,
              "#fb9f3a"
             ],
             [
              0.8888888888888888,
              "#fdca26"
             ],
             [
              1,
              "#f0f921"
             ]
            ],
            "type": "heatmap"
           }
          ],
          "heatmapgl": [
           {
            "colorbar": {
             "outlinewidth": 0,
             "ticks": ""
            },
            "colorscale": [
             [
              0,
              "#0d0887"
             ],
             [
              0.1111111111111111,
              "#46039f"
             ],
             [
              0.2222222222222222,
              "#7201a8"
             ],
             [
              0.3333333333333333,
              "#9c179e"
             ],
             [
              0.4444444444444444,
              "#bd3786"
             ],
             [
              0.5555555555555556,
              "#d8576b"
             ],
             [
              0.6666666666666666,
              "#ed7953"
             ],
             [
              0.7777777777777778,
              "#fb9f3a"
             ],
             [
              0.8888888888888888,
              "#fdca26"
             ],
             [
              1,
              "#f0f921"
             ]
            ],
            "type": "heatmapgl"
           }
          ],
          "histogram": [
           {
            "marker": {
             "pattern": {
              "fillmode": "overlay",
              "size": 10,
              "solidity": 0.2
             }
            },
            "type": "histogram"
           }
          ],
          "histogram2d": [
           {
            "colorbar": {
             "outlinewidth": 0,
             "ticks": ""
            },
            "colorscale": [
             [
              0,
              "#0d0887"
             ],
             [
              0.1111111111111111,
              "#46039f"
             ],
             [
              0.2222222222222222,
              "#7201a8"
             ],
             [
              0.3333333333333333,
              "#9c179e"
             ],
             [
              0.4444444444444444,
              "#bd3786"
             ],
             [
              0.5555555555555556,
              "#d8576b"
             ],
             [
              0.6666666666666666,
              "#ed7953"
             ],
             [
              0.7777777777777778,
              "#fb9f3a"
             ],
             [
              0.8888888888888888,
              "#fdca26"
             ],
             [
              1,
              "#f0f921"
             ]
            ],
            "type": "histogram2d"
           }
          ],
          "histogram2dcontour": [
           {
            "colorbar": {
             "outlinewidth": 0,
             "ticks": ""
            },
            "colorscale": [
             [
              0,
              "#0d0887"
             ],
             [
              0.1111111111111111,
              "#46039f"
             ],
             [
              0.2222222222222222,
              "#7201a8"
             ],
             [
              0.3333333333333333,
              "#9c179e"
             ],
             [
              0.4444444444444444,
              "#bd3786"
             ],
             [
              0.5555555555555556,
              "#d8576b"
             ],
             [
              0.6666666666666666,
              "#ed7953"
             ],
             [
              0.7777777777777778,
              "#fb9f3a"
             ],
             [
              0.8888888888888888,
              "#fdca26"
             ],
             [
              1,
              "#f0f921"
             ]
            ],
            "type": "histogram2dcontour"
           }
          ],
          "mesh3d": [
           {
            "colorbar": {
             "outlinewidth": 0,
             "ticks": ""
            },
            "type": "mesh3d"
           }
          ],
          "parcoords": [
           {
            "line": {
             "colorbar": {
              "outlinewidth": 0,
              "ticks": ""
             }
            },
            "type": "parcoords"
           }
          ],
          "pie": [
           {
            "automargin": true,
            "type": "pie"
           }
          ],
          "scatter": [
           {
            "fillpattern": {
             "fillmode": "overlay",
             "size": 10,
             "solidity": 0.2
            },
            "type": "scatter"
           }
          ],
          "scatter3d": [
           {
            "line": {
             "colorbar": {
              "outlinewidth": 0,
              "ticks": ""
             }
            },
            "marker": {
             "colorbar": {
              "outlinewidth": 0,
              "ticks": ""
             }
            },
            "type": "scatter3d"
           }
          ],
          "scattercarpet": [
           {
            "marker": {
             "colorbar": {
              "outlinewidth": 0,
              "ticks": ""
             }
            },
            "type": "scattercarpet"
           }
          ],
          "scattergeo": [
           {
            "marker": {
             "colorbar": {
              "outlinewidth": 0,
              "ticks": ""
             }
            },
            "type": "scattergeo"
           }
          ],
          "scattergl": [
           {
            "marker": {
             "colorbar": {
              "outlinewidth": 0,
              "ticks": ""
             }
            },
            "type": "scattergl"
           }
          ],
          "scattermapbox": [
           {
            "marker": {
             "colorbar": {
              "outlinewidth": 0,
              "ticks": ""
             }
            },
            "type": "scattermapbox"
           }
          ],
          "scatterpolar": [
           {
            "marker": {
             "colorbar": {
              "outlinewidth": 0,
              "ticks": ""
             }
            },
            "type": "scatterpolar"
           }
          ],
          "scatterpolargl": [
           {
            "marker": {
             "colorbar": {
              "outlinewidth": 0,
              "ticks": ""
             }
            },
            "type": "scatterpolargl"
           }
          ],
          "scatterternary": [
           {
            "marker": {
             "colorbar": {
              "outlinewidth": 0,
              "ticks": ""
             }
            },
            "type": "scatterternary"
           }
          ],
          "surface": [
           {
            "colorbar": {
             "outlinewidth": 0,
             "ticks": ""
            },
            "colorscale": [
             [
              0,
              "#0d0887"
             ],
             [
              0.1111111111111111,
              "#46039f"
             ],
             [
              0.2222222222222222,
              "#7201a8"
             ],
             [
              0.3333333333333333,
              "#9c179e"
             ],
             [
              0.4444444444444444,
              "#bd3786"
             ],
             [
              0.5555555555555556,
              "#d8576b"
             ],
             [
              0.6666666666666666,
              "#ed7953"
             ],
             [
              0.7777777777777778,
              "#fb9f3a"
             ],
             [
              0.8888888888888888,
              "#fdca26"
             ],
             [
              1,
              "#f0f921"
             ]
            ],
            "type": "surface"
           }
          ],
          "table": [
           {
            "cells": {
             "fill": {
              "color": "#EBF0F8"
             },
             "line": {
              "color": "white"
             }
            },
            "header": {
             "fill": {
              "color": "#C8D4E3"
             },
             "line": {
              "color": "white"
             }
            },
            "type": "table"
           }
          ]
         },
         "layout": {
          "annotationdefaults": {
           "arrowcolor": "#2a3f5f",
           "arrowhead": 0,
           "arrowwidth": 1
          },
          "autotypenumbers": "strict",
          "coloraxis": {
           "colorbar": {
            "outlinewidth": 0,
            "ticks": ""
           }
          },
          "colorscale": {
           "diverging": [
            [
             0,
             "#8e0152"
            ],
            [
             0.1,
             "#c51b7d"
            ],
            [
             0.2,
             "#de77ae"
            ],
            [
             0.3,
             "#f1b6da"
            ],
            [
             0.4,
             "#fde0ef"
            ],
            [
             0.5,
             "#f7f7f7"
            ],
            [
             0.6,
             "#e6f5d0"
            ],
            [
             0.7,
             "#b8e186"
            ],
            [
             0.8,
             "#7fbc41"
            ],
            [
             0.9,
             "#4d9221"
            ],
            [
             1,
             "#276419"
            ]
           ],
           "sequential": [
            [
             0,
             "#0d0887"
            ],
            [
             0.1111111111111111,
             "#46039f"
            ],
            [
             0.2222222222222222,
             "#7201a8"
            ],
            [
             0.3333333333333333,
             "#9c179e"
            ],
            [
             0.4444444444444444,
             "#bd3786"
            ],
            [
             0.5555555555555556,
             "#d8576b"
            ],
            [
             0.6666666666666666,
             "#ed7953"
            ],
            [
             0.7777777777777778,
             "#fb9f3a"
            ],
            [
             0.8888888888888888,
             "#fdca26"
            ],
            [
             1,
             "#f0f921"
            ]
           ],
           "sequentialminus": [
            [
             0,
             "#0d0887"
            ],
            [
             0.1111111111111111,
             "#46039f"
            ],
            [
             0.2222222222222222,
             "#7201a8"
            ],
            [
             0.3333333333333333,
             "#9c179e"
            ],
            [
             0.4444444444444444,
             "#bd3786"
            ],
            [
             0.5555555555555556,
             "#d8576b"
            ],
            [
             0.6666666666666666,
             "#ed7953"
            ],
            [
             0.7777777777777778,
             "#fb9f3a"
            ],
            [
             0.8888888888888888,
             "#fdca26"
            ],
            [
             1,
             "#f0f921"
            ]
           ]
          },
          "colorway": [
           "#636efa",
           "#EF553B",
           "#00cc96",
           "#ab63fa",
           "#FFA15A",
           "#19d3f3",
           "#FF6692",
           "#B6E880",
           "#FF97FF",
           "#FECB52"
          ],
          "font": {
           "color": "#2a3f5f"
          },
          "geo": {
           "bgcolor": "white",
           "lakecolor": "white",
           "landcolor": "#E5ECF6",
           "showlakes": true,
           "showland": true,
           "subunitcolor": "white"
          },
          "hoverlabel": {
           "align": "left"
          },
          "hovermode": "closest",
          "mapbox": {
           "style": "light"
          },
          "paper_bgcolor": "white",
          "plot_bgcolor": "#E5ECF6",
          "polar": {
           "angularaxis": {
            "gridcolor": "white",
            "linecolor": "white",
            "ticks": ""
           },
           "bgcolor": "#E5ECF6",
           "radialaxis": {
            "gridcolor": "white",
            "linecolor": "white",
            "ticks": ""
           }
          },
          "scene": {
           "xaxis": {
            "backgroundcolor": "#E5ECF6",
            "gridcolor": "white",
            "gridwidth": 2,
            "linecolor": "white",
            "showbackground": true,
            "ticks": "",
            "zerolinecolor": "white"
           },
           "yaxis": {
            "backgroundcolor": "#E5ECF6",
            "gridcolor": "white",
            "gridwidth": 2,
            "linecolor": "white",
            "showbackground": true,
            "ticks": "",
            "zerolinecolor": "white"
           },
           "zaxis": {
            "backgroundcolor": "#E5ECF6",
            "gridcolor": "white",
            "gridwidth": 2,
            "linecolor": "white",
            "showbackground": true,
            "ticks": "",
            "zerolinecolor": "white"
           }
          },
          "shapedefaults": {
           "line": {
            "color": "#2a3f5f"
           }
          },
          "ternary": {
           "aaxis": {
            "gridcolor": "white",
            "linecolor": "white",
            "ticks": ""
           },
           "baxis": {
            "gridcolor": "white",
            "linecolor": "white",
            "ticks": ""
           },
           "bgcolor": "#E5ECF6",
           "caxis": {
            "gridcolor": "white",
            "linecolor": "white",
            "ticks": ""
           }
          },
          "title": {
           "x": 0.05
          },
          "xaxis": {
           "automargin": true,
           "gridcolor": "white",
           "linecolor": "white",
           "ticks": "",
           "title": {
            "standoff": 15
           },
           "zerolinecolor": "white",
           "zerolinewidth": 2
          },
          "yaxis": {
           "automargin": true,
           "gridcolor": "white",
           "linecolor": "white",
           "ticks": "",
           "title": {
            "standoff": 15
           },
           "zerolinecolor": "white",
           "zerolinewidth": 2
          }
         }
        },
        "width": 700,
        "xaxis": {
         "anchor": "y",
         "domain": [
          0,
          1
         ],
         "title": {
          "text": "value"
         }
        },
        "yaxis": {
         "anchor": "x",
         "domain": [
          0,
          1
         ],
         "title": {
          "text": "count"
         }
        }
       }
      }
     },
     "metadata": {},
     "output_type": "display_data"
    }
   ],
   "source": [
    "fig = px.histogram(diff_lst_people,width=700)\n",
    "fig.show()"
   ]
  },
  {
   "cell_type": "markdown",
   "metadata": {},
   "source": [
    "We can clearly see that most changes are positive, indicating that the population has indeed grown for most SA2s."
   ]
  },
  {
   "cell_type": "markdown",
   "metadata": {},
   "source": [
    "##### Differnce in population percentages.."
   ]
  },
  {
   "cell_type": "code",
   "execution_count": 237,
   "metadata": {},
   "outputs": [
    {
     "data": {
      "text/html": [
       "<div>\n",
       "<style scoped>\n",
       "    .dataframe tbody tr th:only-of-type {\n",
       "        vertical-align: middle;\n",
       "    }\n",
       "\n",
       "    .dataframe tbody tr th {\n",
       "        vertical-align: top;\n",
       "    }\n",
       "\n",
       "    .dataframe thead th {\n",
       "        text-align: right;\n",
       "    }\n",
       "</style>\n",
       "<table border=\"1\" class=\"dataframe\">\n",
       "  <thead>\n",
       "    <tr style=\"text-align: right;\">\n",
       "      <th></th>\n",
       "      <th>Difference in People (%)</th>\n",
       "    </tr>\n",
       "  </thead>\n",
       "  <tbody>\n",
       "    <tr>\n",
       "      <th>count</th>\n",
       "      <td>2117.000000</td>\n",
       "    </tr>\n",
       "    <tr>\n",
       "      <th>mean</th>\n",
       "      <td>0.001721</td>\n",
       "    </tr>\n",
       "    <tr>\n",
       "      <th>std</th>\n",
       "      <td>0.031478</td>\n",
       "    </tr>\n",
       "    <tr>\n",
       "      <th>min</th>\n",
       "      <td>-0.069694</td>\n",
       "    </tr>\n",
       "    <tr>\n",
       "      <th>25%</th>\n",
       "      <td>-0.028745</td>\n",
       "    </tr>\n",
       "    <tr>\n",
       "      <th>50%</th>\n",
       "      <td>0.013679</td>\n",
       "    </tr>\n",
       "    <tr>\n",
       "      <th>75%</th>\n",
       "      <td>0.026888</td>\n",
       "    </tr>\n",
       "    <tr>\n",
       "      <th>max</th>\n",
       "      <td>0.096395</td>\n",
       "    </tr>\n",
       "  </tbody>\n",
       "</table>\n",
       "</div>"
      ],
      "text/plain": [
       "       Difference in People (%)\n",
       "count               2117.000000\n",
       "mean                   0.001721\n",
       "std                    0.031478\n",
       "min                   -0.069694\n",
       "25%                   -0.028745\n",
       "50%                    0.013679\n",
       "75%                    0.026888\n",
       "max                    0.096395"
      ]
     },
     "execution_count": 237,
     "metadata": {},
     "output_type": "execute_result"
    }
   ],
   "source": [
    "diff_lst_people_pctg = []\n",
    "nr_people = [round(i,1) for i in df_merged[\"NR_OF_PEOPLE_2016_%\"]]\n",
    "for i,nr in enumerate(list(df_merged[\"ERP_P_202021 (%)\"])):\n",
    "    if nr!=nr_people[i]:\n",
    "        diff_lst_people_pctg.append(nr-nr_people[i])\n",
    "        \n",
    "pd.DataFrame(diff_lst_people_pctg,columns=[\"Difference in People (%)\"]).describe()"
   ]
  },
  {
   "cell_type": "code",
   "execution_count": 238,
   "metadata": {},
   "outputs": [
    {
     "data": {
      "application/vnd.plotly.v1+json": {
       "config": {
        "plotlyServerURL": "https://plot.ly"
       },
       "data": [
        {
         "alignmentgroup": "True",
         "bingroup": "x",
         "hovertemplate": "variable=0<br>value=%{x}<br>count=%{y}<extra></extra>",
         "legendgroup": "0",
         "marker": {
          "color": "#636efa",
          "pattern": {
           "shape": ""
          }
         },
         "name": "0",
         "offsetgroup": "0",
         "orientation": "v",
         "showlegend": true,
         "type": "histogram",
         "x": [
          0.0168560677503366,
          0.0332683498832279,
          -0.0557382239442662,
          0.0198263171021858,
          -0.050393332253455006,
          0.0095336050624883,
          0.0263157085432507,
          0.0134692827750957,
          0.031314136023951,
          0.0334279569912565,
          0.0346658852925514,
          0.034436206771242,
          0.0370872419070339,
          0.014679961082337,
          0.0001596071080285,
          0.0132707471041334,
          0.0137106398652853,
          0.0444758831518697,
          0.0333072784461617,
          0.0382589916513414,
          -0.003912628110494407,
          -0.04632529742687261,
          0.0263118156869573,
          -0.0506775107628718,
          0.0427785978079559,
          0.0297920292132393,
          0.0293132078891535,
          -0.05697615224556111,
          0.0184832816809696,
          -0.042374048289091706,
          -0.01690308956150441,
          0.0253736373202527,
          0.0296947078059048,
          0.0279935296056976,
          0.0320654572885734,
          0.0255955301289753,
          0.027946815330177,
          -0.042035369791567606,
          -0.0032508425406198027,
          0.0416185266325286,
          -0.04393508366273711,
          -0.0553995454467421,
          -0.010518805240360807,
          -0.05566425967469191,
          0.0381032773996062,
          -0.0374340136527921,
          -0.012079840614006312,
          0.0133447113737076,
          -0.05715133077876321,
          0.019234602945592,
          0.0253736373202527,
          -0.03797122782127851,
          0.0388039915324147,
          0.0204764241031803,
          -0.021325374310784406,
          0.0357870279050449,
          -0.051907653351580006,
          0.0268607084243239,
          0.0187908173281466,
          0.0250349588227286,
          0.0362736349417175,
          0.0221659237345073,
          0.0392672414313269,
          0.0139169612488345,
          -0.05723697361721761,
          0.0127802472111674,
          0.0214691024579922,
          -0.051685760542857305,
          0.0328362428346627,
          -0.05103954639815621,
          0.0132084614034393,
          0.0430705620299595,
          null,
          0.0293054221765668,
          -0.025630873371263005,
          -0.010281341006464606,
          -0.05403704574405901,
          -0.0247471949926657,
          -0.03414844294117911,
          -0.031948979135419206,
          0.0239293876354086,
          -0.029414729688428704,
          0.0439230975582097,
          0.0153689966462653,
          0.012581711540205,
          0.0397538484679994,
          -0.021710767083829102,
          0.0190088172805759,
          -0.043791047979882106,
          0.0140843540694498,
          0.0162293178871024,
          0.0157232465689629,
          0.0180433889198176,
          0.0229250307117165,
          -0.03124826500261081,
          0.0090781408761628,
          0.0309326361071997,
          0.0417975980220241,
          -0.022831909696322608,
          0.0406959196909975,
          0.0232559234966538,
          0.0172219962419143,
          0.0254982087216408,
          0.0347515281310058,
          0.0497545962856934,
          -0.007614734445499108,
          0.035623527940723,
          0.0370794561944472,
          -0.0189351605466489,
          -0.0332959074129288,
          0.020842352594758,
          0.0336809926503262,
          0.0339262425968092,
          0.0621533435801096,
          0.0249376374153941,
          0.0268217798613901,
          -0.01470751861203791,
          -0.04283729818800391,
          0.0221386737404536,
          0.0223138522736558,
          -0.0414125127846267,
          -0.0518103319442455,
          0.015898425102165,
          0.0235595662875374,
          0.0319214216057183,
          -0.005489234909313412,
          0.0473760610904381,
          0.00002724999405366201,
          -0.040676762945177906,
          -0.0447759406221073,
          0.037896956016057,
          0.0164278535580648,
          0.00001946428146690144,
          -0.0256620162216101,
          0.0269697084005386,
          0.0339612783034496,
          0.0235284234371904,
          0.0315516002578472,
          -0.0246304093038643,
          0.0411202410269759,
          -0.02021591026717111,
          -0.0161167325902416,
          -0.03764422789263461,
          -0.011137769391008204,
          0.0355262065333885,
          -0.053647760114721006,
          -0.019110339079851005,
          -0.037593620760820706,
          -0.035386371242474,
          0.020340174132912,
          -0.04286454818205761,
          0.0270826012330466,
          0.0246106374867501,
          -0.0384578348579511,
          0.0369120633738318,
          0.0201494241745363,
          0.0276898868148139,
          0.031477635988273,
          0.0217649595362891,
          0.0017284281942608,
          -0.028336408495162307,
          -0.01759601798172611,
          0.0205737455105148,
          -0.05015976087585221,
          0.0205426026601677,
          0.0483765251578368,
          -0.0171639109331609,
          -0.04935783247941591,
          0.0210019597027866,
          -0.0305241937320421,
          0.0409723124878275,
          0.040824383948679,
          -0.051541724860002205,
          -0.03913908470929261,
          0.0112737118256293,
          0.025459280158707,
          0.0142128183271314,
          0.0216754238415414,
          0.0281064224382056,
          0.0273083868980627,
          0.0265259227830932,
          0.0268256727176835,
          0.0381344202499532,
          -0.005905770532705107,
          0.0176502104341862,
          0.0230301378316377,
          0.012243033042681,
          0.0347320638495389,
          -0.052884760281218406,
          0.0203557455580855,
          0.0222671379981352,
          0.0264636370823991,
          0.0311156003529886,
          0.0210992811101211,
          0.0271137440833937,
          0.0181251389019786,
          0.0384575273223038,
          0.0171052105531129,
          0.0296168506800372,
          -0.015887054068932205,
          -0.03535133553583361,
          0.0239138162102351,
          -0.02552187339504841,
          -0.030516408019455307,
          0.0221075308901066,
          -0.0012888429687561015,
          -0.003749128146172412,
          0.0371456347514347,
          0.0146916396512172,
          -0.05129258205722591,
          -0.051358760614213406,
          -0.04303194100267291,
          0.0395397413718635,
          0.0377334560517351,
          -0.03593915683613401,
          -0.02962494392827121,
          -0.045679083282171504,
          0.0368069562539106,
          0.0283088509654614,
          -0.0352579069847925,
          0.0335135998297108,
          -0.050299903702413905,
          -0.0324861933039057,
          -0.035732835452584905,
          -0.0393181560987881,
          -0.043561369458572606,
          -0.050062439468517704,
          0.0001089999762146,
          -0.05058408221183071,
          0.0342921710883869,
          -0.018133232150212605,
          -0.04965368955771281,
          0.0357987064739251,
          -0.027678515781581106,
          -0.02879576553778121,
          0.0270670298078731,
          0.0355845993777892,
          0.0425956335621671,
          0.0219401380694913,
          0.0358298493242721,
          0.0345062781845228,
          -0.051989403333741004,
          0.0286864580259193,
          -0.047068832978908307,
          0.0295896006859835,
          -0.0406456200948308,
          -0.0386096562533929,
          -0.0423857268579718,
          0.0368964919486583,
          0.0401353483847507,
          -0.04537154763499451,
          -0.020009588883621907,
          -0.03673329951998361,
          0.0129203900377291,
          0.0327428142836216,
          -0.019534660415829505,
          -0.049770475246514206,
          0.0403260983431263,
          0.023104102101212,
          0.0136794970149383,
          0.0260159586086604,
          0.0184404602617424,
          0.0299282791835076,
          0.014454175417321,
          0.0248442088643529,
          0.0256383515482025,
          -0.034113407234538706,
          0.0218233523806898,
          -0.011678876415788103,
          -0.053231224491329304,
          -0.030598158001616305,
          0.0366356705770018,
          0.0141193897760903,
          0.0198029599644255,
          0.0002413570901895,
          0.0187713530466797,
          -0.037356156526924506,
          -0.011059912265140609,
          -0.04059890581931021,
          0.0181173531893918,
          0.014403568285507,
          -0.03401219297091081,
          0.0225162808009115,
          -0.047294618643924306,
          0.0249103874213404,
          0.0423542764719775,
          0.0412681695661244,
          0.0148317824777788,
          0.0280168867434579,
          -0.0032508425406198027,
          -0.015166875654656811,
          0.0247897088762456,
          -0.05056851078665721,
          0.0299166006146275,
          0.0220841737523463,
          -0.052452653232653204,
          0.0406258482777166,
          0.0202350670129907,
          -0.025510194826168203,
          -0.01207594775771291,
          0.021169352523402,
          0.0111102118613073,
          -0.01320487608279311,
          0.0445732045592042,
          -0.033112943167139905,
          -0.0192582676189995,
          -0.008116912907345106,
          -0.00047912885973300234,
          -0.05062690363105791,
          -0.032894943214710703,
          -0.03822037062405491,
          0.0143296040159328,
          -0.003184663983632305,
          -0.02705565877464021,
          0.0327583857087951,
          -0.01602719689549391,
          -0.014874911432653307,
          -0.0097830554009119,
          0.0000622857006940846,
          -0.010518805240360807,
          0.0019736781407438,
          -0.04925661821578801,
          -0.04227283402546381,
          0.00003503570664042259,
          0.00008953569474774661,
          -0.021882052760737805,
          0.0324469572053247,
          -0.05805058058253411,
          -0.024603159309810607,
          -0.020223695979757803,
          -0.02820405138118741,
          -0.037507977922366306,
          -0.024879552106640612,
          -0.018090410730985412,
          -0.03045022946246781,
          null,
          -0.0564622952148349,
          -0.04189133410871251,
          -0.053180617359515306,
          0.0291419222122448,
          -0.053383045886771105,
          -0.046375904558686606,
          0.0382940273579818,
          -0.05669586659243771,
          0.038582098723692,
          -0.036573692411955,
          -0.0500274037618773,
          -0.006703806072848109,
          0.0057614273142028,
          -0.050190903726199304,
          -0.03298837176575181,
          -0.03105751504423511,
          -0.0120993048954732,
          -0.03362680019786611,
          -0.027982158572464708,
          -0.020566267333575305,
          -0.015567839852875007,
          -0.0432226909610486,
          -0.03293387177764441,
          0.0397343841865325,
          -0.046212404594364605,
          -0.051008403547809104,
          -0.02112683863982201,
          -0.054694938457640306,
          -0.0011253430044341067,
          -0.049427903892696703,
          -0.0489374039997308,
          -0.0367916923643843,
          -0.0458542618153736,
          -0.022189588407914906,
          -0.03510997844564401,
          -0.009670162568403903,
          -0.0283480870640425,
          -0.018253910695307407,
          -0.039158548990759504,
          -0.046009976067108806,
          -0.053094974521061,
          -0.032034621973873606,
          -0.029737836760779207,
          -0.047240118655817,
          -0.0181604821442663,
          0.0142011397582512,
          -0.016595553914327404,
          -0.053340224467543905,
          -0.013835518802320812,
          -0.054091545732166305,
          -0.025261052023391906,
          -0.053293510192023406,
          -0.05852940190661981,
          0.0462821684719982,
          -0.012052590619952605,
          -0.0036362353136644016,
          -0.03280151466366951,
          -0.015240839924231003,
          -0.02089326726221921,
          -0.028978729783570106,
          -0.02607855184500181,
          -0.029788443892593205,
          -0.03249397901649251,
          -0.051035653541862805,
          -0.018822267714140903,
          -0.0115231621640529,
          -0.0490892253951726,
          -0.056178116705418106,
          -0.04667176163698351,
          -0.0433628337876102,
          0.031345278874298,
          -0.04877390403540881,
          -0.01432212583899331,
          -0.0314234435358129,
          0.0147850682022583,
          -0.048088761327773906,
          -0.0213681957300116,
          -0.013337233196768106,
          -0.0206285530342694,
          0.000011678568880140862,
          -0.0345805499897443,
          -0.016225732566456305,
          -0.017089946663586708,
          0.0232325663588935,
          0.0433742048208431,
          -0.025767123341531306,
          0.0382823487891017,
          0.0224267451061638,
          -0.02587612331774601,
          0.00003503570664042259,
          -0.04794083278862551,
          -0.05531000975199431,
          -0.014018483048109612,
          0.0250544231041955,
          0.00002724999405366201,
          -0.0372666208321767,
          -0.045694654707345,
          -0.0176193751194864,
          -0.0322448362137161,
          -0.003137949708111709,
          0.0470568468743809,
          -0.02938747969437501,
          0.0235634591438308,
          -0.040427620142401505,
          -0.040088941644877404,
          0.0294455650031284,
          0.0253892087454262,
          -0.0219093027547915,
          -0.04904640397594551,
          -0.032015157692406704,
          0.00001946428146690144,
          -0.023454766703263408,
          -0.058315294810483906,
          0.0346580995799647,
          0.0336615283688593,
          -0.016949803837025004,
          0.020094924186429,
          -0.0034221282175285056,
          -0.027760265763742006,
          -0.01854198206101751,
          -0.03851622770235181,
          -0.008778698477219807,
          -0.012192733446514309,
          -0.00998159107187431,
          0.00005060713181394374,
          0.00005060713181394374,
          -0.010191805311716803,
          0.0329569213797575,
          -0.020496195920294405,
          -0.010448733827079906,
          -0.0564039023704342,
          -0.0455428333119032,
          -0.015314804193805306,
          -0.0150851256724958,
          -0.0397152274407129,
          0.0384108130467832,
          -0.006427413276018104,
          -0.03901451330790451,
          -0.02134483859225131,
          0.0161981750367553,
          -0.029586015365337406,
          0.0488709179070961,
          0.00008953569474774661,
          0.0269697084005386,
          -0.049575832431845206,
          -0.04914761823957341,
          -0.0482289041543356,
          -0.0328715860769504,
          -0.033062336035326004,
          -0.023151123912379806,
          -0.005773413418730208,
          -0.02878019411260771,
          -0.01293626899854991,
          0.0400613841151765,
          -0.0288191226755415,
          -0.017062696669533,
          0.0345296353222831,
          0.0169261391636174,
          -0.0239024451770022,
          -0.056392223801554106,
          0.0001518213954418,
          -0.0353046212603131,
          -0.0186665534624057,
          -0.017097732376173402,
          -0.050416689391215304,
          0.0232092092211332,
          -0.029216194017466307,
          -0.01914926764278481,
          -0.03592358541096051,
          -0.049852225228675204,
          -0.04928386820984171,
          -0.004496556554501499,
          0.0131228185649849,
          0.0349111352390344,
          0.0260042800397803,
          0.0411435981647362,
          -0.018214982132373603,
          -0.0137693402453333,
          0.0001751785332021,
          -0.009027841279996104,
          -0.032346050477344,
          0.0286280651815186,
          0.0138235326977933,
          -0.0345104785764635,
          -0.05298986740113971,
          0.0281531367137262,
          0.0414199909615662,
          0.0164006035640111,
          -0.040384798723174305,
          0.0254320301646534,
          0.0312829931736039,
          0.0384224916156634,
          0.0246690303311508,
          0.0136172113142442,
          0.0179772103628301,
          0.0189504244361752,
          0.0315944216770744,
          0.021313388206257,
          -0.041797905557671405,
          -0.049692618120646605,
          -0.04579197611467951,
          0.0366707062836423,
          -0.018016446461411206,
          0.0214107096135915,
          0.0415601337881279,
          -0.0437715836984152,
          0.0323340643728166,
          0.0439308832707965,
          0.0356001708029627,
          0.0195538171616491,
          0.0408516339427327,
          0.0307847075680513,
          0.0190983529753236,
          0.0281453510011394,
          0.0301034577167097,
          0.031395886006112,
          0.025622780123029,
          -0.04163051273705601,
          -0.0475359757341139,
          -0.0173001609034292,
          -0.006263913311696109,
          -0.01883394628302111,
          -0.04856368979556631,
          -0.040042227369356906,
          0.0405090625889152,
          -0.038730334798487705,
          -0.03492701419985521,
          0.0240928875997306,
          0.0367874919724437,
          0.0212394239366828,
          -0.0041695566258575095,
          0.0263468513935977,
          0.0267205655977622,
          -0.03959454889561811,
          0.0406959196909975,
          0.0175451033142649,
          0.0254787444401739,
          0.0180317103509374,
          0.0009342855104112,
          0.0161242107671811,
          0.041848205153838,
          0.0146059968127628,
          0.0156453894430953,
          -0.0226216954564801,
          0.0383952416216097,
          0.0192852100774059,
          0.0344439924838287,
          0.0122936401744949,
          0.0183587102795814,
          0.0239527447731689,
          -0.040217405902559004,
          0.0201922455937635,
          -0.0229603739540042,
          0.0254553873024137,
          0.0323613143668703,
          -0.010152876748782999,
          null,
          -0.039084584721185305,
          0.0320693501448668,
          null,
          0.0431756691498807,
          0.0260432086027141,
          0.0268490298554438,
          0.0365033134630269,
          0.0005372141684864,
          0.0380838131181393,
          -0.05548908114148981,
          0.053425559770351,
          0.00005839284440070431,
          0.004028798728001395,
          -0.05385018864197671,
          -0.03279762180737611,
          -0.04397011936937761,
          0.0182613888722469,
          0.00008953569474774661,
          0.0190788886938567,
          -0.042802262481363505,
          0.0191100315442038,
          -0.04059890581931021,
          0.0216287095660208,
          -0.04953690386891141,
          -0.04355747660227931,
          0.0407231696850511,
          0.0353159922935459,
          -0.025444016269180803,
          -0.0402407630403193,
          0.0357753493361648,
          -0.036133799650803,
          -0.03305065746644591,
          -0.03794008497093151,
          0.0193163529277529,
          0.0003036427908836,
          -0.05766908066578281,
          0.0289862079605096,
          0.0254670658712938,
          null,
          -0.037624763611167705,
          -0.041447548491267104,
          -0.03626226390848461,
          0.0075599269217445,
          -0.053830724360509806,
          -0.0373834065209781,
          0.0367329919843363,
          -0.024245016530819702,
          -0.04901136826930501,
          0.0360556349892882,
          0.0322912429535894,
          0.0363904206305189,
          -0.05870068758352861,
          -0.04956804671925841,
          0.0388507058079352,
          0.0312401717543768,
          -0.0364218710165132,
          -0.01665005390243471,
          -0.016256875416803304,
          -0.03378251444960141,
          -0.038111370647840204,
          0.0255254587156945,
          -0.0373639422395112,
          -0.05573433108797281,
          -0.002009021383031412,
          -0.0334126931017302,
          -0.04441779784311631,
          -0.03852401341493861,
          -0.03929869181732121,
          -0.012955733280016812,
          -0.05709293793436251,
          -0.009561162592189212,
          -0.028745158405967308,
          -0.051171903512131106,
          0.0419572051300527,
          0.0399484912826685,
          -0.04501729771229691,
          -0.010257983868704301,
          -0.03500876418201611,
          -0.051179689224717904,
          -0.0283480870640425,
          -0.03180494345256421,
          -0.0018961285505234016,
          -0.02680262311557051,
          -0.011480340744825707,
          -0.029025444059090605,
          -0.053161153078048404,
          0.0297569935065989,
          0.0368692419546047,
          -0.048232797010629005,
          -0.03477129994811991,
          -0.044904404879788806,
          0.0347515281310058,
          0.0001089999762146,
          -0.05283804600569791,
          -0.040384798723174305,
          0.0211304239604682,
          -0.005189484974723102,
          -0.046811904463545204,
          -0.04820943987286871,
          0.0358064921865118,
          0.0001012142636278,
          -0.016579982489153905,
          -0.02026651739898501,
          -0.013496840304796712,
          0.0386365987117993,
          -0.018261696407894212,
          -0.0369279423346526,
          -0.041459227060147305,
          -0.0511018320988503,
          0.0303681719446596,
          -0.0351527998648712,
          -0.026460051761753006,
          0.0362152420973168,
          -0.05887586611673071,
          -0.018261696407894212,
          -0.050062439468517704,
          -0.007696484427660008,
          0.0139091755362477,
          0.0164862464024655,
          0.0199469956472805,
          0.0370677776255671,
          0.0271916012092613,
          -0.04340176235054401,
          0.0289200294035221,
          0.0242875304143996,
          -0.0313027649907181,
          -0.055847223920480804,
          -0.0213214814544911,
          -0.010725126623909911,
          0.0418365265849579,
          -0.048334011274256905,
          0.0322406358217755,
          -0.05219572471729011,
          -0.050510117942256405,
          -0.0512847963446391,
          0.0963949075366826,
          0.0320654572885734,
          0.000054499988107324025,
          0.0334629926978969,
          0.0292742793262197,
          0.0393489914134879,
          -0.04420758360327381,
          0.0137807112785662,
          0.017494496182451,
          0.0421674193698952,
          0.0331398856255463,
          -0.0447486906280536,
          0.0122274616175074,
          0.0245055303668289,
          -0.046333083139459406,
          -0.045223619095846004,
          -0.03672162095110351,
          -0.02923565829893321,
          -0.01283505473492201,
          -0.04130351280841211,
          0.000502178461846,
          0.0258096372251113,
          0.0319097430368382,
          -0.051541724860002205,
          -0.01433769726416681,
          0.0923813726982075,
          -0.0505334750800167,
          -0.03486083564286771,
          0.0259108514887391,
          -0.0395050132008704,
          0.0309988146641872,
          -0.05926515174606871,
          -0.043748226560654906,
          -0.029531515377230103,
          -0.007229341672454412,
          -0.044530690675624304,
          -0.039863155979861405,
          0.0170507105650056,
          -0.036133799650803,
          0.0396409556354914,
          -0.053410295880824805,
          -0.029013765490210508,
          -0.026351051785538412,
          -0.016883625280037506,
          0.0378619203094166,
          -0.0368072637895578,
          -0.0445384763882111,
          0.0192151386641251,
          -0.05770022351612981,
          -0.0340744786716049,
          -0.051253653494292103,
          -0.05685547370046631,
          -0.053114438802527905,
          0.039298384281674,
          0.0462198827713041,
          -0.044795404903574206,
          0.0388507058079352,
          -0.02298762394805781,
          0.0228004593103283,
          0.0272305297721951,
          -0.008724198489112406,
          0.0380370988426187,
          0.0383952416216097,
          0.038336848777209,
          0.0309832432390137,
          -0.034023871539790904,
          -0.006777770342422301,
          0.0386910986999066,
          -0.0268259802533308,
          0.0395047056652231,
          -0.009736341125391304,
          -0.05304826024554041,
          -0.05483118842790861,
          0.0323496357979901,
          -0.05254218892740101,
          -0.04758658286592791,
          -0.046979297284160504,
          -0.04197697694716691,
          -0.01599216118885341,
          0.0685648778953069,
          -0.0150033756903349,
          -0.028877515519942207,
          0.0314620645630994,
          -0.048357368412017106,
          -0.034086157240485,
          -0.054624867044359406,
          -0.047173940098829505,
          -0.011091055115487705,
          0.0410852053203355,
          0.0292742793262197,
          -0.012266697716088501,
          -0.05041279653492191,
          -0.049778260959101005,
          -0.02285137397778951,
          -0.0229603739540042,
          -0.014750340031265102,
          -0.01698873239995881,
          -0.0367761209392108,
          -0.024186623686418912,
          -0.021839231341510612,
          -0.009475519753734812,
          -0.0188183748578475,
          0.0295662435482232,
          0.0394891342400496,
          0.0317423502162228,
          -0.0486415469214339,
          -0.04518469053291221,
          -0.01883394628302111,
          -0.03122880072114391,
          0.0372779918654096,
          -0.05265118890361561,
          -0.026896051666611603,
          -0.053807367222749605,
          -0.03354505021570521,
          -0.046854725882772404,
          -0.027339837284057006,
          -0.041272369958065006,
          -0.02609412327017531,
          0.0194720671794881,
          -0.03742622794020531,
          -0.0246304093038643,
          -0.03218644336931541,
          -0.050502332229669704,
          0.036452706331213,
          -0.0537334029531753,
          -0.0390651204397184,
          -0.0025034141322907016,
          -0.01629580397973711,
          0.0694329848487308,
          -0.02292144539107041,
          0.0227926735977415,
          0.0250777802419558,
          -0.019639767535750807,
          -0.0273476229966437,
          -0.02602405185689441,
          0.0453245258238266,
          -0.03387983585693591,
          -0.023758409494147106,
          -0.024536980752823206,
          -0.02509755205906991,
          -0.011783983535709308,
          -0.013337233196768106,
          -0.006929591737864102,
          -0.0234469809906767,
          -0.026238158953030402,
          -0.0017131643047345047,
          -0.03242390760321161,
          -0.04776176139913001,
          -0.04760215429110141,
          0.0234388877424427,
          -0.005637163448461907,
          -0.0263354803603649,
          -0.022065017006526702,
          -0.0221818026953281,
          -0.009923198227473604,
          -0.027250301589309203,
          0.0329647070923442,
          0.0123792830129493,
          -0.0340394429649645,
          0.0134342470684553,
          0.0268879584183776,
          0.013348604230001,
          0.0329530285234641,
          0.010697569094209,
          0.0251244945174763,
          0.0298932434768672,
          0.0192813172211125,
          0.0144386039921474,
          0.0238359590843675,
          -0.029586015365337406,
          -0.03609097823157591,
          0.0238787805035946,
          0.0259419943390862,
          0.0153495323647984,
          0.0146098896690562,
          -0.05652068805923561,
          0.0251556373678234,
          -0.039322048955081505,
          -0.056964473676681004,
          0.0152132823945301,
          0.0155208180417072,
          0.0162176393182222,
          0.0250622088167822,
          0.0110128904539728,
          -0.05134318918903981,
          0.0334201712786697,
          0.0323535286542835,
          -0.022010517018419412,
          0.0156181394490417,
          0.0401976340854448,
          0.0345335281785765,
          0.0400341341211228,
          -0.05647008092742171,
          0.0243848518217341,
          0.0135082113380295,
          -0.0505762964992439,
          0.0219673880635449,
          0.0208579240199315,
          0.0278261367850822,
          0.0154857823350667,
          0.0272071726344348,
          0.0387845272509478,
          -0.012558661938092006,
          -0.0482561541483893,
          -0.0342963714803276,
          0.0297608863628922,
          -0.039828120273220906,
          -0.02764737293123401,
          0.0152911395203977,
          -0.053102760233647704,
          -0.037422335083911906,
          0.0250933516671293,
          -0.0295431939461102,
          0.0329374570982906,
          -0.02347423098473031,
          -0.0403225130224802,
          0.00003892856293380288,
          0.0311156003529886,
          -0.05318451021580871,
          0.0188531030288407,
          0.0350045637900755,
          0.0372429561587692,
          -0.04262708394816141,
          -0.037936192114638105,
          0.0308703504065056,
          0.0413343481231118,
          0.0387494915443073,
          0.0396837770547186,
          0.0312129217603231,
          -0.04912815395810641,
          0.0452038472787319,
          0.0260860300219413,
          0.0179032460932559,
          -0.0427983696250701,
          0.0273278511795296,
          0.0281570295700196,
          0.0407737768168651,
          0.0379125274412306,
          0.0005099641744328,
          0.0081905696412721,
          0.0279078867672432,
          0.0426189906999273,
          -0.047244011512110405,
          -0.030644872277136803,
          0.0380954916870194,
          0.014874603897006,
          0.026891851274671,
          -0.0443282621483686,
          0.0368770276671914,
          -0.052012760471501204,
          0.0273589940298766,
          -0.053274045910556504,
          0.0271721369277944,
          -0.034670085684492105,
          -0.052658974616202406,
          -0.02928626543074711,
          0.019849674239946,
          0.0417430980339168,
          0.03510188519741,
          0.0252996730506784,
          0.0342065282499325,
          0.0402638126424323,
          -0.0397424774347666,
          0.0236491019822852,
          0.0350668494907696,
          -0.037068085161214306,
          0.0436038833421526,
          0.0435221333599916,
          -0.054905152697482806,
          0.0225863522141924,
          0.0428058478020096,
          0.0192696386522324,
          0.0298932434768672,
          -0.056847687987879605,
          0.0356040636592561,
          -0.009183555531731308,
          0.0404584554571013,
          -0.0361182282256295,
          0.0383991344779031,
          0.035623527940723,
          -0.04420758360327381,
          0.0358259564679787,
          -0.0281417656804933,
          0.0301034577167097,
          0.0279234581924168,
          0.0162682464500362,
          0.0382901345016885,
          0.0174867104698642,
          0.0414978480874338,
          0.0276509582518801,
          0.0423425979030973,
          0.017167496253807,
          0.0371650990329016,
          0.0223566736928829,
          0.0309521003886666,
          0.0209863882776131,
          -0.046601690223702606,
          0.0254047801705997,
          -0.051035653541862805,
          0.035767563623578,
          0.0358337421805655,
          0.0001284642576815,
          0.0291886364877653,
          0.0351680637543975,
          null,
          -0.03220980050707571,
          0.0461381327891431,
          -0.04636033313351311,
          0.0379748131419247,
          0.0252179230685175,
          0.0388273486701749,
          -0.050595760780710805,
          0.0568434875959389,
          0.0274212797305707,
          0.0595256655820779,
          0.0179888889317103,
          0.0292236721944058,
          0.0242524947077591,
          0.0202856741448046,
          -0.043230476673635304,
          0.0270826012330466,
          0.0170273534272453,
          0.0260471014590075,
          0.0227732093162746,
          -0.05747443785111381,
          0.0182808531537138,
          0.026759494160696,
          0.0195538171616491,
          0.0406608839843571,
          0.0201104956116025,
          -0.0281261942553198,
          0.0159178893836319,
          0.0316333502400082,
          0.0437323475998341,
          -0.04572969041398551,
          0.0224773522379777,
          0.0408049196672121,
          -0.051557296285175705,
          0.023656887694872,
          -0.050463403666735906,
          0.021753280967409,
          -0.05361272440808051,
          0.0147227825015642,
          -0.0454416190482753,
          -0.03344383595207731,
          0.0240851018871438,
          0.0330814927811456,
          -0.050031296618170705,
          0.0329063142479435,
          -0.05478836700868141,
          0.038776741538361,
          0.0392594557187402,
          0.000023357137760281725,
          0.0244938517979487,
          0.02045306696542,
          0.0341870639684656,
          0.0257512443807106,
          0.0193708529158603,
          0.0329179928168237,
          0.0202117098752304,
          0.0179343889436029,
          0.0366239920081217,
          0.0314659574193928,
          -0.056668616598384104,
          0.000011678568880140862,
          0.0101136406502019,
          0.0262144942796228,
          0.0219012095065574,
          -0.0542667242653684,
          0.0216793166978348,
          0.0189504244361752,
          0.0357013850665906,
          -0.053293510192023406,
          0.0170468177087122,
          0.0346269567296176,
          0.0244704946601884,
          0.0159607108028591,
          0.016420067845478,
          0.0269697084005386,
          0.0234817091616698,
          0.015150996693836,
          0.0360673135581683,
          0.0301618505611104,
          0.012663461522366,
          0.0226875664778203,
          -0.03251344329795941,
          0.0200287456294415,
          0.0170662819901791,
          0.019542138592769,
          0.0206866383430228,
          0.0244627089476017,
          -0.0386524776726201,
          0.0284528866483165,
          0.0299243863272142,
          -0.0441141550522326,
          0.0276898868148139,
          0.0076494626164922,
          0.0227226021844607,
          0.0356352065096031,
          0.0205776383668082,
          -0.051020082116689305,
          0.0192462815144721,
          0.0115228546284056,
          0.0421518479447217,
          0.0207995311755308,
          0.0294261007216615,
          0.0231780663707862,
          0.0132434971100797,
          0.0137534612845125,
          0.0180161389257639,
          0.0117758902874753,
          0.00008564283845436632,
          0.0314348145690458,
          -0.019904481763700604,
          0.0346542067236713,
          0.0224267451061638,
          0.0266816370348284,
          0.0396175984977311,
          0.0001284642576815,
          -0.043892262243510005,
          0.0243031018395731,
          -0.054566474199958706,
          0.0138702469733139,
          null,
          0.0251867802181704,
          0.0189971387116958,
          0.0320537787196932,
          0.0360789921270485,
          -0.04314872669147431,
          -0.044589083520025004,
          -0.047866868519051205,
          0.0293482435957939,
          0.0254631730150004,
          -0.05136654632680011,
          0.0384224916156634,
          -0.050623010774764506,
          -0.035355228392127,
          0.0439036332767428,
          0.0392360985809799,
          0.0403961697564072,
          -0.026343266072951607,
          0.0392789200002071,
          0.0364604920437997,
          0.0173387819307158,
          -0.038123049216720405,
          0.030095672004123,
          -0.02263337402536021,
          0.0346542067236713,
          -0.0481432613158812,
          0.0330931713500258,
          -0.015918196919279204,
          -0.027335944427763603,
          0.0335486355363513,
          -0.019756553224552206,
          -0.02496130208880161,
          -0.042124905486315305,
          0.0180433889198176,
          -0.028885301232529012,
          0.0172297819545011,
          0.0283477795283952,
          -0.034055014390138,
          -0.05111351066773041,
          0.025377530176546,
          0.034876099532394,
          -0.0292045154485861,
          -0.025226016316751504,
          0.0388545986642286,
          0.0191917815263648,
          0.0156570680119755,
          0.0185728173757173,
          0.0325442786126592,
          -0.020815410136351603,
          0.0338444926146482,
          0.0248909231398735,
          -0.0502220465765463,
          0.019849674239946,
          null,
          -0.015844232649705012,
          -0.043857226536869506,
          -0.0435925123089197,
          -0.052098403309955604,
          0.0368458848168444,
          0.0269346726938982,
          0.0265765299149072,
          -0.02864783699863281,
          0.01796553179395,
          0.026370208531358,
          0.0238048162340204,
          0.0326844214392208,
          0.0253035659069718,
          -0.03994879881831571,
          0.0506927746523981,
          0.0121301402101729,
          0.0365227777444938,
          0.00002724999405366201,
          0.0462627041905313,
          -0.056921652257453804,
          0.000011678568880140862,
          -0.0029822354563765058,
          0.0289745293916294,
          -0.006450770413778312,
          -0.0419458340968198,
          0.0333150641587485,
          -0.046227976019538104,
          0.0377412417643218,
          0.0226058164956593,
          0.0355495636711487,
          -0.02388298089553531,
          0.0322523143906556,
          0.0350473852093027,
          -0.05178308195019181,
          null,
          0.0349033495264476,
          -0.036371263884699204,
          0.0174399961943436,
          -0.0363050853277118,
          0.0338483854709416,
          -0.052098403309955604,
          0.0357597779109913,
          -0.05423947427131481,
          0.046679239813923,
          -0.052293046124624605,
          0.0308586718376255,
          0.0271916012092613,
          0.041069633895162,
          0.0251673159367035,
          -0.03904565615825151,
          0.0411319195958561,
          0.0388039915324147,
          0.0269152084124313,
          -0.048528654088925906,
          0.0389869557782035,
          0.0345568853163368,
          0.0153106038018646,
          0.0153222823707448,
          0.0374337061171448,
          -0.037239370838123106,
          0.014761711064498,
          -0.046519940241541706,
          0.00003503570664042259,
          0.0158828536769915,
          0.0024135709018957,
          -0.054558688487372005,
          0.0246884946126177,
          0.0233921734669221,
          0.0350084566463689,
          -0.05338693874306451,
          0.0320966001389204,
          0.0239605304857556,
          0.0136055327453641,
          0.0271643512152076,
          0.0331943856136537,
          0.0250349588227286,
          -0.04248304826530631,
          null,
          0.0347787781250594,
          -0.0350515856012433,
          -0.01895073197182251,
          0.0262495299862632,
          -0.006092627634787406,
          0.0169300320199108,
          0.0438296690071686,
          0.016665317791961,
          0.022827709304382,
          0.0359855635760073,
          -0.03462726426526491,
          -0.009977698215580907,
          0.0231313520952656,
          -0.01697316097478531,
          0.0128113900615145,
          0.0330814927811456,
          -0.0527562960235369,
          0.0411358124521495,
          -0.031088657894582206,
          -0.03504379988865661,
          -0.021924874179965012,
          0.0362697420854241,
          0.0308353146998652,
          -0.0035272353374498078,
          -0.0510590106796231,
          -0.0083115557220141,
          0.0405830268584894,
          0.0279857438931108,
          0.0344323139149486,
          -0.045554511880783306,
          0.0044028204678131,
          0.0311467432033356,
          0.0038656062993266,
          0.0067735699504817,
          0.0112347832626955,
          0.0245561374986428,
          0.0137534612845125,
          0.0167392820615352,
          0.016256567881156,
          0.0198146385333056,
          -0.02678705169039701,
          0.0160346750724334,
          0.0121768544856935,
          0.0186195316512379,
          0.0156103537364549,
          0.0085019981447425,
          0.0107131405193825,
          0.0143763182914534,
          -0.02928626543074711,
          -0.030734407971884606,
          -0.05276797459241701,
          0.0455658829140162,
          0.0394151699704754,
          0.0272850297603024,
          0.0273044940417693,
          -0.048808939742049307,
          0.0318786001864911,
          0.0408010268109187,
          0.041980562267813,
          -0.0369941208916401,
          -0.05297429597596621,
          -0.0079261629489695,
          -0.05080986787684671,
          0.0200832456175489,
          0.0366162062955349,
          0.0269658155442452,
          0.0413732766860456,
          0.0161670321864083,
          0.0420506336810938,
          0.0363398134987049,
          0.0356935993540038,
          0.0257239943866569,
          0.0619431293402671,
          0.026728351310349,
          0.0458539542797264,
          0.0422803122024032,
          0.0172648176611415,
          0.0486645965235469,
          -0.011161126528768509,
          -0.0045471636863154,
          0.0310494217960011,
          -0.04229229830693071,
          0.0426189906999273,
          0.031427028856459,
          0.0277833153658551,
          -0.042463583983839405,
          -0.052985974544846305,
          0.0298309577761731,
          0.0395553127970371,
          0.0252918873380917,
          0.03399631401009,
          -0.04475647634064041,
          0.0414316695304464,
          -0.0372315851255363,
          -0.04426597644767451,
          0.0353004208683724,
          0.0300723148663627,
          0.0316800645155287,
          0.0147344610704443,
          0.0174633533321039,
          0.0253269230447321,
          0.008486426719569,
          0.0188803530228943,
          0.0399329198574949,
          0.0125116401269242,
          0.033556421248938,
          0.042646240693981,
          0.0229912092687039,
          0.0311856717662694,
          0.0247313160318449,
          0.0298932434768672,
          0.0153612109336786,
          0.0213056024936703,
          0.0185728173757173,
          -0.057715794941303404,
          0.0303292433817258,
          -0.0406611915200043,
          0.0096776407453433,
          0.0399368127137883,
          0.0141116040635035,
          0.0257551372370039,
          0.0277833153658551,
          0.0208890668702786,
          0.0186740316393452,
          0.0361529563966227,
          0.0240734233182636,
          0.0221853880159742,
          -0.025089766346483203,
          0.0210992811101211,
          0.0245911732052832,
          0.0227732093162746,
          0.0291925293440587,
          0.0364449206186262,
          0.0423231336216304,
          0.0290134579545632,
          0.0228082450229151,
          0.0431834548624675,
          0.0251089230923028,
          0.021169352523402,
          0.0414978480874338,
          0.0374414918297316,
          0.0162643535937428,
          0.0143802111477467,
          0.0392789200002071,
          0.00005060713181394374,
          0.0257162086740701,
          -0.041256798532891506,
          0.029605172111157,
          -0.01967480324239121,
          0.0148473539029524,
          0.0226369593460063,
          0.0218311380932766,
          -0.037648120748928,
          0.0223761379743498,
          -0.037920620689464606,
          -0.0419380483842331,
          0.0415562409318345,
          0.0119744259584377,
          -0.026666373145302208,
          0.0374492775423183,
          0.0230145664064642,
          -0.027441051547684905,
          0.0269074226998445,
          0.0276198154015331,
          -0.028332515638868905,
          0.0184910673935563,
          0.0370677776255671,
          -0.012776661890521304,
          0.0267166727414689,
          0.0209046382954521,
          0.023688030545219,
          -0.024972980657681804,
          0.0404973840200351,
          -0.03472458567259941,
          0.037640027500694,
          -0.01479316145049231,
          -0.005426949208619303,
          0.0426851692569148,
          -0.048458582675645005,
          -0.04688197587682601,
          0.0254670658712938,
          -0.037889477839117607,
          0.0314971002697399,
          -0.030602050857909707,
          -0.01725733948420201,
          0.0374220275482647,
          -0.01452455436624911,
          0.0255604944223349,
          -0.021259195753797006,
          -0.0274332658350981,
          0.0427163121072618,
          -0.04474090491546691,
          -0.035954728261307606,
          0.0096620693201698,
          -0.050914974996768,
          0.0223333165551227,
          0.0013349421729821898,
          -0.010810769462364311,
          null,
          -0.038302120606215906,
          -0.040781870065099105,
          0.00006617855698746489,
          -0.027133515900507804,
          -0.029671658203791806,
          -0.02665080172012871,
          -0.027437158691391503,
          -0.0268610159599712,
          -0.045301476221713606,
          0.0317189930784625,
          0.0407815625294518,
          0.035409420844587,
          0.0432846691260954,
          -0.03115872930786301,
          -0.02416715940495201,
          -0.0361182282256295,
          -0.048427439825298006,
          -0.04045876299274861,
          -0.019312767607106804,
          -0.04264654822962831,
          -0.050595760780710805,
          0.0380721345492592,
          -0.03499708561313601,
          -0.03496594276278901,
          0.0401080983906971,
          -0.03631287104029851,
          0.0191801029574846,
          0.0299204934709208,
          -0.04925661821578801,
          -0.03773765644367571,
          -0.0351177641582308,
          0.0332099570388272,
          -0.0533051887609035,
          -0.03745737079055231,
          0.0372935632905831,
          0.0434520619467107,
          0.0106819976690355,
          0.0175606747394384,
          0.0422842050586966,
          0.0269891726820055,
          0.0308119575621049,
          -0.045679083282171504,
          null,
          0.0000973214073345072,
          0.0287643151517869,
          -0.045679083282171504,
          0.039831705593867,
          0.0403689197623535,
          0.0141116040635035,
          -0.0547066170265204,
          0.0349928852211954,
          -0.03573672830887831,
          -0.03864858481632671,
          -0.024618730734984204,
          0.025541030140868,
          -0.0311976578707968,
          -0.040334191591360403,
          -0.023945266596229406,
          null,
          -0.0417511912821508,
          -0.04180569127025811,
          -0.05444190279857051,
          -0.02239201693517061,
          0.00001946428146690144,
          null,
          0.0114605689277115,
          -0.04720508294917661,
          0.004604941459421696,
          -0.032793728951082804,
          0.0202662098633377,
          0.0257551372370039,
          0.0390648129040711,
          0.0260081728960737,
          0.0132785328167201,
          0.0284061723727959,
          0.01851831738761,
          0.0162643535937428,
          0.0199080670843467,
          0.016174817898995,
          0.0377879560398424,
          0.0182613888722469,
          0.0212121739426291,
          -0.04434383357354211,
          0.0132473899663731,
          0.0215625310090334,
          0.0206321383549155,
          0.0175295318890914,
          0.0296674578118511,
          0.0163850321388376,
          0.0109700690347456,
          0.0271371012211539,
          0.0166847820734279,
          0.0084552838692219,
          -0.0344287285943025,
          0.0146721753697503,
          0.0005605713062467,
          -0.014871018576359904,
          null,
          0.0099423549732932,
          0.0063219986204495,
          0.0085526052765564,
          0.0081711053598052,
          -0.045013404856003504,
          0.0160191036472598,
          -0.050486760804496204,
          0.019460388610608,
          0.0312518503232569,
          0.0316644930903552,
          -0.03720433513148261,
          0.0256928515363098,
          0.0245094232231222,
          0.0153495323647984,
          0.0208384597384646,
          0.0250855659545425,
          0.0095452836313684,
          0.0123403544500155,
          0.0275302797067853,
          0.0137651398533926,
          -0.040131763064104604,
          -0.042008119797513906,
          0.025509887290521,
          0.0165718892409198,
          0.0116357474609136,
          0.0221814951596808,
          0.0069331770585102,
          0.0261677800041022,
          -0.02656515888167431,
          0.0148901753221796,
          0.0187557816215062,
          0.020207817018937,
          0.0218467095184501,
          0.026420815663172,
          0.0263351728247176,
          0.0478821324085775,
          0.0409917767692944,
          -0.022138981276100908,
          0.0218233523806898,
          0.0281959581329534,
          0.03537827799424,
          0.0131189257086915,
          0.00004282141922718316,
          -0.050214260863959505,
          0.0374882061052521,
          0.0288343865650677,
          0.0169611748702579,
          0.0394852413837562,
          0.0121885330545736,
          -0.048552011226686204,
          0.0206749597741427,
          0.028223208127007,
          0.0245717089238163,
          0.0218428166621567,
          0.0206983169119029,
          0.0340702782796642,
          0.0387689558257742,
          0.0397032413361855,
          -0.019838303206713204,
          0.0413421338356986,
          0.0264869942201594,
          -0.014061304467336805,
          0.0455580972014295,
          0.0412409195720707,
          0.0273161726106494,
          0.0371689918891949,
          0.0312207074729099,
          0.0346035995918573,
          -0.05670754516131791,
          -0.02337690957739591,
          0.0385743130111052,
          0.000194642814669,
          -0.052219081855050406,
          -0.0317738006022171,
          0.0390142057722572,
          -0.0292045154485861,
          -0.0229915168043512,
          -0.035748406877758404,
          -0.0010513787348599007,
          -0.04630972600169911,
          -0.00825705573390681,
          0.0320654572885734,
          0.0189659958613487,
          0.028939493684989,
          0.0232442449277736,
          0.00003892856293380288,
          -0.0465160473852483,
          -0.04822501129804221,
          0.00002724999405366201,
          -0.025264944879685308,
          -0.013539661724023905,
          0.0225552093638453,
          0.0112776046819226,
          0.0217026738355951,
          -0.04945904674304381,
          0.00008953569474774661,
          null,
          0.0228549592984356,
          -0.05518543835060621,
          0.0283594580972753,
          0.0501867033342586,
          null,
          0.0424243478852583,
          -0.044441154980876606,
          -0.035748406877758404,
          -0.04491608344866901,
          0.0424710621607789,
          -0.055080331230684905,
          0.0391076343232983,
          -0.044203690746980405,
          -0.047049368697441404,
          -0.0539046886300841,
          0.0326377071637003,
          0.0346425281547911,
          0.0408516339427327,
          0.0383602059149693,
          -0.03544865694316811,
          -0.014680268617984299,
          null,
          -0.025549123389102008,
          -0.0088876984534344,
          -0.019846088919299912,
          0.000891464091184,
          -0.029107194041251602,
          -0.04113222713150331,
          0.0319914930189992,
          -0.04840408268753771,
          -0.039516691769750506,
          -0.03129497927813131,
          -0.05297429597596621,
          -0.004220163757671508,
          -0.02469269500455841,
          -0.043915619381270206,
          0.0359193850190199,
          -0.05784425919898491,
          -0.01629580397973711,
          0.00001557142517352115,
          -0.04549222618008931,
          0.05610773775649,
          0.0029157493637418,
          0.0154429609158395,
          0.044304597474961,
          -0.006018663365213103,
          0.000011678568880140862,
          0.0233532449039883,
          0.0426851692569148,
          0.0330814927811456,
          0.0290757436552573,
          0.0460836328010358,
          -0.0388977276191031,
          -0.030267265216678912,
          null,
          0.00008953569474774661,
          -0.036137692507096406,
          -0.016397018243365008,
          0.0404895983074483,
          0.00001946428146690144,
          -0.016350303967844412,
          -0.043654798009613804,
          -0.041743405569564004,
          0.000054499988107324025,
          -0.02232973123447661,
          -0.017876303634849502,
          -0.001133128717020912,
          -0.01435326868934031,
          -0.011542626445519802,
          -0.03939990608094911,
          -0.004247413751725104,
          -0.0201886602731174,
          -0.05086826072124741,
          -0.039162441847052906,
          -0.05308329595218081,
          -0.017202839496094705,
          0.0287876722895472,
          0.0184949602498497,
          -0.04127626281435841,
          -0.053056045958127206,
          -0.030364586624013506,
          -0.012181054877634101,
          0.00007785712586760575,
          null,
          0.0394034914015952,
          0.0342104211062259,
          0.0456748828902309,
          0.00003503570664042259,
          0.015006961010981,
          -0.052674546041375905,
          0.0452739186920127,
          -0.029430301113602203,
          0.0307029575858903,
          0.0407543125353982,
          0.0098255692844918,
          0.031395886006112,
          -0.032404443321744705,
          -0.038064656372319705,
          0.00002724999405366201,
          -0.0272970158648298,
          0.0299711006027348,
          0.0003114285034704,
          0.0000973214073345072,
          -0.054402974235636704,
          0.0368458848168444,
          -0.05301711739519341,
          0.0153845680714388,
          -0.0406027986756036,
          -0.037725977874795605,
          0.0322445286780689,
          -0.05634161666974011,
          -0.0297962296051799,
          -0.049801618096861205,
          0.0218934237939707,
          0.0241201375937842,
          0.034303849657267,
          -0.04571801184510531,
          -0.03378251444960141,
          0.000011678568880140862,
          -0.05166240340509701,
          -0.010257983868704301,
          -0.04949408244968421,
          -0.056730902299078206,
          -0.04019404876479871,
          0.0148512467592457,
          0.0208696025888117,
          0.0251751016492903,
          0.0115150689158188,
          0.018273067441127,
          0.0163149607255567,
          0.014761711064498,
          0.0458734185611933,
          0.0215430667275665,
          null,
          0.0237464233896197,
          0.0151938181130632,
          0.015232746675997,
          0.0359077064501397,
          0.0196861742756241,
          0.018109567476805,
          0.0120328188028384,
          -0.054025367175178904,
          0.0183470317107012,
          0.0205854240793949,
          0.0140609969316896,
          0.0170273534272453,
          0.0095219264936081,
          0.0175957104460789,
          0.019429245760261,
          -0.0390222990204912,
          0.0325987786007665,
          0.0158633893955246,
          0.0313491717305914,
          0.0099306764044131,
          0.0246067446304567,
          0.0173971747751165,
          0.0173037462240753,
          0.0459434899744741,
          -0.0696941137560345,
          -0.03034901519883991,
          0.0215236024460996,
          -0.051498903440775005,
          0.0159607108028591,
          0.0200053884916813,
          0.0188453173162539,
          0.0292081007692323,
          -0.046165690318844106,
          0.0353977422757069,
          null,
          0.0178526389614419,
          0.0202194955878172,
          null,
          -0.051627367698456605,
          0.031948671599772,
          0.0346464210110845,
          0.0418326337286645,
          0.014679961082337,
          0.0131267114212783,
          0.0155519608920542,
          0.0228393878732621,
          0.0323262786602299,
          0.0254047801705997,
          0.0195966385808763,
          0.0256461372607893,
          0.0338211354768879,
          0.0135666041824303,
          0.0460797399447424,
          0.0307847075680513,
          0.020402459833606,
          0.0138702469733139,
          0.0312051360477363,
          0.0181679603212058,
          0.0169572820139645,
          0.0226875664778203,
          0.0331710284758934,
          0.0186195316512379,
          -0.051168010655837703,
          0.0202623170070443,
          0.0227031379029938,
          0.0287292794451465,
          0.01741274620029,
          -0.046391475983860106,
          0.0437751690190613,
          0.033525278398591,
          null,
          0.0143101397344659,
          0.0359894564323007,
          0.0357169564917641,
          0.0200014956353879,
          0.0261093871597015,
          -0.05095390355970181,
          0.0265882084837873,
          0.0252412802062777,
          0.0336615283688593,
          0.0394696699585827,
          0.0140259612250491,
          0.0196939599882108,
          0.0217260309733553,
          0.0189737815739355,
          0.0162682464500362,
          0.0388273486701749,
          0.0217104595481818,
          0.0160152107909665,
          0.0269774941131253,
          0.0152054966819434,
          0.0291107793618977,
          0.019378638628447,
          0.019767924257785,
          0.019265745795939,
          0.015672639437149,
          0.016778210624469,
          0.0195966385808763,
          0.0160502464976069,
          0.0243147804084532,
          0.0244315660972546,
          0.0143334968722262,
          0.0172764962300217,
          0.0173076390803687,
          0.0284139580853827,
          0.0175762461646119,
          0.014730568214151,
          0.0217922095303428,
          0.0269463512627783,
          0.0036514992031907,
          0.0272383154847818,
          0.0096854264579301,
          0.0132824256730135,
          0.0266660656096549,
          0.00002724999405366201,
          0.0137106398652853,
          0.0191256029693773,
          0.0161319964797679,
          0.0379514560041644,
          0.0102888191834041,
          0.0198263171021858,
          0.0130605328642908,
          0.0206438169237956,
          0.0151081752746088,
          0.0271409940774473,
          0.0215352810149797,
          0.0140999254946234,
          0.0161981750367553,
          0.0282893866839945,
          0.0179343889436029,
          0.0254826372964673,
          -0.04168890558145671,
          0.0202117098752304,
          0.0214146024698849,
          0.014598211100176,
          0.0257940657999377,
          0.0124143187195897,
          0.0264402799446389,
          0.0138429969792603,
          0.0064387843092509,
          0.0167003534986014,
          0.0157466037067232,
          0.015314496658158,
          0.0170234605709519,
          null,
          0.00007785712586760575,
          0.0298932434768672,
          null,
          0.0148201039088987,
          0.0162526750248627,
          0.0105496405550605,
          0.0116007117542732,
          0.0169222463073241,
          0.0117719974311819,
          0.0084552838692219,
          0.0097087835956904,
          0.0070616413161918,
          0.0140726755005697,
          null,
          0.000011678568880140862,
          0.0119277116829172,
          0.0000973214073345072,
          0.0074820697958769,
          0.0201533170308297,
          0.0191139244004972,
          0.0247429946007251,
          0.0181718531774991,
          0.0106119262557546,
          0.0081166053716978,
          0.0160074250783797,
          0.0134537113499222,
          0.0103433191715114,
          0.0082917839049,
          0.0074781769395835,
          0.0102732477582305,
          0.0223255308425359,
          0.0346386352984978,
          0.000054499988107324025,
          0.0131111399961048,
          0.0178448532488552,
          0.0127296400793535,
          0.0112892832508028,
          0.0186389959327048,
          0.0130566400079974,
          0.0127218543667667,
          0.0185377816690769,
          0.026483101363866,
          0.0272188512033149,
          0.0131461757027452,
          0.0182302460218998,
          0.023329887766228,
          0.0196822814193307,
          0.0214068167572982,
          0.0170896391279394,
          0.0085487124202631,
          0.0116007117542732,
          0.0175139604639179,
          0.012745211504527,
          0.0082645339108463,
          0.0097944264341448,
          0.0136405684520045,
          0.0182107817404329,
          0.0083968910248212,
          0.0095297122061949,
          0.0106586405312752,
          0.0233571377602817,
          0.0112269975501087,
          0.0314036717186987,
          0.0138936041110742,
          0.0101331049316688,
          0.0187557816215062,
          0.0417586694590903,
          0.0116668903112607,
          0.0100708192309748,
          0.0333851355720293,
          0.0295156364164093,
          0.0118654259822231,
          0.0114644617840049,
          0.0282893866839945,
          0.0214340667513518,
          0.018600067369771,
          0.0141972469019579,
          0.008241176773086,
          0.0130799971457577,
          0.00001557142517352115,
          0.011690247449021,
          0.0128619971933284,
          0.0218311380932766,
          0.0298037077821194,
          0.0145943182438826,
          0.0106897833816222,
          0.0273667797424634,
          0.0120367116591318,
          0.0105885691179943,
          0.0131150328523981,
          0.0118070331378224,
          0.0118965688325701,
          0.0099890692488138,
          0.0108299262081839,
          0.0000622857006940846,
          0.0015337853795918,
          0.00008953569474774661,
          0.0042432133597845,
          0.0004982856055526,
          0.0011561783191339,
          0.0238320662280741,
          0.0287059223073862,
          0.025233494493691,
          0.0186467816452915,
          0.0172570319485548,
          0.0293404578832072,
          0.0335914569555785,
          0.0011639640317207,
          0.03233795722911,
          0.0000311428503470423,
          0.0428681335027037,
          0.0259419943390862,
          0.021671530985248,
          null,
          null,
          0.0027561422557132,
          0.00007007141328084517,
          0.0206827454867294,
          0.0085370338513829,
          0.0092922479722987,
          0.0111919618434683,
          0.0208579240199315,
          0.0250972445234227,
          0.0192268172330052,
          0.0128386400555681,
          0.0167237106363617,
          0.0125466758335646,
          0.0221542451656272,
          0.023053494969398,
          0.0174633533321039,
          0.0261638871478089,
          null,
          0.0178292818236817,
          0.0077662483052936,
          null,
          0.005998891548099,
          null,
          0.0120951045035325,
          0.0071161413042991,
          0.0207683883251838,
          null,
          0.0251244945174763,
          0.00001557142517352115,
          0.0122391401863876,
          0.0120717473657722,
          0.0076144269098518,
          0.0002296785213094,
          0.02570453010519,
          0.0198302099584791,
          0.0149174253162332,
          0.0222476737166683,
          0.0204141384024862,
          0.0198068528207189,
          0.0116046046105666,
          0.0104756762854863,
          0.0307146361547704,
          0.0121690687731067,
          0.0159646036591525,
          0.0168327106125763,
          -0.038874370481342804,
          0.0054577845233191,
          0.0218077809555163,
          null,
          0.0065983914172795,
          0.0118615331259297,
          0.0147266753578576,
          0.0001557142517352,
          0.0306679218792499,
          0.00003892856293380288,
          0.0110907475798404,
          0.0131656399842121,
          0.0124999615580441,
          0.0109155690466383,
          0.01299046145101,
          0.0084591767255153,
          0.010810461926717,
          0.0155286037542939,
          null,
          0.0103822477344452,
          0.0216053524282605,
          0.0146682825134569,
          0.0144074611418004,
          0.0124649258514036,
          0.0091988194212576,
          0.0126984972290064,
          0.0133914256492281,
          0.0036086777839635,
          0.0104367477225525,
          0.020258424150751,
          0.0093934622359266,
          0.00003892856293380288,
          0.0188180673222003,
          0.010584676261701,
          null,
          0.0148162110526053,
          0.0021566423865326,
          0.0002608213716564
         ],
         "xaxis": "x",
         "yaxis": "y"
        }
       ],
       "layout": {
        "barmode": "relative",
        "legend": {
         "title": {
          "text": "variable"
         },
         "tracegroupgap": 0
        },
        "margin": {
         "t": 60
        },
        "template": {
         "data": {
          "bar": [
           {
            "error_x": {
             "color": "#2a3f5f"
            },
            "error_y": {
             "color": "#2a3f5f"
            },
            "marker": {
             "line": {
              "color": "#E5ECF6",
              "width": 0.5
             },
             "pattern": {
              "fillmode": "overlay",
              "size": 10,
              "solidity": 0.2
             }
            },
            "type": "bar"
           }
          ],
          "barpolar": [
           {
            "marker": {
             "line": {
              "color": "#E5ECF6",
              "width": 0.5
             },
             "pattern": {
              "fillmode": "overlay",
              "size": 10,
              "solidity": 0.2
             }
            },
            "type": "barpolar"
           }
          ],
          "carpet": [
           {
            "aaxis": {
             "endlinecolor": "#2a3f5f",
             "gridcolor": "white",
             "linecolor": "white",
             "minorgridcolor": "white",
             "startlinecolor": "#2a3f5f"
            },
            "baxis": {
             "endlinecolor": "#2a3f5f",
             "gridcolor": "white",
             "linecolor": "white",
             "minorgridcolor": "white",
             "startlinecolor": "#2a3f5f"
            },
            "type": "carpet"
           }
          ],
          "choropleth": [
           {
            "colorbar": {
             "outlinewidth": 0,
             "ticks": ""
            },
            "type": "choropleth"
           }
          ],
          "contour": [
           {
            "colorbar": {
             "outlinewidth": 0,
             "ticks": ""
            },
            "colorscale": [
             [
              0,
              "#0d0887"
             ],
             [
              0.1111111111111111,
              "#46039f"
             ],
             [
              0.2222222222222222,
              "#7201a8"
             ],
             [
              0.3333333333333333,
              "#9c179e"
             ],
             [
              0.4444444444444444,
              "#bd3786"
             ],
             [
              0.5555555555555556,
              "#d8576b"
             ],
             [
              0.6666666666666666,
              "#ed7953"
             ],
             [
              0.7777777777777778,
              "#fb9f3a"
             ],
             [
              0.8888888888888888,
              "#fdca26"
             ],
             [
              1,
              "#f0f921"
             ]
            ],
            "type": "contour"
           }
          ],
          "contourcarpet": [
           {
            "colorbar": {
             "outlinewidth": 0,
             "ticks": ""
            },
            "type": "contourcarpet"
           }
          ],
          "heatmap": [
           {
            "colorbar": {
             "outlinewidth": 0,
             "ticks": ""
            },
            "colorscale": [
             [
              0,
              "#0d0887"
             ],
             [
              0.1111111111111111,
              "#46039f"
             ],
             [
              0.2222222222222222,
              "#7201a8"
             ],
             [
              0.3333333333333333,
              "#9c179e"
             ],
             [
              0.4444444444444444,
              "#bd3786"
             ],
             [
              0.5555555555555556,
              "#d8576b"
             ],
             [
              0.6666666666666666,
              "#ed7953"
             ],
             [
              0.7777777777777778,
              "#fb9f3a"
             ],
             [
              0.8888888888888888,
              "#fdca26"
             ],
             [
              1,
              "#f0f921"
             ]
            ],
            "type": "heatmap"
           }
          ],
          "heatmapgl": [
           {
            "colorbar": {
             "outlinewidth": 0,
             "ticks": ""
            },
            "colorscale": [
             [
              0,
              "#0d0887"
             ],
             [
              0.1111111111111111,
              "#46039f"
             ],
             [
              0.2222222222222222,
              "#7201a8"
             ],
             [
              0.3333333333333333,
              "#9c179e"
             ],
             [
              0.4444444444444444,
              "#bd3786"
             ],
             [
              0.5555555555555556,
              "#d8576b"
             ],
             [
              0.6666666666666666,
              "#ed7953"
             ],
             [
              0.7777777777777778,
              "#fb9f3a"
             ],
             [
              0.8888888888888888,
              "#fdca26"
             ],
             [
              1,
              "#f0f921"
             ]
            ],
            "type": "heatmapgl"
           }
          ],
          "histogram": [
           {
            "marker": {
             "pattern": {
              "fillmode": "overlay",
              "size": 10,
              "solidity": 0.2
             }
            },
            "type": "histogram"
           }
          ],
          "histogram2d": [
           {
            "colorbar": {
             "outlinewidth": 0,
             "ticks": ""
            },
            "colorscale": [
             [
              0,
              "#0d0887"
             ],
             [
              0.1111111111111111,
              "#46039f"
             ],
             [
              0.2222222222222222,
              "#7201a8"
             ],
             [
              0.3333333333333333,
              "#9c179e"
             ],
             [
              0.4444444444444444,
              "#bd3786"
             ],
             [
              0.5555555555555556,
              "#d8576b"
             ],
             [
              0.6666666666666666,
              "#ed7953"
             ],
             [
              0.7777777777777778,
              "#fb9f3a"
             ],
             [
              0.8888888888888888,
              "#fdca26"
             ],
             [
              1,
              "#f0f921"
             ]
            ],
            "type": "histogram2d"
           }
          ],
          "histogram2dcontour": [
           {
            "colorbar": {
             "outlinewidth": 0,
             "ticks": ""
            },
            "colorscale": [
             [
              0,
              "#0d0887"
             ],
             [
              0.1111111111111111,
              "#46039f"
             ],
             [
              0.2222222222222222,
              "#7201a8"
             ],
             [
              0.3333333333333333,
              "#9c179e"
             ],
             [
              0.4444444444444444,
              "#bd3786"
             ],
             [
              0.5555555555555556,
              "#d8576b"
             ],
             [
              0.6666666666666666,
              "#ed7953"
             ],
             [
              0.7777777777777778,
              "#fb9f3a"
             ],
             [
              0.8888888888888888,
              "#fdca26"
             ],
             [
              1,
              "#f0f921"
             ]
            ],
            "type": "histogram2dcontour"
           }
          ],
          "mesh3d": [
           {
            "colorbar": {
             "outlinewidth": 0,
             "ticks": ""
            },
            "type": "mesh3d"
           }
          ],
          "parcoords": [
           {
            "line": {
             "colorbar": {
              "outlinewidth": 0,
              "ticks": ""
             }
            },
            "type": "parcoords"
           }
          ],
          "pie": [
           {
            "automargin": true,
            "type": "pie"
           }
          ],
          "scatter": [
           {
            "fillpattern": {
             "fillmode": "overlay",
             "size": 10,
             "solidity": 0.2
            },
            "type": "scatter"
           }
          ],
          "scatter3d": [
           {
            "line": {
             "colorbar": {
              "outlinewidth": 0,
              "ticks": ""
             }
            },
            "marker": {
             "colorbar": {
              "outlinewidth": 0,
              "ticks": ""
             }
            },
            "type": "scatter3d"
           }
          ],
          "scattercarpet": [
           {
            "marker": {
             "colorbar": {
              "outlinewidth": 0,
              "ticks": ""
             }
            },
            "type": "scattercarpet"
           }
          ],
          "scattergeo": [
           {
            "marker": {
             "colorbar": {
              "outlinewidth": 0,
              "ticks": ""
             }
            },
            "type": "scattergeo"
           }
          ],
          "scattergl": [
           {
            "marker": {
             "colorbar": {
              "outlinewidth": 0,
              "ticks": ""
             }
            },
            "type": "scattergl"
           }
          ],
          "scattermapbox": [
           {
            "marker": {
             "colorbar": {
              "outlinewidth": 0,
              "ticks": ""
             }
            },
            "type": "scattermapbox"
           }
          ],
          "scatterpolar": [
           {
            "marker": {
             "colorbar": {
              "outlinewidth": 0,
              "ticks": ""
             }
            },
            "type": "scatterpolar"
           }
          ],
          "scatterpolargl": [
           {
            "marker": {
             "colorbar": {
              "outlinewidth": 0,
              "ticks": ""
             }
            },
            "type": "scatterpolargl"
           }
          ],
          "scatterternary": [
           {
            "marker": {
             "colorbar": {
              "outlinewidth": 0,
              "ticks": ""
             }
            },
            "type": "scatterternary"
           }
          ],
          "surface": [
           {
            "colorbar": {
             "outlinewidth": 0,
             "ticks": ""
            },
            "colorscale": [
             [
              0,
              "#0d0887"
             ],
             [
              0.1111111111111111,
              "#46039f"
             ],
             [
              0.2222222222222222,
              "#7201a8"
             ],
             [
              0.3333333333333333,
              "#9c179e"
             ],
             [
              0.4444444444444444,
              "#bd3786"
             ],
             [
              0.5555555555555556,
              "#d8576b"
             ],
             [
              0.6666666666666666,
              "#ed7953"
             ],
             [
              0.7777777777777778,
              "#fb9f3a"
             ],
             [
              0.8888888888888888,
              "#fdca26"
             ],
             [
              1,
              "#f0f921"
             ]
            ],
            "type": "surface"
           }
          ],
          "table": [
           {
            "cells": {
             "fill": {
              "color": "#EBF0F8"
             },
             "line": {
              "color": "white"
             }
            },
            "header": {
             "fill": {
              "color": "#C8D4E3"
             },
             "line": {
              "color": "white"
             }
            },
            "type": "table"
           }
          ]
         },
         "layout": {
          "annotationdefaults": {
           "arrowcolor": "#2a3f5f",
           "arrowhead": 0,
           "arrowwidth": 1
          },
          "autotypenumbers": "strict",
          "coloraxis": {
           "colorbar": {
            "outlinewidth": 0,
            "ticks": ""
           }
          },
          "colorscale": {
           "diverging": [
            [
             0,
             "#8e0152"
            ],
            [
             0.1,
             "#c51b7d"
            ],
            [
             0.2,
             "#de77ae"
            ],
            [
             0.3,
             "#f1b6da"
            ],
            [
             0.4,
             "#fde0ef"
            ],
            [
             0.5,
             "#f7f7f7"
            ],
            [
             0.6,
             "#e6f5d0"
            ],
            [
             0.7,
             "#b8e186"
            ],
            [
             0.8,
             "#7fbc41"
            ],
            [
             0.9,
             "#4d9221"
            ],
            [
             1,
             "#276419"
            ]
           ],
           "sequential": [
            [
             0,
             "#0d0887"
            ],
            [
             0.1111111111111111,
             "#46039f"
            ],
            [
             0.2222222222222222,
             "#7201a8"
            ],
            [
             0.3333333333333333,
             "#9c179e"
            ],
            [
             0.4444444444444444,
             "#bd3786"
            ],
            [
             0.5555555555555556,
             "#d8576b"
            ],
            [
             0.6666666666666666,
             "#ed7953"
            ],
            [
             0.7777777777777778,
             "#fb9f3a"
            ],
            [
             0.8888888888888888,
             "#fdca26"
            ],
            [
             1,
             "#f0f921"
            ]
           ],
           "sequentialminus": [
            [
             0,
             "#0d0887"
            ],
            [
             0.1111111111111111,
             "#46039f"
            ],
            [
             0.2222222222222222,
             "#7201a8"
            ],
            [
             0.3333333333333333,
             "#9c179e"
            ],
            [
             0.4444444444444444,
             "#bd3786"
            ],
            [
             0.5555555555555556,
             "#d8576b"
            ],
            [
             0.6666666666666666,
             "#ed7953"
            ],
            [
             0.7777777777777778,
             "#fb9f3a"
            ],
            [
             0.8888888888888888,
             "#fdca26"
            ],
            [
             1,
             "#f0f921"
            ]
           ]
          },
          "colorway": [
           "#636efa",
           "#EF553B",
           "#00cc96",
           "#ab63fa",
           "#FFA15A",
           "#19d3f3",
           "#FF6692",
           "#B6E880",
           "#FF97FF",
           "#FECB52"
          ],
          "font": {
           "color": "#2a3f5f"
          },
          "geo": {
           "bgcolor": "white",
           "lakecolor": "white",
           "landcolor": "#E5ECF6",
           "showlakes": true,
           "showland": true,
           "subunitcolor": "white"
          },
          "hoverlabel": {
           "align": "left"
          },
          "hovermode": "closest",
          "mapbox": {
           "style": "light"
          },
          "paper_bgcolor": "white",
          "plot_bgcolor": "#E5ECF6",
          "polar": {
           "angularaxis": {
            "gridcolor": "white",
            "linecolor": "white",
            "ticks": ""
           },
           "bgcolor": "#E5ECF6",
           "radialaxis": {
            "gridcolor": "white",
            "linecolor": "white",
            "ticks": ""
           }
          },
          "scene": {
           "xaxis": {
            "backgroundcolor": "#E5ECF6",
            "gridcolor": "white",
            "gridwidth": 2,
            "linecolor": "white",
            "showbackground": true,
            "ticks": "",
            "zerolinecolor": "white"
           },
           "yaxis": {
            "backgroundcolor": "#E5ECF6",
            "gridcolor": "white",
            "gridwidth": 2,
            "linecolor": "white",
            "showbackground": true,
            "ticks": "",
            "zerolinecolor": "white"
           },
           "zaxis": {
            "backgroundcolor": "#E5ECF6",
            "gridcolor": "white",
            "gridwidth": 2,
            "linecolor": "white",
            "showbackground": true,
            "ticks": "",
            "zerolinecolor": "white"
           }
          },
          "shapedefaults": {
           "line": {
            "color": "#2a3f5f"
           }
          },
          "ternary": {
           "aaxis": {
            "gridcolor": "white",
            "linecolor": "white",
            "ticks": ""
           },
           "baxis": {
            "gridcolor": "white",
            "linecolor": "white",
            "ticks": ""
           },
           "bgcolor": "#E5ECF6",
           "caxis": {
            "gridcolor": "white",
            "linecolor": "white",
            "ticks": ""
           }
          },
          "title": {
           "x": 0.05
          },
          "xaxis": {
           "automargin": true,
           "gridcolor": "white",
           "linecolor": "white",
           "ticks": "",
           "title": {
            "standoff": 15
           },
           "zerolinecolor": "white",
           "zerolinewidth": 2
          },
          "yaxis": {
           "automargin": true,
           "gridcolor": "white",
           "linecolor": "white",
           "ticks": "",
           "title": {
            "standoff": 15
           },
           "zerolinecolor": "white",
           "zerolinewidth": 2
          }
         }
        },
        "width": 700,
        "xaxis": {
         "anchor": "y",
         "domain": [
          0,
          1
         ],
         "title": {
          "text": "value"
         }
        },
        "yaxis": {
         "anchor": "x",
         "domain": [
          0,
          1
         ],
         "title": {
          "text": "count"
         }
        }
       }
      }
     },
     "metadata": {},
     "output_type": "display_data"
    }
   ],
   "source": [
    "fig = px.histogram(diff_lst_people_pctg,width=700)\n",
    "fig.show()"
   ]
  },
  {
   "cell_type": "markdown",
   "metadata": {},
   "source": [
    "<font color='red'>in this graph... </font>"
   ]
  },
  {
   "cell_type": "markdown",
   "metadata": {},
   "source": [
    "##### *AREA_SQKM* (2016) vs *SA2_AREA*\n",
    "We find that SA2_AREA seems to be very similar to the AREA_SQKM, except for the fact that the latter is rounded to 1 decimal."
   ]
  },
  {
   "cell_type": "code",
   "execution_count": 211,
   "metadata": {},
   "outputs": [
    {
     "data": {
      "text/html": [
       "<div>\n",
       "<style scoped>\n",
       "    .dataframe tbody tr th:only-of-type {\n",
       "        vertical-align: middle;\n",
       "    }\n",
       "\n",
       "    .dataframe tbody tr th {\n",
       "        vertical-align: top;\n",
       "    }\n",
       "\n",
       "    .dataframe thead th {\n",
       "        text-align: right;\n",
       "    }\n",
       "</style>\n",
       "<table border=\"1\" class=\"dataframe\">\n",
       "  <thead>\n",
       "    <tr style=\"text-align: right;\">\n",
       "      <th></th>\n",
       "      <th>Difference in Area</th>\n",
       "    </tr>\n",
       "  </thead>\n",
       "  <tbody>\n",
       "    <tr>\n",
       "      <th>count</th>\n",
       "      <td>128.000000</td>\n",
       "    </tr>\n",
       "    <tr>\n",
       "      <th>mean</th>\n",
       "      <td>-0.328125</td>\n",
       "    </tr>\n",
       "    <tr>\n",
       "      <th>std</th>\n",
       "      <td>5.142427</td>\n",
       "    </tr>\n",
       "    <tr>\n",
       "      <th>min</th>\n",
       "      <td>-37.600000</td>\n",
       "    </tr>\n",
       "    <tr>\n",
       "      <th>25%</th>\n",
       "      <td>-0.300000</td>\n",
       "    </tr>\n",
       "    <tr>\n",
       "      <th>50%</th>\n",
       "      <td>0.100000</td>\n",
       "    </tr>\n",
       "    <tr>\n",
       "      <th>75%</th>\n",
       "      <td>0.300000</td>\n",
       "    </tr>\n",
       "    <tr>\n",
       "      <th>max</th>\n",
       "      <td>29.000000</td>\n",
       "    </tr>\n",
       "  </tbody>\n",
       "</table>\n",
       "</div>"
      ],
      "text/plain": [
       "       Difference in Area\n",
       "count          128.000000\n",
       "mean            -0.328125\n",
       "std              5.142427\n",
       "min            -37.600000\n",
       "25%             -0.300000\n",
       "50%              0.100000\n",
       "75%              0.300000\n",
       "max             29.000000"
      ]
     },
     "execution_count": 211,
     "metadata": {},
     "output_type": "execute_result"
    }
   ],
   "source": [
    "diff_lst = []\n",
    "sa2_area = [round(i,1) for i in df_merged[\"SA2_AREA\"]]\n",
    "for i,a in enumerate(list(df_merged[\"AREA_SQKM\"])):\n",
    "    if a!=sa2_area[i]:\n",
    "        # print(a,sa2_area[i])\n",
    "        diff_lst.append(sa2_area[i]-a)\n",
    "        \n",
    "pd.DataFrame(diff_lst,columns=[\"Difference in Area\"]).describe()"
   ]
  },
  {
   "cell_type": "code",
   "execution_count": 224,
   "metadata": {},
   "outputs": [
    {
     "data": {
      "application/vnd.plotly.v1+json": {
       "config": {
        "plotlyServerURL": "https://plot.ly"
       },
       "data": [
        {
         "alignmentgroup": "True",
         "bingroup": "x",
         "hovertemplate": "variable=0<br>value=%{x}<br>count=%{y}<extra></extra>",
         "legendgroup": "0",
         "marker": {
          "color": "#636efa",
          "pattern": {
           "shape": ""
          }
         },
         "name": "0",
         "nbinsx": 20,
         "offsetgroup": "0",
         "orientation": "v",
         "showlegend": true,
         "type": "histogram",
         "x": [
          0.6999999999998181,
          0.1000000000003638,
          0.3000000000001819,
          -0.3999999999996362,
          -0.2999999999992724,
          -0.40000000000000036,
          0.40000000000000036,
          -0.09999999999999964,
          -2.1999999999970896,
          -0.6000000000021828,
          -5.399999999994179,
          1.6000000000000014,
          -0.09999999999999432,
          0.20000000000000107,
          0.09999999999999964,
          -0.29999999999999716,
          -0.0999999999994543,
          -0.10000000000002274,
          -0.19999999999708962,
          -0.10000000000000853,
          -0.2999999999992724,
          -0.09999999999999432,
          0.1999999999998181,
          -3.7000000000007276,
          1.5,
          -3.7999999999992724,
          0.10000000000000142,
          -0.09999999999990905,
          0.10000000000000853,
          0.6000000000000014,
          -0.09999999999999964,
          -1.0999999999999943,
          -0.8000000000000007,
          0.5,
          0.09999999999999964,
          -0.09999999999999964,
          0.10000000000000142,
          -0.10000000000000142,
          0.5,
          -0.10000000000002274,
          0.1999999999998181,
          -0.5999999999985448,
          0.6999999999999993,
          -0.6000000000000001,
          0.20000000000000284,
          -7.900000000000006,
          -7.100000000000023,
          5.300000000000011,
          0.5,
          0.29999999999999716,
          -0.09999999999999432,
          -0.7000000000007276,
          0.1000000000003638,
          -0.09999999999999432,
          0.4000000000005457,
          0.19999999999998863,
          0.19999999999998863,
          -0.3000000000001819,
          -0.29999999999999716,
          0.1999999999998181,
          -0.20000000000000284,
          0.09999999999999964,
          0.10000000000000142,
          -0.1999999999999993,
          0.3999999999978172,
          0.20000000000004547,
          7.5,
          0.1999999999998181,
          -0.09999999999990905,
          -1.599999999999909,
          -0.10000000000002274,
          0.1999999999999318,
          -0.20000000000000284,
          0.10000000000000053,
          0.09999999999990905,
          -0.10000000000000142,
          0.09999999999999432,
          0.10000000000002274,
          0.3000000000029104,
          -0.3999999999999986,
          -2.1999999999970896,
          5.900000000000006,
          -4.30000000000291,
          -7.2999999999883585,
          0.3000000000174623,
          -0.3000000000000007,
          0.20000000000000018,
          0.29999999999998295,
          0.09999999999999432,
          0.0999999999994543,
          -1.1000000000021828,
          -9.799999999988358,
          -4.900000000008731,
          -37.60000000000218,
          9.700000000011642,
          -0.1999999999998181,
          -0.3999999999996362,
          -0.09999999999990905,
          -0.0999999999994543,
          0.599999999999909,
          0.40000000000000036,
          -0.5,
          0.3000000000000007,
          0.1999999999999993,
          -15.10000000000582,
          0.3000000000029104,
          -11.799999999988358,
          0.09999999999999432,
          0.5,
          3.5,
          8.100000000034925,
          -0.4000000000005457,
          -0.10000000000000053,
          0.09999999999999987,
          3.6000000000000014,
          0.20000000000004547,
          5.899999999994179,
          0.6999999999970896,
          29,
          -2.800000000046566,
          3.1999999999970896,
          0.1999999999825377,
          -0.09999999999999432,
          -1.1000000000000014,
          1.0999999999999996,
          -0.10000000000000853,
          0.19999999999998863,
          -0.10000000000013642
         ],
         "xaxis": "x",
         "yaxis": "y"
        }
       ],
       "layout": {
        "barmode": "relative",
        "legend": {
         "title": {
          "text": "variable"
         },
         "tracegroupgap": 0
        },
        "margin": {
         "t": 60
        },
        "template": {
         "data": {
          "bar": [
           {
            "error_x": {
             "color": "#2a3f5f"
            },
            "error_y": {
             "color": "#2a3f5f"
            },
            "marker": {
             "line": {
              "color": "#E5ECF6",
              "width": 0.5
             },
             "pattern": {
              "fillmode": "overlay",
              "size": 10,
              "solidity": 0.2
             }
            },
            "type": "bar"
           }
          ],
          "barpolar": [
           {
            "marker": {
             "line": {
              "color": "#E5ECF6",
              "width": 0.5
             },
             "pattern": {
              "fillmode": "overlay",
              "size": 10,
              "solidity": 0.2
             }
            },
            "type": "barpolar"
           }
          ],
          "carpet": [
           {
            "aaxis": {
             "endlinecolor": "#2a3f5f",
             "gridcolor": "white",
             "linecolor": "white",
             "minorgridcolor": "white",
             "startlinecolor": "#2a3f5f"
            },
            "baxis": {
             "endlinecolor": "#2a3f5f",
             "gridcolor": "white",
             "linecolor": "white",
             "minorgridcolor": "white",
             "startlinecolor": "#2a3f5f"
            },
            "type": "carpet"
           }
          ],
          "choropleth": [
           {
            "colorbar": {
             "outlinewidth": 0,
             "ticks": ""
            },
            "type": "choropleth"
           }
          ],
          "contour": [
           {
            "colorbar": {
             "outlinewidth": 0,
             "ticks": ""
            },
            "colorscale": [
             [
              0,
              "#0d0887"
             ],
             [
              0.1111111111111111,
              "#46039f"
             ],
             [
              0.2222222222222222,
              "#7201a8"
             ],
             [
              0.3333333333333333,
              "#9c179e"
             ],
             [
              0.4444444444444444,
              "#bd3786"
             ],
             [
              0.5555555555555556,
              "#d8576b"
             ],
             [
              0.6666666666666666,
              "#ed7953"
             ],
             [
              0.7777777777777778,
              "#fb9f3a"
             ],
             [
              0.8888888888888888,
              "#fdca26"
             ],
             [
              1,
              "#f0f921"
             ]
            ],
            "type": "contour"
           }
          ],
          "contourcarpet": [
           {
            "colorbar": {
             "outlinewidth": 0,
             "ticks": ""
            },
            "type": "contourcarpet"
           }
          ],
          "heatmap": [
           {
            "colorbar": {
             "outlinewidth": 0,
             "ticks": ""
            },
            "colorscale": [
             [
              0,
              "#0d0887"
             ],
             [
              0.1111111111111111,
              "#46039f"
             ],
             [
              0.2222222222222222,
              "#7201a8"
             ],
             [
              0.3333333333333333,
              "#9c179e"
             ],
             [
              0.4444444444444444,
              "#bd3786"
             ],
             [
              0.5555555555555556,
              "#d8576b"
             ],
             [
              0.6666666666666666,
              "#ed7953"
             ],
             [
              0.7777777777777778,
              "#fb9f3a"
             ],
             [
              0.8888888888888888,
              "#fdca26"
             ],
             [
              1,
              "#f0f921"
             ]
            ],
            "type": "heatmap"
           }
          ],
          "heatmapgl": [
           {
            "colorbar": {
             "outlinewidth": 0,
             "ticks": ""
            },
            "colorscale": [
             [
              0,
              "#0d0887"
             ],
             [
              0.1111111111111111,
              "#46039f"
             ],
             [
              0.2222222222222222,
              "#7201a8"
             ],
             [
              0.3333333333333333,
              "#9c179e"
             ],
             [
              0.4444444444444444,
              "#bd3786"
             ],
             [
              0.5555555555555556,
              "#d8576b"
             ],
             [
              0.6666666666666666,
              "#ed7953"
             ],
             [
              0.7777777777777778,
              "#fb9f3a"
             ],
             [
              0.8888888888888888,
              "#fdca26"
             ],
             [
              1,
              "#f0f921"
             ]
            ],
            "type": "heatmapgl"
           }
          ],
          "histogram": [
           {
            "marker": {
             "pattern": {
              "fillmode": "overlay",
              "size": 10,
              "solidity": 0.2
             }
            },
            "type": "histogram"
           }
          ],
          "histogram2d": [
           {
            "colorbar": {
             "outlinewidth": 0,
             "ticks": ""
            },
            "colorscale": [
             [
              0,
              "#0d0887"
             ],
             [
              0.1111111111111111,
              "#46039f"
             ],
             [
              0.2222222222222222,
              "#7201a8"
             ],
             [
              0.3333333333333333,
              "#9c179e"
             ],
             [
              0.4444444444444444,
              "#bd3786"
             ],
             [
              0.5555555555555556,
              "#d8576b"
             ],
             [
              0.6666666666666666,
              "#ed7953"
             ],
             [
              0.7777777777777778,
              "#fb9f3a"
             ],
             [
              0.8888888888888888,
              "#fdca26"
             ],
             [
              1,
              "#f0f921"
             ]
            ],
            "type": "histogram2d"
           }
          ],
          "histogram2dcontour": [
           {
            "colorbar": {
             "outlinewidth": 0,
             "ticks": ""
            },
            "colorscale": [
             [
              0,
              "#0d0887"
             ],
             [
              0.1111111111111111,
              "#46039f"
             ],
             [
              0.2222222222222222,
              "#7201a8"
             ],
             [
              0.3333333333333333,
              "#9c179e"
             ],
             [
              0.4444444444444444,
              "#bd3786"
             ],
             [
              0.5555555555555556,
              "#d8576b"
             ],
             [
              0.6666666666666666,
              "#ed7953"
             ],
             [
              0.7777777777777778,
              "#fb9f3a"
             ],
             [
              0.8888888888888888,
              "#fdca26"
             ],
             [
              1,
              "#f0f921"
             ]
            ],
            "type": "histogram2dcontour"
           }
          ],
          "mesh3d": [
           {
            "colorbar": {
             "outlinewidth": 0,
             "ticks": ""
            },
            "type": "mesh3d"
           }
          ],
          "parcoords": [
           {
            "line": {
             "colorbar": {
              "outlinewidth": 0,
              "ticks": ""
             }
            },
            "type": "parcoords"
           }
          ],
          "pie": [
           {
            "automargin": true,
            "type": "pie"
           }
          ],
          "scatter": [
           {
            "fillpattern": {
             "fillmode": "overlay",
             "size": 10,
             "solidity": 0.2
            },
            "type": "scatter"
           }
          ],
          "scatter3d": [
           {
            "line": {
             "colorbar": {
              "outlinewidth": 0,
              "ticks": ""
             }
            },
            "marker": {
             "colorbar": {
              "outlinewidth": 0,
              "ticks": ""
             }
            },
            "type": "scatter3d"
           }
          ],
          "scattercarpet": [
           {
            "marker": {
             "colorbar": {
              "outlinewidth": 0,
              "ticks": ""
             }
            },
            "type": "scattercarpet"
           }
          ],
          "scattergeo": [
           {
            "marker": {
             "colorbar": {
              "outlinewidth": 0,
              "ticks": ""
             }
            },
            "type": "scattergeo"
           }
          ],
          "scattergl": [
           {
            "marker": {
             "colorbar": {
              "outlinewidth": 0,
              "ticks": ""
             }
            },
            "type": "scattergl"
           }
          ],
          "scattermapbox": [
           {
            "marker": {
             "colorbar": {
              "outlinewidth": 0,
              "ticks": ""
             }
            },
            "type": "scattermapbox"
           }
          ],
          "scatterpolar": [
           {
            "marker": {
             "colorbar": {
              "outlinewidth": 0,
              "ticks": ""
             }
            },
            "type": "scatterpolar"
           }
          ],
          "scatterpolargl": [
           {
            "marker": {
             "colorbar": {
              "outlinewidth": 0,
              "ticks": ""
             }
            },
            "type": "scatterpolargl"
           }
          ],
          "scatterternary": [
           {
            "marker": {
             "colorbar": {
              "outlinewidth": 0,
              "ticks": ""
             }
            },
            "type": "scatterternary"
           }
          ],
          "surface": [
           {
            "colorbar": {
             "outlinewidth": 0,
             "ticks": ""
            },
            "colorscale": [
             [
              0,
              "#0d0887"
             ],
             [
              0.1111111111111111,
              "#46039f"
             ],
             [
              0.2222222222222222,
              "#7201a8"
             ],
             [
              0.3333333333333333,
              "#9c179e"
             ],
             [
              0.4444444444444444,
              "#bd3786"
             ],
             [
              0.5555555555555556,
              "#d8576b"
             ],
             [
              0.6666666666666666,
              "#ed7953"
             ],
             [
              0.7777777777777778,
              "#fb9f3a"
             ],
             [
              0.8888888888888888,
              "#fdca26"
             ],
             [
              1,
              "#f0f921"
             ]
            ],
            "type": "surface"
           }
          ],
          "table": [
           {
            "cells": {
             "fill": {
              "color": "#EBF0F8"
             },
             "line": {
              "color": "white"
             }
            },
            "header": {
             "fill": {
              "color": "#C8D4E3"
             },
             "line": {
              "color": "white"
             }
            },
            "type": "table"
           }
          ]
         },
         "layout": {
          "annotationdefaults": {
           "arrowcolor": "#2a3f5f",
           "arrowhead": 0,
           "arrowwidth": 1
          },
          "autotypenumbers": "strict",
          "coloraxis": {
           "colorbar": {
            "outlinewidth": 0,
            "ticks": ""
           }
          },
          "colorscale": {
           "diverging": [
            [
             0,
             "#8e0152"
            ],
            [
             0.1,
             "#c51b7d"
            ],
            [
             0.2,
             "#de77ae"
            ],
            [
             0.3,
             "#f1b6da"
            ],
            [
             0.4,
             "#fde0ef"
            ],
            [
             0.5,
             "#f7f7f7"
            ],
            [
             0.6,
             "#e6f5d0"
            ],
            [
             0.7,
             "#b8e186"
            ],
            [
             0.8,
             "#7fbc41"
            ],
            [
             0.9,
             "#4d9221"
            ],
            [
             1,
             "#276419"
            ]
           ],
           "sequential": [
            [
             0,
             "#0d0887"
            ],
            [
             0.1111111111111111,
             "#46039f"
            ],
            [
             0.2222222222222222,
             "#7201a8"
            ],
            [
             0.3333333333333333,
             "#9c179e"
            ],
            [
             0.4444444444444444,
             "#bd3786"
            ],
            [
             0.5555555555555556,
             "#d8576b"
            ],
            [
             0.6666666666666666,
             "#ed7953"
            ],
            [
             0.7777777777777778,
             "#fb9f3a"
            ],
            [
             0.8888888888888888,
             "#fdca26"
            ],
            [
             1,
             "#f0f921"
            ]
           ],
           "sequentialminus": [
            [
             0,
             "#0d0887"
            ],
            [
             0.1111111111111111,
             "#46039f"
            ],
            [
             0.2222222222222222,
             "#7201a8"
            ],
            [
             0.3333333333333333,
             "#9c179e"
            ],
            [
             0.4444444444444444,
             "#bd3786"
            ],
            [
             0.5555555555555556,
             "#d8576b"
            ],
            [
             0.6666666666666666,
             "#ed7953"
            ],
            [
             0.7777777777777778,
             "#fb9f3a"
            ],
            [
             0.8888888888888888,
             "#fdca26"
            ],
            [
             1,
             "#f0f921"
            ]
           ]
          },
          "colorway": [
           "#636efa",
           "#EF553B",
           "#00cc96",
           "#ab63fa",
           "#FFA15A",
           "#19d3f3",
           "#FF6692",
           "#B6E880",
           "#FF97FF",
           "#FECB52"
          ],
          "font": {
           "color": "#2a3f5f"
          },
          "geo": {
           "bgcolor": "white",
           "lakecolor": "white",
           "landcolor": "#E5ECF6",
           "showlakes": true,
           "showland": true,
           "subunitcolor": "white"
          },
          "hoverlabel": {
           "align": "left"
          },
          "hovermode": "closest",
          "mapbox": {
           "style": "light"
          },
          "paper_bgcolor": "white",
          "plot_bgcolor": "#E5ECF6",
          "polar": {
           "angularaxis": {
            "gridcolor": "white",
            "linecolor": "white",
            "ticks": ""
           },
           "bgcolor": "#E5ECF6",
           "radialaxis": {
            "gridcolor": "white",
            "linecolor": "white",
            "ticks": ""
           }
          },
          "scene": {
           "xaxis": {
            "backgroundcolor": "#E5ECF6",
            "gridcolor": "white",
            "gridwidth": 2,
            "linecolor": "white",
            "showbackground": true,
            "ticks": "",
            "zerolinecolor": "white"
           },
           "yaxis": {
            "backgroundcolor": "#E5ECF6",
            "gridcolor": "white",
            "gridwidth": 2,
            "linecolor": "white",
            "showbackground": true,
            "ticks": "",
            "zerolinecolor": "white"
           },
           "zaxis": {
            "backgroundcolor": "#E5ECF6",
            "gridcolor": "white",
            "gridwidth": 2,
            "linecolor": "white",
            "showbackground": true,
            "ticks": "",
            "zerolinecolor": "white"
           }
          },
          "shapedefaults": {
           "line": {
            "color": "#2a3f5f"
           }
          },
          "ternary": {
           "aaxis": {
            "gridcolor": "white",
            "linecolor": "white",
            "ticks": ""
           },
           "baxis": {
            "gridcolor": "white",
            "linecolor": "white",
            "ticks": ""
           },
           "bgcolor": "#E5ECF6",
           "caxis": {
            "gridcolor": "white",
            "linecolor": "white",
            "ticks": ""
           }
          },
          "title": {
           "x": 0.05
          },
          "xaxis": {
           "automargin": true,
           "gridcolor": "white",
           "linecolor": "white",
           "ticks": "",
           "title": {
            "standoff": 15
           },
           "zerolinecolor": "white",
           "zerolinewidth": 2
          },
          "yaxis": {
           "automargin": true,
           "gridcolor": "white",
           "linecolor": "white",
           "ticks": "",
           "title": {
            "standoff": 15
           },
           "zerolinecolor": "white",
           "zerolinewidth": 2
          }
         }
        },
        "width": 700,
        "xaxis": {
         "anchor": "y",
         "domain": [
          0,
          1
         ],
         "title": {
          "text": "value"
         }
        },
        "yaxis": {
         "anchor": "x",
         "domain": [
          0,
          1
         ],
         "title": {
          "text": "count"
         }
        }
       }
      }
     },
     "metadata": {},
     "output_type": "display_data"
    }
   ],
   "source": [
    "fig = px.histogram(diff_lst,nbins=20,width=700)\n",
    "fig.show()"
   ]
  },
  {
   "cell_type": "markdown",
   "metadata": {},
   "source": [
    "Here we can see that the areas are very close to each other"
   ]
  },
  {
   "cell_type": "markdown",
   "metadata": {},
   "source": [
    "##### *SA2_NAME_2016* vs *SA2_NAME_2021*"
   ]
  },
  {
   "cell_type": "code",
   "execution_count": 191,
   "metadata": {},
   "outputs": [
    {
     "name": "stdout",
     "output_type": "stream",
     "text": [
      "7 Cooma Region | Cooma Surrounds\n",
      "21 Goulburn Region | Goulburn Surrounds\n",
      "23 Yass Region | Yass Surrounds\n",
      "25 Young Region | Young Surrounds\n",
      "57 Bathurst Region | Bathurst Surrounds\n",
      "61 Cowra Region | Cowra Surrounds\n",
      "65 Parkes Region | Parkes Surrounds\n",
      "68 Lithgow Region | Lithgow Surrounds\n",
      "70 Mudgee Region - East | Mudgee Surrounds - East\n",
      "71 Mudgee Region - West | Mudgee Surrounds - West\n",
      "76 Orange Region | Orange Surrounds\n",
      "78 Grafton Region | Grafton Surrounds\n",
      "100 Dubbo Region | Dubbo Surrounds\n",
      "106 Cessnock Region | Cessnock Surrounds\n",
      "110 Singleton Region | Singleton Surrounds\n",
      "122 Muswellbrook Region | Muswellbrook Surrounds\n",
      "124 Scone Region | Scone Surrounds\n",
      "151 Forster-Tuncurry Region | Forster-Tuncurry Surrounds\n",
      "154 Kempsey Region | Kempsey Surrounds\n",
      "157 Nambucca Heads Region | Nambucca Heads Surrounds\n",
      "162 Port Macquarie Region | Port Macquarie Surrounds\n",
      "167 Taree Region | Taree Surrounds\n",
      "172 Albury Region | Albury Surrounds\n",
      "178 Corowa Region | Corowa Surrounds\n",
      "180 Deniliquin Region | Deniliquin Surrounds\n",
      "184 Armidale Region - North | Armidale Surrounds - North\n",
      "185 Armidale Region - South | Armidale Surrounds - South\n",
      "189 Inverell Region - East | Inverell Surrounds - East\n",
      "190 Inverell Region - West | Inverell Surrounds - West\n",
      "193 Moree Region | Moree Surrounds\n",
      "195 Narrabri Region | Narrabri Surrounds\n",
      "197 Gunnedah Region | Gunnedah Surrounds\n",
      "202 Tamworth Region | Tamworth Surrounds\n",
      "234 Ballina Region | Ballina Surrounds\n",
      "242 Casino Region | Casino Surrounds\n",
      "246 Lismore Region | Lismore Surrounds\n",
      "249 Murwillumbah Region | Murwillumbah Surrounds\n",
      "253 Terranora - North Tumblegum | Terranora - North Tumbulgum\n",
      "256 Griffith Region | Griffith Surrounds\n",
      "261 Tumut Region | Tumut Surrounds\n",
      "270 Wagga Wagga Region | Wagga Wagga Surrounds\n",
      "282 Ulladulla Region | Ulladulla Surrounds\n",
      "289 Baulkham Hills (East) | Baulkham Hills - East\n",
      "308 Blacktown (South) | Blacktown - South\n",
      "309 Blacktown (West) | Blacktown - West\n",
      "389 Waitara - Wahroonga (West) | Wahroonga (West) - Waitara\n",
      "509 Woolaware - Burraneer | Woolooware - Burraneer\n",
      "525 Bacchus Marsh Region | Bacchus Marsh Surrounds\n",
      "533 Maryborough Region | Maryborough Surrounds\n",
      "542 Bendigo Region - South | Bendigo Surrounds - South\n",
      "544 Castlemaine Region | Castlemaine Surrounds\n",
      "548 Bendigo Region - North | Bendigo Surrounds - North\n",
      "573 Seymour Region | Seymour Surrounds\n",
      "577 Benalla Region | Benalla Surrounds\n",
      "580 Wangaratta Region | Wangaratta Surrounds\n",
      "631 West Melbourne | West Melbourne - Industrial\n",
      "646 Yarra - North | Clifton Hill - Alphington\n",
      "659 Doncaster East (North) | Doncaster East - North\n",
      "660 Doncaster East (South) | Doncaster East - South\n",
      "665 Burwood | Burwood (Vic.)\n",
      "671 Cheltenham - Highett (West) | Highett (West) - Cheltenham\n",
      "682 Bentleigh East (North) | Bentleigh East - North\n",
      "683 Bentleigh East (South) | Bentleigh East - South\n",
      "689 Cheltenham - Highett (East) | Highett (East) - Cheltenham \n",
      "725 Epping - West | Epping (Vic.) - West\n",
      "726 South Morang (North) | South Morang - North\n",
      "727 South Morang (South) | South Morang - South\n",
      "763 Ferntree Gully (North) | Ferntree Gully - North\n",
      "811 Narre Warren South (East) | Narre Warren South - East\n",
      "812 Narre Warren South (West) | Narre Warren South - West\n",
      "885 Ararat Region | Ararat Surrounds\n",
      "887 Horsham Region | Horsham Surrounds\n",
      "895 Mildura Region | Mildura Surrounds\n",
      "904 Swan Hill Region | Swan Hill Surrounds\n",
      "916 Shepparton Region - East | Shepparton Surrounds - East\n",
      "917 Shepparton Region - West | Shepparton Surrounds - West\n",
      "924 Colac Region | Colac Surrounds\n",
      "1107 Roma Region | Roma Surrounds\n",
      "1118 Stanthorpe Region | Stanthorpe Surrounds\n",
      "1136 Rockhampton Region - East | Rockhampton Surrounds - East\n",
      "1137 Rockhampton Region - North | Rockhampton Surrounds - North\n",
      "1138 Rockhampton Region - West | Rockhampton Surrounds - West\n",
      "1252 Kingston (Qld.) | Kingston (Qld)\n",
      "1324 Mount Isa Region | Mount Isa Surrounds\n",
      "1383 Ingham Region | Ingham Surrounds\n",
      "1386 Annandale | Annandale (Qld)\n",
      "1415 Bundaberg Region - North | Bundaberg Surrounds - North\n",
      "1416 Bundaberg Region - South | Bundaberg Surrounds - South\n",
      "1423 Kingaroy Region - North | Kingaroy Surrounds - North\n",
      "1424 Kingaroy Region - South | Kingaroy Surrounds - South\n",
      "1431 Gympie Region | Gympie Surrounds\n",
      "1442 Maryborough Region - South | Maryborough Surrounds - South\n",
      "1451 Mount Barker Region | Mount Barker Surrounds\n",
      "1455 Glenside - Beaumont | Beaumont - Glen Osmond\n",
      "1565 Port Pirie Region | Port Pirie Surrounds\n",
      "1589 Strathalbyn Region | Strathalbyn Surrounds\n",
      "1596 Naracoorte Region | Naracoorte Surrounds\n",
      "1606 Loxton Region | Loxton Surrounds\n",
      "1609 Murray Bridge Region | Murray Bridge Surrounds\n",
      "1611 Renmark Region | Renmark Surrounds\n",
      "1615 Busselton Region | Busselton Surrounds\n",
      "1776 Bertram - Wellard (West) | Wellard (West) - Bertram\n",
      "1801 Albany Region | Albany Surrounds\n",
      "1839 Esperance Region | Esperance Surrounds\n",
      "1933 Burnie - Ulverstone Region | Burnie - Ulverstone Surrounds\n"
     ]
    }
   ],
   "source": [
    "for i,row in df_merged.iterrows():\n",
    "    if row[\"SA2_NAME_2016\"].replace(\"`\",\"'\")!=row[\"SA2_NAME_2021\"]:\n",
    "        print(i,row[\"SA2_NAME_2016\"],\"|\",row[\"SA2_NAME_2021\"])"
   ]
  },
  {
   "cell_type": "markdown",
   "metadata": {},
   "source": [
    "Most changes involve the word 'Region' being changed to 'Surrounds', but there were also some minor changes in names such as changes in order of the words."
   ]
  },
  {
   "cell_type": "markdown",
   "metadata": {},
   "source": [
    "##### Summary\n",
    "The Percentage of the population and population density have grown (or decreased) together with the changes in the population, and area variables. Overall, we see very slim changes. "
   ]
  },
  {
   "cell_type": "code",
   "execution_count": null,
   "metadata": {},
   "outputs": [],
   "source": []
  }
 ],
 "metadata": {
  "kernelspec": {
   "display_name": "base",
   "language": "python",
   "name": "python3"
  },
  "language_info": {
   "codemirror_mode": {
    "name": "ipython",
    "version": 3
   },
   "file_extension": ".py",
   "mimetype": "text/x-python",
   "name": "python",
   "nbconvert_exporter": "python",
   "pygments_lexer": "ipython3",
   "version": "3.11.5"
  }
 },
 "nbformat": 4,
 "nbformat_minor": 2
}
