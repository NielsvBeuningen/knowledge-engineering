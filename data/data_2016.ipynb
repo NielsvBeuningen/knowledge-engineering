{
 "cells": [
  {
   "cell_type": "code",
   "execution_count": 62,
   "metadata": {},
   "outputs": [],
   "source": [
    "import pandas as pd\n",
    "pd.set_option('display.max_columns', 100)"
   ]
  },
  {
   "cell_type": "code",
   "execution_count": 68,
   "metadata": {},
   "outputs": [],
   "source": [
    "# Path to the .xls file\n",
    "file_path = r\"C:\\Users\\wfeij\\Documents\\pop_estimates_sa2_2016-2017.xlsx\"\n",
    "\n",
    "# Load the Excel file\n",
    "xls = pd.ExcelFile(file_path)\n",
    "\n",
    "# List to hold DataFrames for each sheet\n",
    "sheet_list = []\n",
    "\n",
    "# Iterate through each sheet and read it into a DataFrame\n",
    "for sheet_name in xls.sheet_names:\n",
    "    df = pd.read_excel(xls, sheet_name=sheet_name)\n",
    "    sheet_list.append(df)\n",
    "\n",
    "# Concatenate all DataFrames\n",
    "df = pd.concat(sheet_list, ignore_index=True)\n",
    "\n",
    "df = df.rename({\"SA2 code\": \"SA2_CODE_2016\",\n",
    "        \"SA2 name\": \"SA2_NAME_2016\",\n",
    "        \"Area (km2)\": \"AREA_SQKM\",\n",
    "        \"2016pr\":\"NR_OF_PEOPLE_2016\",\n",
    "        },\n",
    "        axis=1\n",
    "     )"
   ]
  },
  {
   "cell_type": "code",
   "execution_count": 69,
   "metadata": {},
   "outputs": [],
   "source": [
    "tot_nr_people = df[\"NR_OF_PEOPLE_2016\"].sum() # 24.19 on Google\n",
    "\n",
    "\n",
    "df[\"SA2_5DIG16\"]              = [str(i)[0]+str(i)[-4:] for i in df[\"SA2_CODE_2016\"]]\n",
    "df[\"NR_OF_PEOPLE_2016_%\"]     = [round((nr/tot_nr_people)*100,2) for nr in df[\"NR_OF_PEOPLE_2016\"]]\n",
    "df[\"POPULATION_DENSITY_2016\"] = [df.loc[i,\"NR_OF_PEOPLE_2016\"]/df.loc[i,\"AREA_SQKM\"] for i in range(len(df))]\n",
    "\n",
    "\n",
    "columns = [\n",
    "    'SA2_CODE_2016',\n",
    "    'SA2_5DIG16',\n",
    "    'AREA_SQKM',\n",
    "    'NR_OF_PEOPLE_2016',\n",
    "    'NR_OF_PEOPLE_2016_%',\n",
    "    'POPULATION_DENSITY_2016',\n",
    "]\n",
    "\n",
    "SA2PopulationData2016 = df[columns]"
   ]
  },
  {
   "cell_type": "code",
   "execution_count": 70,
   "metadata": {},
   "outputs": [],
   "source": [
    "SA2PopulationData2016.to_csv(\"processed/SA2PopulationData2016.csv\",index=False)"
   ]
  }
 ],
 "metadata": {
  "kernelspec": {
   "display_name": "base",
   "language": "python",
   "name": "python3"
  },
  "language_info": {
   "codemirror_mode": {
    "name": "ipython",
    "version": 3
   },
   "file_extension": ".py",
   "mimetype": "text/x-python",
   "name": "python",
   "nbconvert_exporter": "python",
   "pygments_lexer": "ipython3",
   "version": "3.11.5"
  }
 },
 "nbformat": 4,
 "nbformat_minor": 2
}
