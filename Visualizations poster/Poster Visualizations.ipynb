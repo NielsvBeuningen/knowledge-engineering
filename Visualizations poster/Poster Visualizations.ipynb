{
 "cells": [
  {
   "cell_type": "code",
   "execution_count": 2,
   "metadata": {},
   "outputs": [],
   "source": [
    "import pandas as pd\n",
    "import os\n",
    "import matplotlib.pyplot as plt\n",
    "\n",
    "savedir = \"../data/processed\""
   ]
  },
  {
   "cell_type": "code",
   "execution_count": 3,
   "metadata": {},
   "outputs": [],
   "source": [
    "file_path = os.path.join(savedir, \"AccessibilityEdges.csv\")\n",
    "accessibility = pd.read_csv(file_path)"
   ]
  },
  {
   "cell_type": "code",
   "execution_count": 4,
   "metadata": {},
   "outputs": [],
   "source": [
    "file_path = os.path.join(savedir, \"SA2PopulationData2016.csv\")\n",
    "population = pd.read_csv(file_path)"
   ]
  },
  {
   "cell_type": "markdown",
   "metadata": {},
   "source": [
    "### Data insights"
   ]
  },
  {
   "cell_type": "code",
   "execution_count": 5,
   "metadata": {},
   "outputs": [
    {
     "data": {
      "text/html": [
       "<div>\n",
       "<style scoped>\n",
       "    .dataframe tbody tr th:only-of-type {\n",
       "        vertical-align: middle;\n",
       "    }\n",
       "\n",
       "    .dataframe tbody tr th {\n",
       "        vertical-align: top;\n",
       "    }\n",
       "\n",
       "    .dataframe thead th {\n",
       "        text-align: right;\n",
       "    }\n",
       "</style>\n",
       "<table border=\"1\" class=\"dataframe\">\n",
       "  <thead>\n",
       "    <tr style=\"text-align: right;\">\n",
       "      <th></th>\n",
       "      <th>SA2_CODE_2016</th>\n",
       "      <th>SA2_NAME_2016</th>\n",
       "      <th>SA2_5DIG16</th>\n",
       "      <th>AREA_SQKM</th>\n",
       "      <th>NR_OF_PEOPLE_2016</th>\n",
       "      <th>NR_OF_PEOPLE_2016_%</th>\n",
       "      <th>POPULATION_DENSITY_2016</th>\n",
       "    </tr>\n",
       "  </thead>\n",
       "  <tbody>\n",
       "    <tr>\n",
       "      <th>0</th>\n",
       "      <td>101021007</td>\n",
       "      <td>Braidwood</td>\n",
       "      <td>11007</td>\n",
       "      <td>3418.4</td>\n",
       "      <td>3945</td>\n",
       "      <td>0.02</td>\n",
       "      <td>1.154049</td>\n",
       "    </tr>\n",
       "    <tr>\n",
       "      <th>1</th>\n",
       "      <td>101021008</td>\n",
       "      <td>Karabar</td>\n",
       "      <td>11008</td>\n",
       "      <td>7.0</td>\n",
       "      <td>8615</td>\n",
       "      <td>0.04</td>\n",
       "      <td>1230.714286</td>\n",
       "    </tr>\n",
       "    <tr>\n",
       "      <th>2</th>\n",
       "      <td>101021009</td>\n",
       "      <td>Queanbeyan</td>\n",
       "      <td>11009</td>\n",
       "      <td>4.8</td>\n",
       "      <td>11235</td>\n",
       "      <td>0.05</td>\n",
       "      <td>2340.625000</td>\n",
       "    </tr>\n",
       "    <tr>\n",
       "      <th>3</th>\n",
       "      <td>101021010</td>\n",
       "      <td>Queanbeyan - East</td>\n",
       "      <td>11010</td>\n",
       "      <td>13.0</td>\n",
       "      <td>5049</td>\n",
       "      <td>0.02</td>\n",
       "      <td>388.384615</td>\n",
       "    </tr>\n",
       "    <tr>\n",
       "      <th>4</th>\n",
       "      <td>101021011</td>\n",
       "      <td>Queanbeyan Region</td>\n",
       "      <td>11011</td>\n",
       "      <td>3054.4</td>\n",
       "      <td>17435</td>\n",
       "      <td>0.07</td>\n",
       "      <td>5.708159</td>\n",
       "    </tr>\n",
       "  </tbody>\n",
       "</table>\n",
       "</div>"
      ],
      "text/plain": [
       "   SA2_CODE_2016      SA2_NAME_2016  SA2_5DIG16  AREA_SQKM  NR_OF_PEOPLE_2016  \\\n",
       "0      101021007          Braidwood       11007     3418.4               3945   \n",
       "1      101021008            Karabar       11008        7.0               8615   \n",
       "2      101021009         Queanbeyan       11009        4.8              11235   \n",
       "3      101021010  Queanbeyan - East       11010       13.0               5049   \n",
       "4      101021011  Queanbeyan Region       11011     3054.4              17435   \n",
       "\n",
       "   NR_OF_PEOPLE_2016_%  POPULATION_DENSITY_2016  \n",
       "0                 0.02                 1.154049  \n",
       "1                 0.04              1230.714286  \n",
       "2                 0.05              2340.625000  \n",
       "3                 0.02               388.384615  \n",
       "4                 0.07                 5.708159  "
      ]
     },
     "execution_count": 5,
     "metadata": {},
     "output_type": "execute_result"
    }
   ],
   "source": [
    "population.head()"
   ]
  },
  {
   "cell_type": "code",
   "execution_count": 6,
   "metadata": {},
   "outputs": [
    {
     "data": {
      "text/plain": [
       "SA2_5DIG\n",
       "11008    9\n",
       "11009    9\n",
       "11010    9\n",
       "11011    1\n",
       "11012    9\n",
       "        ..\n",
       "91002    0\n",
       "91003    0\n",
       "91004    0\n",
       "99499    0\n",
       "99799    0\n",
       "Name: accessible, Length: 2309, dtype: int64"
      ]
     },
     "execution_count": 6,
     "metadata": {},
     "output_type": "execute_result"
    }
   ],
   "source": [
    "accessibility.groupby('SA2_5DIG').sum()['accessible']"
   ]
  },
  {
   "cell_type": "code",
   "execution_count": 7,
   "metadata": {},
   "outputs": [],
   "source": [
    "accessibility_per_sa = accessibility.groupby('SA2_5DIG').sum()['accessible'].to_list()"
   ]
  },
  {
   "cell_type": "code",
   "execution_count": 8,
   "metadata": {},
   "outputs": [
    {
     "data": {
      "text/html": [
       "<div>\n",
       "<style scoped>\n",
       "    .dataframe tbody tr th:only-of-type {\n",
       "        vertical-align: middle;\n",
       "    }\n",
       "\n",
       "    .dataframe tbody tr th {\n",
       "        vertical-align: top;\n",
       "    }\n",
       "\n",
       "    .dataframe thead th {\n",
       "        text-align: right;\n",
       "    }\n",
       "</style>\n",
       "<table border=\"1\" class=\"dataframe\">\n",
       "  <thead>\n",
       "    <tr style=\"text-align: right;\">\n",
       "      <th></th>\n",
       "      <th>hospital_ID</th>\n",
       "      <th>accessible</th>\n",
       "      <th>further_than_2h</th>\n",
       "    </tr>\n",
       "    <tr>\n",
       "      <th>SA2_5DIG</th>\n",
       "      <th></th>\n",
       "      <th></th>\n",
       "      <th></th>\n",
       "    </tr>\n",
       "  </thead>\n",
       "  <tbody>\n",
       "    <tr>\n",
       "      <th>21132</th>\n",
       "      <td>511566</td>\n",
       "      <td>100</td>\n",
       "      <td>850</td>\n",
       "    </tr>\n",
       "    <tr>\n",
       "      <th>21134</th>\n",
       "      <td>511566</td>\n",
       "      <td>100</td>\n",
       "      <td>855</td>\n",
       "    </tr>\n",
       "    <tr>\n",
       "      <th>21146</th>\n",
       "      <td>511566</td>\n",
       "      <td>100</td>\n",
       "      <td>855</td>\n",
       "    </tr>\n",
       "    <tr>\n",
       "      <th>21147</th>\n",
       "      <td>511566</td>\n",
       "      <td>100</td>\n",
       "      <td>855</td>\n",
       "    </tr>\n",
       "    <tr>\n",
       "      <th>21150</th>\n",
       "      <td>511566</td>\n",
       "      <td>100</td>\n",
       "      <td>855</td>\n",
       "    </tr>\n",
       "    <tr>\n",
       "      <th>21165</th>\n",
       "      <td>511566</td>\n",
       "      <td>100</td>\n",
       "      <td>855</td>\n",
       "    </tr>\n",
       "    <tr>\n",
       "      <th>21195</th>\n",
       "      <td>511566</td>\n",
       "      <td>100</td>\n",
       "      <td>856</td>\n",
       "    </tr>\n",
       "  </tbody>\n",
       "</table>\n",
       "</div>"
      ],
      "text/plain": [
       "          hospital_ID  accessible  further_than_2h\n",
       "SA2_5DIG                                          \n",
       "21132          511566         100              850\n",
       "21134          511566         100              855\n",
       "21146          511566         100              855\n",
       "21147          511566         100              855\n",
       "21150          511566         100              855\n",
       "21165          511566         100              855\n",
       "21195          511566         100              856"
      ]
     },
     "execution_count": 8,
     "metadata": {},
     "output_type": "execute_result"
    }
   ],
   "source": [
    "accessibility.groupby('SA2_5DIG').sum().loc[accessibility.groupby('SA2_5DIG').sum()['accessible']==100]"
   ]
  },
  {
   "cell_type": "code",
   "execution_count": 9,
   "metadata": {},
   "outputs": [
    {
     "data": {
      "text/plain": [
       "Counter({9: 119,\n",
       "         1: 276,\n",
       "         0: 270,\n",
       "         2: 197,\n",
       "         3: 106,\n",
       "         6: 87,\n",
       "         5: 106,\n",
       "         7: 31,\n",
       "         8: 63,\n",
       "         4: 58,\n",
       "         10: 25,\n",
       "         11: 13,\n",
       "         60: 6,\n",
       "         54: 11,\n",
       "         41: 3,\n",
       "         57: 8,\n",
       "         14: 19,\n",
       "         12: 39,\n",
       "         27: 21,\n",
       "         44: 9,\n",
       "         37: 36,\n",
       "         51: 4,\n",
       "         35: 37,\n",
       "         24: 15,\n",
       "         31: 33,\n",
       "         34: 30,\n",
       "         22: 8,\n",
       "         62: 5,\n",
       "         63: 2,\n",
       "         70: 6,\n",
       "         61: 5,\n",
       "         56: 5,\n",
       "         66: 5,\n",
       "         78: 14,\n",
       "         80: 6,\n",
       "         71: 6,\n",
       "         68: 6,\n",
       "         77: 4,\n",
       "         75: 5,\n",
       "         73: 8,\n",
       "         74: 5,\n",
       "         55: 9,\n",
       "         53: 3,\n",
       "         59: 5,\n",
       "         50: 9,\n",
       "         58: 3,\n",
       "         67: 8,\n",
       "         84: 4,\n",
       "         69: 8,\n",
       "         82: 5,\n",
       "         81: 11,\n",
       "         76: 12,\n",
       "         65: 9,\n",
       "         72: 8,\n",
       "         85: 7,\n",
       "         91: 7,\n",
       "         86: 7,\n",
       "         87: 7,\n",
       "         83: 7,\n",
       "         92: 2,\n",
       "         79: 6,\n",
       "         26: 9,\n",
       "         64: 8,\n",
       "         46: 7,\n",
       "         42: 4,\n",
       "         38: 16,\n",
       "         23: 10,\n",
       "         47: 5,\n",
       "         16: 12,\n",
       "         30: 27,\n",
       "         13: 21,\n",
       "         15: 19,\n",
       "         17: 13,\n",
       "         18: 8,\n",
       "         19: 19,\n",
       "         21: 7,\n",
       "         40: 7,\n",
       "         48: 4,\n",
       "         39: 3,\n",
       "         45: 4,\n",
       "         52: 5,\n",
       "         20: 4,\n",
       "         33: 32,\n",
       "         28: 30,\n",
       "         49: 8,\n",
       "         89: 5,\n",
       "         29: 25,\n",
       "         32: 38,\n",
       "         36: 23,\n",
       "         93: 7,\n",
       "         96: 4,\n",
       "         98: 9,\n",
       "         90: 3,\n",
       "         102: 6,\n",
       "         101: 5,\n",
       "         106: 3,\n",
       "         104: 4,\n",
       "         103: 3,\n",
       "         107: 2,\n",
       "         94: 6,\n",
       "         97: 3,\n",
       "         95: 3,\n",
       "         100: 7,\n",
       "         99: 6,\n",
       "         88: 3,\n",
       "         43: 2,\n",
       "         25: 11})"
      ]
     },
     "execution_count": 9,
     "metadata": {},
     "output_type": "execute_result"
    }
   ],
   "source": [
    "from collections import Counter\n",
    "counter_obj = Counter(accessibility_per_sa)\n",
    "counter_obj"
   ]
  },
  {
   "cell_type": "code",
   "execution_count": 10,
   "metadata": {},
   "outputs": [
    {
     "data": {
      "text/html": [
       "<div>\n",
       "<style scoped>\n",
       "    .dataframe tbody tr th:only-of-type {\n",
       "        vertical-align: middle;\n",
       "    }\n",
       "\n",
       "    .dataframe tbody tr th {\n",
       "        vertical-align: top;\n",
       "    }\n",
       "\n",
       "    .dataframe thead th {\n",
       "        text-align: right;\n",
       "    }\n",
       "</style>\n",
       "<table border=\"1\" class=\"dataframe\">\n",
       "  <thead>\n",
       "    <tr style=\"text-align: right;\">\n",
       "      <th></th>\n",
       "      <th>SA2_5DIG</th>\n",
       "      <th>accessible</th>\n",
       "    </tr>\n",
       "  </thead>\n",
       "  <tbody>\n",
       "    <tr>\n",
       "      <th>0</th>\n",
       "      <td>11008</td>\n",
       "      <td>9</td>\n",
       "    </tr>\n",
       "    <tr>\n",
       "      <th>1</th>\n",
       "      <td>11009</td>\n",
       "      <td>9</td>\n",
       "    </tr>\n",
       "    <tr>\n",
       "      <th>2</th>\n",
       "      <td>11010</td>\n",
       "      <td>9</td>\n",
       "    </tr>\n",
       "    <tr>\n",
       "      <th>3</th>\n",
       "      <td>11011</td>\n",
       "      <td>1</td>\n",
       "    </tr>\n",
       "    <tr>\n",
       "      <th>4</th>\n",
       "      <td>11012</td>\n",
       "      <td>9</td>\n",
       "    </tr>\n",
       "    <tr>\n",
       "      <th>...</th>\n",
       "      <td>...</td>\n",
       "      <td>...</td>\n",
       "    </tr>\n",
       "    <tr>\n",
       "      <th>2304</th>\n",
       "      <td>91002</td>\n",
       "      <td>0</td>\n",
       "    </tr>\n",
       "    <tr>\n",
       "      <th>2305</th>\n",
       "      <td>91003</td>\n",
       "      <td>0</td>\n",
       "    </tr>\n",
       "    <tr>\n",
       "      <th>2306</th>\n",
       "      <td>91004</td>\n",
       "      <td>0</td>\n",
       "    </tr>\n",
       "    <tr>\n",
       "      <th>2307</th>\n",
       "      <td>99499</td>\n",
       "      <td>0</td>\n",
       "    </tr>\n",
       "    <tr>\n",
       "      <th>2308</th>\n",
       "      <td>99799</td>\n",
       "      <td>0</td>\n",
       "    </tr>\n",
       "  </tbody>\n",
       "</table>\n",
       "<p>2309 rows × 2 columns</p>\n",
       "</div>"
      ],
      "text/plain": [
       "      SA2_5DIG  accessible\n",
       "0        11008           9\n",
       "1        11009           9\n",
       "2        11010           9\n",
       "3        11011           1\n",
       "4        11012           9\n",
       "...        ...         ...\n",
       "2304     91002           0\n",
       "2305     91003           0\n",
       "2306     91004           0\n",
       "2307     99499           0\n",
       "2308     99799           0\n",
       "\n",
       "[2309 rows x 2 columns]"
      ]
     },
     "execution_count": 10,
     "metadata": {},
     "output_type": "execute_result"
    }
   ],
   "source": [
    "accessibility_per_sa_df = accessibility.groupby('SA2_5DIG').sum()[['accessible']].reset_index(drop=False)\n",
    "accessibility_per_sa_df"
   ]
  },
  {
   "cell_type": "markdown",
   "metadata": {},
   "source": [
    "### Merge Population and Accessibility Data"
   ]
  },
  {
   "cell_type": "code",
   "execution_count": 11,
   "metadata": {},
   "outputs": [],
   "source": [
    "population['SA2_5DIG16'] = population['SA2_5DIG16'].astype(str)\n",
    "accessibility_per_sa_df['SA2_5DIG'] = accessibility_per_sa_df['SA2_5DIG'].astype(str)\n",
    "new_df = pd.merge(accessibility_per_sa_df, population, how='left', left_on='SA2_5DIG', right_on='SA2_5DIG16')"
   ]
  },
  {
   "cell_type": "code",
   "execution_count": 12,
   "metadata": {},
   "outputs": [
    {
     "data": {
      "text/plain": [
       "['SA2_5DIG',\n",
       " 'accessible',\n",
       " 'SA2_CODE_2016',\n",
       " 'SA2_NAME_2016',\n",
       " 'SA2_5DIG16',\n",
       " 'AREA_SQKM',\n",
       " 'NR_OF_PEOPLE_2016',\n",
       " 'NR_OF_PEOPLE_2016_%',\n",
       " 'POPULATION_DENSITY_2016']"
      ]
     },
     "execution_count": 12,
     "metadata": {},
     "output_type": "execute_result"
    }
   ],
   "source": [
    "list(new_df.columns)"
   ]
  },
  {
   "cell_type": "markdown",
   "metadata": {},
   "source": [
    "### Visualizations"
   ]
  },
  {
   "cell_type": "code",
   "execution_count": 13,
   "metadata": {},
   "outputs": [],
   "source": [
    "bin_edges = range(0,int(max(new_df['NR_OF_PEOPLE_2016'])), 1000)\n",
    "new_df['bins'] = pd.cut(new_df['NR_OF_PEOPLE_2016'], bins=bin_edges)\n",
    "binned_averages = new_df.groupby('bins')['accessible'].mean()"
   ]
  },
  {
   "cell_type": "code",
   "execution_count": 14,
   "metadata": {},
   "outputs": [
    {
     "data": {
      "image/png": "[encoded data removed]",
      "text/plain": [
       "<Figure size 1000x600 with 1 Axes>"
      ]
     },
     "metadata": {},
     "output_type": "display_data"
    }
   ],
   "source": [
    "# Plotting\n",
    "fig, ax = plt.subplots(figsize=(10, 6))\n",
    "binned_averages.plot(kind='bar', ax=ax)\n",
    "\n",
    "# Set custom x-axis tick labels\n",
    "\n",
    "labels = [10, 20, 30, 40]\n",
    "custom_ticks = []\n",
    "for i in range(41):\n",
    "    tick = ''\n",
    "    if i+1 in labels:\n",
    "        tick = (i+1)*100\n",
    "    custom_ticks += [tick]\n",
    "ax.set_xticklabels(custom_ticks, rotation=0)\n",
    "\n",
    "# Set labels and title\n",
    "ax.set_xlabel('Population of SA2s')\n",
    "ax.set_ylabel('Average # of Hospitals Within 30 Minutes')\n",
    "ax.set_title('Average Amount of Hospitals Within 30 Minutes From SA2s With Different Population Sizes')\n",
    "ax.grid(True, axis='y')\n",
    "\n",
    "# Show the plot\n",
    "plt.show()"
   ]
  },
  {
   "cell_type": "code",
   "execution_count": null,
   "metadata": {},
   "outputs": [],
   "source": []
  },
  {
   "cell_type": "code",
   "execution_count": 18,
   "metadata": {},
   "outputs": [],
   "source": [
    "bin_edges = range(0,int(max(new_df['POPULATION_DENSITY_2016'])), 500)\n",
    "new_df['bins'] = pd.cut(new_df['POPULATION_DENSITY_2016'], bins=bin_edges)\n",
    "binned_averages = new_df.groupby('bins')['accessible'].mean()"
   ]
  },
  {
   "cell_type": "code",
   "execution_count": 21,
   "metadata": {},
   "outputs": [
    {
     "data": {
      "image/png": "[encoded data removed]",
      "text/plain": [
       "<Figure size 1000x600 with 1 Axes>"
      ]
     },
     "metadata": {},
     "output_type": "display_data"
    }
   ],
   "source": [
    "# Plotting\n",
    "fig, ax = plt.subplots(figsize=(10, 6))\n",
    "binned_averages.plot(kind='bar', ax=ax)\n",
    "\n",
    "# Set custom x-axis tick labels\n",
    "\n",
    "labels = [10, 20, 30]\n",
    "custom_ticks = []\n",
    "for i in range(34):\n",
    "    tick = ''\n",
    "    if i+1 in labels:\n",
    "        tick = (i+1)*100\n",
    "    custom_ticks += [tick]\n",
    "ax.set_xticklabels(custom_ticks, rotation=0)\n",
    "\n",
    "# Set labels and title\n",
    "ax.set_xlabel('Population Density of SA2s (population/km^2)')\n",
    "ax.set_ylabel('Average # of Hospitals Within 30 Minutes')\n",
    "ax.set_title('Average Amount of Hospitals Within 30 Minutes From SA2s With Different Densities')\n",
    "ax.grid(True, axis='y')\n",
    "\n",
    "# Show the plot\n",
    "plt.show()"
   ]
  },
  {
   "cell_type": "code",
   "execution_count": 17,
   "metadata": {},
   "outputs": [
    {
     "data": {
      "text/plain": [
       "<AxesSubplot:xlabel='POPULATION_DENSITY_2016', ylabel='accessible'>"
      ]
     },
     "execution_count": 17,
     "metadata": {},
     "output_type": "execute_result"
    },
    {
     "data": {
      "image/png": "[encoded data removed]",
      "text/plain": [
       "<Figure size 640x480 with 1 Axes>"
      ]
     },
     "metadata": {},
     "output_type": "display_data"
    }
   ],
   "source": [
    "new_df.plot.scatter('POPULATION_DENSITY_2016', 'accessible')"
   ]
  },
  {
   "cell_type": "markdown",
   "metadata": {},
   "source": [
    "### Summary info"
   ]
  },
  {
   "cell_type": "code",
   "execution_count": 38,
   "metadata": {},
   "outputs": [
    {
     "name": "stdout",
     "output_type": "stream",
     "text": [
      " Amount of SA2s that do not have a hospital within 30 minutes: 270\n",
      " Total amount of SA2 in Australia: 2309\n",
      " Percentage of SA2 without accessible hospital in Australia: 11\n",
      "\n",
      " Amount of people that do not have a hospital within 30 minutes: 1118880\n",
      " Total amount of people in Australia: 24202256\n",
      " Percentage of people without accessible hospital in Australia: 4\n",
      "\n"
     ]
    }
   ],
   "source": [
    "amount_SA2_no_hospitals = len(new_df.loc[new_df['accessible']==0, 'SA2_5DIG'])\n",
    "total_amount_SA2 = len(new_df)\n",
    "percentage_SA2_no_hospital = (int(amount_SA2_no_hospitals)/int(total_amount_SA2))*100\n",
    "people_no_hospital = new_df.loc[new_df['accessible']==0, 'NR_OF_PEOPLE_2016'].sum()\n",
    "total_people = new_df['NR_OF_PEOPLE_2016'].sum()\n",
    "percentage_people_no_hospital = (int(people_no_hospital)/int(total_people))*100\n",
    "print(\" Amount of SA2s that do not have a hospital within 30 minutes: \" + str(int(amount_SA2_no_hospitals))+ \"\\n\",\n",
    "      \"Total amount of SA2 in Australia: \" + str(int(total_amount_SA2)) + \"\\n\",\n",
    "      \"Percentage of SA2 without accessible hospital in Australia: \" + str(int(percentage_SA2_no_hospital)) + \"\\n\\n\",\n",
    "      \"Amount of people that do not have a hospital within 30 minutes: \" + str(int(people_no_hospital)) + \"\\n\",\n",
    "      \"Total amount of people in Australia: \" + str(int(total_people)) + \"\\n\",\n",
    "      \"Percentage of people without accessible hospital in Australia: \" + str(int(percentage_people_no_hospital)) + \"\\n\",\n",
    "      )"
   ]
  },
  {
   "cell_type": "code",
   "execution_count": 25,
   "metadata": {},
   "outputs": [
    {
     "data": {
      "text/plain": [
       "1118880.0"
      ]
     },
     "execution_count": 25,
     "metadata": {},
     "output_type": "execute_result"
    }
   ],
   "source": [
    "new_df.loc[new_df['accessible']==0, 'NR_OF_PEOPLE_2016'].sum()"
   ]
  },
  {
   "cell_type": "code",
   "execution_count": 26,
   "metadata": {},
   "outputs": [
    {
     "data": {
      "text/plain": [
       "24202256.0"
      ]
     },
     "execution_count": 26,
     "metadata": {},
     "output_type": "execute_result"
    }
   ],
   "source": [
    "new_df['NR_OF_PEOPLE_2016'].sum()"
   ]
  },
  {
   "cell_type": "code",
   "execution_count": 27,
   "metadata": {},
   "outputs": [
    {
     "data": {
      "text/plain": [
       "0.2"
      ]
     },
     "execution_count": 27,
     "metadata": {},
     "output_type": "execute_result"
    }
   ],
   "source": [
    "20/100"
   ]
  },
  {
   "cell_type": "code",
   "execution_count": null,
   "metadata": {},
   "outputs": [],
   "source": []
  }
 ],
 "metadata": {
  "kernelspec": {
   "display_name": "base",
   "language": "python",
   "name": "python3"
  },
  "language_info": {
   "codemirror_mode": {
    "name": "ipython",
    "version": 3
   },
   "file_extension": ".py",
   "mimetype": "text/x-python",
   "name": "python",
   "nbconvert_exporter": "python",
   "pygments_lexer": "ipython3",
   "version": "3.9.13"
  }
 },
 "nbformat": 4,
 "nbformat_minor": 2
}
